{
 "cells": [
  {
   "cell_type": "code",
   "execution_count": 1,
   "id": "d1b51e1b",
   "metadata": {},
   "outputs": [],
   "source": [
    "import pandas as pd\n",
    "import numpy as np\n",
    "import seaborn as sns\n",
    "import matplotlib.pyplot as plt\n",
    "import warnings"
   ]
  },
  {
   "cell_type": "code",
   "execution_count": 2,
   "id": "4699f0d8",
   "metadata": {},
   "outputs": [],
   "source": [
    "warnings.filterwarnings('ignore')"
   ]
  },
  {
   "cell_type": "code",
   "execution_count": 3,
   "id": "41223d7a",
   "metadata": {},
   "outputs": [],
   "source": [
    "data = pd.read_csv('train.csv')"
   ]
  },
  {
   "cell_type": "code",
   "execution_count": 4,
   "id": "d6061314",
   "metadata": {},
   "outputs": [
    {
     "data": {
      "text/html": [
       "<div>\n",
       "<style scoped>\n",
       "    .dataframe tbody tr th:only-of-type {\n",
       "        vertical-align: middle;\n",
       "    }\n",
       "\n",
       "    .dataframe tbody tr th {\n",
       "        vertical-align: top;\n",
       "    }\n",
       "\n",
       "    .dataframe thead th {\n",
       "        text-align: right;\n",
       "    }\n",
       "</style>\n",
       "<table border=\"1\" class=\"dataframe\">\n",
       "  <thead>\n",
       "    <tr style=\"text-align: right;\">\n",
       "      <th></th>\n",
       "      <th>Item_Identifier</th>\n",
       "      <th>Item_Weight</th>\n",
       "      <th>Item_Fat_Content</th>\n",
       "      <th>Item_Visibility</th>\n",
       "      <th>Item_Type</th>\n",
       "      <th>Item_MRP</th>\n",
       "      <th>Outlet_Identifier</th>\n",
       "      <th>Outlet_Establishment_Year</th>\n",
       "      <th>Outlet_Size</th>\n",
       "      <th>Outlet_Location_Type</th>\n",
       "      <th>Outlet_Type</th>\n",
       "      <th>Item_Outlet_Sales</th>\n",
       "    </tr>\n",
       "  </thead>\n",
       "  <tbody>\n",
       "    <tr>\n",
       "      <th>6819</th>\n",
       "      <td>NCP42</td>\n",
       "      <td>8.51</td>\n",
       "      <td>Low Fat</td>\n",
       "      <td>0.016136</td>\n",
       "      <td>Household</td>\n",
       "      <td>195.6478</td>\n",
       "      <td>OUT049</td>\n",
       "      <td>1999</td>\n",
       "      <td>Medium</td>\n",
       "      <td>Tier 1</td>\n",
       "      <td>Supermarket Type1</td>\n",
       "      <td>4262.4516</td>\n",
       "    </tr>\n",
       "    <tr>\n",
       "      <th>7990</th>\n",
       "      <td>DRK12</td>\n",
       "      <td>9.50</td>\n",
       "      <td>Low Fat</td>\n",
       "      <td>0.041971</td>\n",
       "      <td>Soft Drinks</td>\n",
       "      <td>33.3900</td>\n",
       "      <td>OUT045</td>\n",
       "      <td>2002</td>\n",
       "      <td>NaN</td>\n",
       "      <td>Tier 2</td>\n",
       "      <td>Supermarket Type1</td>\n",
       "      <td>732.3800</td>\n",
       "    </tr>\n",
       "    <tr>\n",
       "      <th>6581</th>\n",
       "      <td>FDW47</td>\n",
       "      <td>NaN</td>\n",
       "      <td>Low Fat</td>\n",
       "      <td>0.081197</td>\n",
       "      <td>Breads</td>\n",
       "      <td>121.7414</td>\n",
       "      <td>OUT019</td>\n",
       "      <td>1985</td>\n",
       "      <td>Small</td>\n",
       "      <td>Tier 1</td>\n",
       "      <td>Grocery Store</td>\n",
       "      <td>365.5242</td>\n",
       "    </tr>\n",
       "    <tr>\n",
       "      <th>3919</th>\n",
       "      <td>FDW07</td>\n",
       "      <td>18.00</td>\n",
       "      <td>Regular</td>\n",
       "      <td>0.142570</td>\n",
       "      <td>Fruits and Vegetables</td>\n",
       "      <td>88.2514</td>\n",
       "      <td>OUT013</td>\n",
       "      <td>1987</td>\n",
       "      <td>High</td>\n",
       "      <td>Tier 3</td>\n",
       "      <td>Supermarket Type1</td>\n",
       "      <td>1505.3738</td>\n",
       "    </tr>\n",
       "    <tr>\n",
       "      <th>5663</th>\n",
       "      <td>DRE27</td>\n",
       "      <td>11.85</td>\n",
       "      <td>Low Fat</td>\n",
       "      <td>0.132645</td>\n",
       "      <td>Dairy</td>\n",
       "      <td>96.9726</td>\n",
       "      <td>OUT035</td>\n",
       "      <td>2004</td>\n",
       "      <td>Small</td>\n",
       "      <td>Tier 2</td>\n",
       "      <td>Supermarket Type1</td>\n",
       "      <td>1174.4712</td>\n",
       "    </tr>\n",
       "  </tbody>\n",
       "</table>\n",
       "</div>"
      ],
      "text/plain": [
       "     Item_Identifier  Item_Weight Item_Fat_Content  Item_Visibility  \\\n",
       "6819           NCP42         8.51          Low Fat         0.016136   \n",
       "7990           DRK12         9.50          Low Fat         0.041971   \n",
       "6581           FDW47          NaN          Low Fat         0.081197   \n",
       "3919           FDW07        18.00          Regular         0.142570   \n",
       "5663           DRE27        11.85          Low Fat         0.132645   \n",
       "\n",
       "                  Item_Type  Item_MRP Outlet_Identifier  \\\n",
       "6819              Household  195.6478            OUT049   \n",
       "7990            Soft Drinks   33.3900            OUT045   \n",
       "6581                 Breads  121.7414            OUT019   \n",
       "3919  Fruits and Vegetables   88.2514            OUT013   \n",
       "5663                  Dairy   96.9726            OUT035   \n",
       "\n",
       "      Outlet_Establishment_Year Outlet_Size Outlet_Location_Type  \\\n",
       "6819                       1999      Medium               Tier 1   \n",
       "7990                       2002         NaN               Tier 2   \n",
       "6581                       1985       Small               Tier 1   \n",
       "3919                       1987        High               Tier 3   \n",
       "5663                       2004       Small               Tier 2   \n",
       "\n",
       "            Outlet_Type  Item_Outlet_Sales  \n",
       "6819  Supermarket Type1          4262.4516  \n",
       "7990  Supermarket Type1           732.3800  \n",
       "6581      Grocery Store           365.5242  \n",
       "3919  Supermarket Type1          1505.3738  \n",
       "5663  Supermarket Type1          1174.4712  "
      ]
     },
     "execution_count": 4,
     "metadata": {},
     "output_type": "execute_result"
    }
   ],
   "source": [
    "data.sample(5)"
   ]
  },
  {
   "cell_type": "code",
   "execution_count": 5,
   "id": "0161ba80",
   "metadata": {},
   "outputs": [
    {
     "data": {
      "text/plain": [
       "(8523, 12)"
      ]
     },
     "execution_count": 5,
     "metadata": {},
     "output_type": "execute_result"
    }
   ],
   "source": [
    "data.shape"
   ]
  },
  {
   "cell_type": "code",
   "execution_count": 7,
   "id": "75a7055e",
   "metadata": {},
   "outputs": [
    {
     "data": {
      "text/html": [
       "<div>\n",
       "<style scoped>\n",
       "    .dataframe tbody tr th:only-of-type {\n",
       "        vertical-align: middle;\n",
       "    }\n",
       "\n",
       "    .dataframe tbody tr th {\n",
       "        vertical-align: top;\n",
       "    }\n",
       "\n",
       "    .dataframe thead th {\n",
       "        text-align: right;\n",
       "    }\n",
       "</style>\n",
       "<table border=\"1\" class=\"dataframe\">\n",
       "  <thead>\n",
       "    <tr style=\"text-align: right;\">\n",
       "      <th></th>\n",
       "      <th>Item_Weight</th>\n",
       "      <th>Item_Visibility</th>\n",
       "      <th>Item_MRP</th>\n",
       "      <th>Outlet_Establishment_Year</th>\n",
       "      <th>Item_Outlet_Sales</th>\n",
       "    </tr>\n",
       "  </thead>\n",
       "  <tbody>\n",
       "    <tr>\n",
       "      <th>count</th>\n",
       "      <td>7060.000000</td>\n",
       "      <td>8523.000000</td>\n",
       "      <td>8523.000000</td>\n",
       "      <td>8523.000000</td>\n",
       "      <td>8523.000000</td>\n",
       "    </tr>\n",
       "    <tr>\n",
       "      <th>mean</th>\n",
       "      <td>12.857645</td>\n",
       "      <td>0.066132</td>\n",
       "      <td>140.992782</td>\n",
       "      <td>1997.831867</td>\n",
       "      <td>2181.288914</td>\n",
       "    </tr>\n",
       "    <tr>\n",
       "      <th>std</th>\n",
       "      <td>4.643456</td>\n",
       "      <td>0.051598</td>\n",
       "      <td>62.275067</td>\n",
       "      <td>8.371760</td>\n",
       "      <td>1706.499616</td>\n",
       "    </tr>\n",
       "    <tr>\n",
       "      <th>min</th>\n",
       "      <td>4.555000</td>\n",
       "      <td>0.000000</td>\n",
       "      <td>31.290000</td>\n",
       "      <td>1985.000000</td>\n",
       "      <td>33.290000</td>\n",
       "    </tr>\n",
       "    <tr>\n",
       "      <th>25%</th>\n",
       "      <td>8.773750</td>\n",
       "      <td>0.026989</td>\n",
       "      <td>93.826500</td>\n",
       "      <td>1987.000000</td>\n",
       "      <td>834.247400</td>\n",
       "    </tr>\n",
       "    <tr>\n",
       "      <th>50%</th>\n",
       "      <td>12.600000</td>\n",
       "      <td>0.053931</td>\n",
       "      <td>143.012800</td>\n",
       "      <td>1999.000000</td>\n",
       "      <td>1794.331000</td>\n",
       "    </tr>\n",
       "    <tr>\n",
       "      <th>75%</th>\n",
       "      <td>16.850000</td>\n",
       "      <td>0.094585</td>\n",
       "      <td>185.643700</td>\n",
       "      <td>2004.000000</td>\n",
       "      <td>3101.296400</td>\n",
       "    </tr>\n",
       "    <tr>\n",
       "      <th>max</th>\n",
       "      <td>21.350000</td>\n",
       "      <td>0.328391</td>\n",
       "      <td>266.888400</td>\n",
       "      <td>2009.000000</td>\n",
       "      <td>13086.964800</td>\n",
       "    </tr>\n",
       "  </tbody>\n",
       "</table>\n",
       "</div>"
      ],
      "text/plain": [
       "       Item_Weight  Item_Visibility     Item_MRP  Outlet_Establishment_Year  \\\n",
       "count  7060.000000      8523.000000  8523.000000                8523.000000   \n",
       "mean     12.857645         0.066132   140.992782                1997.831867   \n",
       "std       4.643456         0.051598    62.275067                   8.371760   \n",
       "min       4.555000         0.000000    31.290000                1985.000000   \n",
       "25%       8.773750         0.026989    93.826500                1987.000000   \n",
       "50%      12.600000         0.053931   143.012800                1999.000000   \n",
       "75%      16.850000         0.094585   185.643700                2004.000000   \n",
       "max      21.350000         0.328391   266.888400                2009.000000   \n",
       "\n",
       "       Item_Outlet_Sales  \n",
       "count        8523.000000  \n",
       "mean         2181.288914  \n",
       "std          1706.499616  \n",
       "min            33.290000  \n",
       "25%           834.247400  \n",
       "50%          1794.331000  \n",
       "75%          3101.296400  \n",
       "max         13086.964800  "
      ]
     },
     "execution_count": 7,
     "metadata": {},
     "output_type": "execute_result"
    }
   ],
   "source": [
    "data.describe()"
   ]
  },
  {
   "cell_type": "code",
   "execution_count": 8,
   "id": "72d1bc15",
   "metadata": {},
   "outputs": [
    {
     "data": {
      "text/html": [
       "<div>\n",
       "<style scoped>\n",
       "    .dataframe tbody tr th:only-of-type {\n",
       "        vertical-align: middle;\n",
       "    }\n",
       "\n",
       "    .dataframe tbody tr th {\n",
       "        vertical-align: top;\n",
       "    }\n",
       "\n",
       "    .dataframe thead th {\n",
       "        text-align: right;\n",
       "    }\n",
       "</style>\n",
       "<table border=\"1\" class=\"dataframe\">\n",
       "  <thead>\n",
       "    <tr style=\"text-align: right;\">\n",
       "      <th></th>\n",
       "      <th>Item_Identifier</th>\n",
       "      <th>Item_Weight</th>\n",
       "      <th>Item_Fat_Content</th>\n",
       "      <th>Item_Visibility</th>\n",
       "      <th>Item_Type</th>\n",
       "      <th>Item_MRP</th>\n",
       "      <th>Outlet_Identifier</th>\n",
       "      <th>Outlet_Establishment_Year</th>\n",
       "      <th>Outlet_Size</th>\n",
       "      <th>Outlet_Location_Type</th>\n",
       "      <th>Outlet_Type</th>\n",
       "      <th>Item_Outlet_Sales</th>\n",
       "    </tr>\n",
       "  </thead>\n",
       "  <tbody>\n",
       "    <tr>\n",
       "      <th>0</th>\n",
       "      <td>False</td>\n",
       "      <td>False</td>\n",
       "      <td>False</td>\n",
       "      <td>False</td>\n",
       "      <td>False</td>\n",
       "      <td>False</td>\n",
       "      <td>False</td>\n",
       "      <td>False</td>\n",
       "      <td>False</td>\n",
       "      <td>False</td>\n",
       "      <td>False</td>\n",
       "      <td>False</td>\n",
       "    </tr>\n",
       "    <tr>\n",
       "      <th>1</th>\n",
       "      <td>False</td>\n",
       "      <td>False</td>\n",
       "      <td>False</td>\n",
       "      <td>False</td>\n",
       "      <td>False</td>\n",
       "      <td>False</td>\n",
       "      <td>False</td>\n",
       "      <td>False</td>\n",
       "      <td>False</td>\n",
       "      <td>False</td>\n",
       "      <td>False</td>\n",
       "      <td>False</td>\n",
       "    </tr>\n",
       "    <tr>\n",
       "      <th>2</th>\n",
       "      <td>False</td>\n",
       "      <td>False</td>\n",
       "      <td>False</td>\n",
       "      <td>False</td>\n",
       "      <td>False</td>\n",
       "      <td>False</td>\n",
       "      <td>False</td>\n",
       "      <td>False</td>\n",
       "      <td>False</td>\n",
       "      <td>False</td>\n",
       "      <td>False</td>\n",
       "      <td>False</td>\n",
       "    </tr>\n",
       "    <tr>\n",
       "      <th>3</th>\n",
       "      <td>False</td>\n",
       "      <td>False</td>\n",
       "      <td>False</td>\n",
       "      <td>False</td>\n",
       "      <td>False</td>\n",
       "      <td>False</td>\n",
       "      <td>False</td>\n",
       "      <td>False</td>\n",
       "      <td>True</td>\n",
       "      <td>False</td>\n",
       "      <td>False</td>\n",
       "      <td>False</td>\n",
       "    </tr>\n",
       "    <tr>\n",
       "      <th>4</th>\n",
       "      <td>False</td>\n",
       "      <td>False</td>\n",
       "      <td>False</td>\n",
       "      <td>False</td>\n",
       "      <td>False</td>\n",
       "      <td>False</td>\n",
       "      <td>False</td>\n",
       "      <td>False</td>\n",
       "      <td>False</td>\n",
       "      <td>False</td>\n",
       "      <td>False</td>\n",
       "      <td>False</td>\n",
       "    </tr>\n",
       "    <tr>\n",
       "      <th>...</th>\n",
       "      <td>...</td>\n",
       "      <td>...</td>\n",
       "      <td>...</td>\n",
       "      <td>...</td>\n",
       "      <td>...</td>\n",
       "      <td>...</td>\n",
       "      <td>...</td>\n",
       "      <td>...</td>\n",
       "      <td>...</td>\n",
       "      <td>...</td>\n",
       "      <td>...</td>\n",
       "      <td>...</td>\n",
       "    </tr>\n",
       "    <tr>\n",
       "      <th>8518</th>\n",
       "      <td>False</td>\n",
       "      <td>False</td>\n",
       "      <td>False</td>\n",
       "      <td>False</td>\n",
       "      <td>False</td>\n",
       "      <td>False</td>\n",
       "      <td>False</td>\n",
       "      <td>False</td>\n",
       "      <td>False</td>\n",
       "      <td>False</td>\n",
       "      <td>False</td>\n",
       "      <td>False</td>\n",
       "    </tr>\n",
       "    <tr>\n",
       "      <th>8519</th>\n",
       "      <td>False</td>\n",
       "      <td>False</td>\n",
       "      <td>False</td>\n",
       "      <td>False</td>\n",
       "      <td>False</td>\n",
       "      <td>False</td>\n",
       "      <td>False</td>\n",
       "      <td>False</td>\n",
       "      <td>True</td>\n",
       "      <td>False</td>\n",
       "      <td>False</td>\n",
       "      <td>False</td>\n",
       "    </tr>\n",
       "    <tr>\n",
       "      <th>8520</th>\n",
       "      <td>False</td>\n",
       "      <td>False</td>\n",
       "      <td>False</td>\n",
       "      <td>False</td>\n",
       "      <td>False</td>\n",
       "      <td>False</td>\n",
       "      <td>False</td>\n",
       "      <td>False</td>\n",
       "      <td>False</td>\n",
       "      <td>False</td>\n",
       "      <td>False</td>\n",
       "      <td>False</td>\n",
       "    </tr>\n",
       "    <tr>\n",
       "      <th>8521</th>\n",
       "      <td>False</td>\n",
       "      <td>False</td>\n",
       "      <td>False</td>\n",
       "      <td>False</td>\n",
       "      <td>False</td>\n",
       "      <td>False</td>\n",
       "      <td>False</td>\n",
       "      <td>False</td>\n",
       "      <td>False</td>\n",
       "      <td>False</td>\n",
       "      <td>False</td>\n",
       "      <td>False</td>\n",
       "    </tr>\n",
       "    <tr>\n",
       "      <th>8522</th>\n",
       "      <td>False</td>\n",
       "      <td>False</td>\n",
       "      <td>False</td>\n",
       "      <td>False</td>\n",
       "      <td>False</td>\n",
       "      <td>False</td>\n",
       "      <td>False</td>\n",
       "      <td>False</td>\n",
       "      <td>False</td>\n",
       "      <td>False</td>\n",
       "      <td>False</td>\n",
       "      <td>False</td>\n",
       "    </tr>\n",
       "  </tbody>\n",
       "</table>\n",
       "<p>8523 rows × 12 columns</p>\n",
       "</div>"
      ],
      "text/plain": [
       "      Item_Identifier  Item_Weight  Item_Fat_Content  Item_Visibility  \\\n",
       "0               False        False             False            False   \n",
       "1               False        False             False            False   \n",
       "2               False        False             False            False   \n",
       "3               False        False             False            False   \n",
       "4               False        False             False            False   \n",
       "...               ...          ...               ...              ...   \n",
       "8518            False        False             False            False   \n",
       "8519            False        False             False            False   \n",
       "8520            False        False             False            False   \n",
       "8521            False        False             False            False   \n",
       "8522            False        False             False            False   \n",
       "\n",
       "      Item_Type  Item_MRP  Outlet_Identifier  Outlet_Establishment_Year  \\\n",
       "0         False     False              False                      False   \n",
       "1         False     False              False                      False   \n",
       "2         False     False              False                      False   \n",
       "3         False     False              False                      False   \n",
       "4         False     False              False                      False   \n",
       "...         ...       ...                ...                        ...   \n",
       "8518      False     False              False                      False   \n",
       "8519      False     False              False                      False   \n",
       "8520      False     False              False                      False   \n",
       "8521      False     False              False                      False   \n",
       "8522      False     False              False                      False   \n",
       "\n",
       "      Outlet_Size  Outlet_Location_Type  Outlet_Type  Item_Outlet_Sales  \n",
       "0           False                 False        False              False  \n",
       "1           False                 False        False              False  \n",
       "2           False                 False        False              False  \n",
       "3            True                 False        False              False  \n",
       "4           False                 False        False              False  \n",
       "...           ...                   ...          ...                ...  \n",
       "8518        False                 False        False              False  \n",
       "8519         True                 False        False              False  \n",
       "8520        False                 False        False              False  \n",
       "8521        False                 False        False              False  \n",
       "8522        False                 False        False              False  \n",
       "\n",
       "[8523 rows x 12 columns]"
      ]
     },
     "execution_count": 8,
     "metadata": {},
     "output_type": "execute_result"
    }
   ],
   "source": [
    "data.isnull()"
   ]
  },
  {
   "cell_type": "code",
   "execution_count": 9,
   "id": "64f2ba3c",
   "metadata": {},
   "outputs": [
    {
     "data": {
      "text/plain": [
       "Item_Identifier                 0\n",
       "Item_Weight                  1463\n",
       "Item_Fat_Content                0\n",
       "Item_Visibility                 0\n",
       "Item_Type                       0\n",
       "Item_MRP                        0\n",
       "Outlet_Identifier               0\n",
       "Outlet_Establishment_Year       0\n",
       "Outlet_Size                  2410\n",
       "Outlet_Location_Type            0\n",
       "Outlet_Type                     0\n",
       "Item_Outlet_Sales               0\n",
       "dtype: int64"
      ]
     },
     "execution_count": 9,
     "metadata": {},
     "output_type": "execute_result"
    }
   ],
   "source": [
    "data.isnull().sum()"
   ]
  },
  {
   "cell_type": "code",
   "execution_count": 10,
   "id": "847a7020",
   "metadata": {},
   "outputs": [],
   "source": [
    "percent = data.isnull().sum()*100/len(data)"
   ]
  },
  {
   "cell_type": "code",
   "execution_count": 11,
   "id": "327e293b",
   "metadata": {},
   "outputs": [
    {
     "name": "stdout",
     "output_type": "stream",
     "text": [
      "Item_Identifier               0.000000\n",
      "Item_Weight                  17.165317\n",
      "Item_Fat_Content              0.000000\n",
      "Item_Visibility               0.000000\n",
      "Item_Type                     0.000000\n",
      "Item_MRP                      0.000000\n",
      "Outlet_Identifier             0.000000\n",
      "Outlet_Establishment_Year     0.000000\n",
      "Outlet_Size                  28.276428\n",
      "Outlet_Location_Type          0.000000\n",
      "Outlet_Type                   0.000000\n",
      "Item_Outlet_Sales             0.000000\n",
      "dtype: float64\n"
     ]
    }
   ],
   "source": [
    "print(percent)"
   ]
  },
  {
   "cell_type": "code",
   "execution_count": 12,
   "id": "893b16fa",
   "metadata": {},
   "outputs": [
    {
     "data": {
      "text/plain": [
       "0       False\n",
       "1       False\n",
       "2       False\n",
       "3       False\n",
       "4       False\n",
       "        ...  \n",
       "8518    False\n",
       "8519    False\n",
       "8520    False\n",
       "8521    False\n",
       "8522    False\n",
       "Length: 8523, dtype: bool"
      ]
     },
     "execution_count": 12,
     "metadata": {},
     "output_type": "execute_result"
    }
   ],
   "source": [
    "data.duplicated()"
   ]
  },
  {
   "cell_type": "code",
   "execution_count": 15,
   "id": "3088ff5f",
   "metadata": {},
   "outputs": [
    {
     "data": {
      "text/plain": [
       "False"
      ]
     },
     "execution_count": 15,
     "metadata": {},
     "output_type": "execute_result"
    }
   ],
   "source": [
    "data.duplicated().any()"
   ]
  },
  {
   "cell_type": "code",
   "execution_count": 16,
   "id": "a6f9a492",
   "metadata": {},
   "outputs": [
    {
     "data": {
      "text/plain": [
       "0        9.300\n",
       "1        5.920\n",
       "2       17.500\n",
       "3       19.200\n",
       "4        8.930\n",
       "         ...  \n",
       "8518     6.865\n",
       "8519     8.380\n",
       "8520    10.600\n",
       "8521     7.210\n",
       "8522    14.800\n",
       "Name: Item_Weight, Length: 8523, dtype: float64"
      ]
     },
     "execution_count": 16,
     "metadata": {},
     "output_type": "execute_result"
    }
   ],
   "source": [
    "data['Item_Weight']"
   ]
  },
  {
   "cell_type": "code",
   "execution_count": 17,
   "id": "aaa9d247",
   "metadata": {},
   "outputs": [
    {
     "data": {
      "text/plain": [
       "0       Medium\n",
       "1       Medium\n",
       "2       Medium\n",
       "3          NaN\n",
       "4         High\n",
       "         ...  \n",
       "8518      High\n",
       "8519       NaN\n",
       "8520     Small\n",
       "8521    Medium\n",
       "8522     Small\n",
       "Name: Outlet_Size, Length: 8523, dtype: object"
      ]
     },
     "execution_count": 17,
     "metadata": {},
     "output_type": "execute_result"
    }
   ],
   "source": [
    "data['Outlet_Size']"
   ]
  },
  {
   "cell_type": "code",
   "execution_count": 18,
   "id": "08a4223e",
   "metadata": {},
   "outputs": [
    {
     "data": {
      "text/plain": [
       "0        9.300\n",
       "1        5.920\n",
       "2       17.500\n",
       "3       19.200\n",
       "4        8.930\n",
       "         ...  \n",
       "8518     6.865\n",
       "8519     8.380\n",
       "8520    10.600\n",
       "8521     7.210\n",
       "8522    14.800\n",
       "Name: Item_Weight, Length: 8523, dtype: float64"
      ]
     },
     "execution_count": 18,
     "metadata": {},
     "output_type": "execute_result"
    }
   ],
   "source": [
    "data['Item_Weight']"
   ]
  },
  {
   "cell_type": "code",
   "execution_count": 19,
   "id": "3fc34f36",
   "metadata": {},
   "outputs": [],
   "source": [
    "mean_weight = data['Item_Weight'].mean()"
   ]
  },
  {
   "cell_type": "code",
   "execution_count": 20,
   "id": "0dfa4286",
   "metadata": {},
   "outputs": [],
   "source": [
    "median_weight = data['Item_Weight'].median()"
   ]
  },
  {
   "cell_type": "code",
   "execution_count": 21,
   "id": "b82de16a",
   "metadata": {},
   "outputs": [
    {
     "name": "stdout",
     "output_type": "stream",
     "text": [
      "12.857645184135976 12.6\n"
     ]
    }
   ],
   "source": [
    "print(mean_weight,median_weight)"
   ]
  },
  {
   "cell_type": "code",
   "execution_count": 22,
   "id": "be99917a",
   "metadata": {},
   "outputs": [],
   "source": [
    "data['Item_Weight_mean']=data['Item_Weight'].fillna(mean_weight)"
   ]
  },
  {
   "cell_type": "code",
   "execution_count": 23,
   "id": "2ab6c704",
   "metadata": {},
   "outputs": [],
   "source": [
    "data['Item_Weight_median']=data['Item_Weight'].fillna(median_weight)"
   ]
  },
  {
   "cell_type": "code",
   "execution_count": 24,
   "id": "574a71bf",
   "metadata": {},
   "outputs": [
    {
     "data": {
      "text/html": [
       "<div>\n",
       "<style scoped>\n",
       "    .dataframe tbody tr th:only-of-type {\n",
       "        vertical-align: middle;\n",
       "    }\n",
       "\n",
       "    .dataframe tbody tr th {\n",
       "        vertical-align: top;\n",
       "    }\n",
       "\n",
       "    .dataframe thead th {\n",
       "        text-align: right;\n",
       "    }\n",
       "</style>\n",
       "<table border=\"1\" class=\"dataframe\">\n",
       "  <thead>\n",
       "    <tr style=\"text-align: right;\">\n",
       "      <th></th>\n",
       "      <th>Item_Identifier</th>\n",
       "      <th>Item_Weight</th>\n",
       "      <th>Item_Fat_Content</th>\n",
       "      <th>Item_Visibility</th>\n",
       "      <th>Item_Type</th>\n",
       "      <th>Item_MRP</th>\n",
       "      <th>Outlet_Identifier</th>\n",
       "      <th>Outlet_Establishment_Year</th>\n",
       "      <th>Outlet_Size</th>\n",
       "      <th>Outlet_Location_Type</th>\n",
       "      <th>Outlet_Type</th>\n",
       "      <th>Item_Outlet_Sales</th>\n",
       "      <th>Item_Weight_mean</th>\n",
       "      <th>Item_Weight_median</th>\n",
       "    </tr>\n",
       "  </thead>\n",
       "  <tbody>\n",
       "    <tr>\n",
       "      <th>0</th>\n",
       "      <td>FDA15</td>\n",
       "      <td>9.30</td>\n",
       "      <td>Low Fat</td>\n",
       "      <td>0.016047</td>\n",
       "      <td>Dairy</td>\n",
       "      <td>249.8092</td>\n",
       "      <td>OUT049</td>\n",
       "      <td>1999</td>\n",
       "      <td>Medium</td>\n",
       "      <td>Tier 1</td>\n",
       "      <td>Supermarket Type1</td>\n",
       "      <td>3735.1380</td>\n",
       "      <td>9.30</td>\n",
       "      <td>9.30</td>\n",
       "    </tr>\n",
       "    <tr>\n",
       "      <th>1</th>\n",
       "      <td>DRC01</td>\n",
       "      <td>5.92</td>\n",
       "      <td>Regular</td>\n",
       "      <td>0.019278</td>\n",
       "      <td>Soft Drinks</td>\n",
       "      <td>48.2692</td>\n",
       "      <td>OUT018</td>\n",
       "      <td>2009</td>\n",
       "      <td>Medium</td>\n",
       "      <td>Tier 3</td>\n",
       "      <td>Supermarket Type2</td>\n",
       "      <td>443.4228</td>\n",
       "      <td>5.92</td>\n",
       "      <td>5.92</td>\n",
       "    </tr>\n",
       "    <tr>\n",
       "      <th>2</th>\n",
       "      <td>FDN15</td>\n",
       "      <td>17.50</td>\n",
       "      <td>Low Fat</td>\n",
       "      <td>0.016760</td>\n",
       "      <td>Meat</td>\n",
       "      <td>141.6180</td>\n",
       "      <td>OUT049</td>\n",
       "      <td>1999</td>\n",
       "      <td>Medium</td>\n",
       "      <td>Tier 1</td>\n",
       "      <td>Supermarket Type1</td>\n",
       "      <td>2097.2700</td>\n",
       "      <td>17.50</td>\n",
       "      <td>17.50</td>\n",
       "    </tr>\n",
       "    <tr>\n",
       "      <th>3</th>\n",
       "      <td>FDX07</td>\n",
       "      <td>19.20</td>\n",
       "      <td>Regular</td>\n",
       "      <td>0.000000</td>\n",
       "      <td>Fruits and Vegetables</td>\n",
       "      <td>182.0950</td>\n",
       "      <td>OUT010</td>\n",
       "      <td>1998</td>\n",
       "      <td>NaN</td>\n",
       "      <td>Tier 3</td>\n",
       "      <td>Grocery Store</td>\n",
       "      <td>732.3800</td>\n",
       "      <td>19.20</td>\n",
       "      <td>19.20</td>\n",
       "    </tr>\n",
       "    <tr>\n",
       "      <th>4</th>\n",
       "      <td>NCD19</td>\n",
       "      <td>8.93</td>\n",
       "      <td>Low Fat</td>\n",
       "      <td>0.000000</td>\n",
       "      <td>Household</td>\n",
       "      <td>53.8614</td>\n",
       "      <td>OUT013</td>\n",
       "      <td>1987</td>\n",
       "      <td>High</td>\n",
       "      <td>Tier 3</td>\n",
       "      <td>Supermarket Type1</td>\n",
       "      <td>994.7052</td>\n",
       "      <td>8.93</td>\n",
       "      <td>8.93</td>\n",
       "    </tr>\n",
       "  </tbody>\n",
       "</table>\n",
       "</div>"
      ],
      "text/plain": [
       "  Item_Identifier  Item_Weight Item_Fat_Content  Item_Visibility  \\\n",
       "0           FDA15         9.30          Low Fat         0.016047   \n",
       "1           DRC01         5.92          Regular         0.019278   \n",
       "2           FDN15        17.50          Low Fat         0.016760   \n",
       "3           FDX07        19.20          Regular         0.000000   \n",
       "4           NCD19         8.93          Low Fat         0.000000   \n",
       "\n",
       "               Item_Type  Item_MRP Outlet_Identifier  \\\n",
       "0                  Dairy  249.8092            OUT049   \n",
       "1            Soft Drinks   48.2692            OUT018   \n",
       "2                   Meat  141.6180            OUT049   \n",
       "3  Fruits and Vegetables  182.0950            OUT010   \n",
       "4              Household   53.8614            OUT013   \n",
       "\n",
       "   Outlet_Establishment_Year Outlet_Size Outlet_Location_Type  \\\n",
       "0                       1999      Medium               Tier 1   \n",
       "1                       2009      Medium               Tier 3   \n",
       "2                       1999      Medium               Tier 1   \n",
       "3                       1998         NaN               Tier 3   \n",
       "4                       1987        High               Tier 3   \n",
       "\n",
       "         Outlet_Type  Item_Outlet_Sales  Item_Weight_mean  Item_Weight_median  \n",
       "0  Supermarket Type1          3735.1380              9.30                9.30  \n",
       "1  Supermarket Type2           443.4228              5.92                5.92  \n",
       "2  Supermarket Type1          2097.2700             17.50               17.50  \n",
       "3      Grocery Store           732.3800             19.20               19.20  \n",
       "4  Supermarket Type1           994.7052              8.93                8.93  "
      ]
     },
     "execution_count": 24,
     "metadata": {},
     "output_type": "execute_result"
    }
   ],
   "source": [
    "data.head(5)"
   ]
  },
  {
   "cell_type": "code",
   "execution_count": 25,
   "id": "d08db65f",
   "metadata": {},
   "outputs": [
    {
     "name": "stdout",
     "output_type": "stream",
     "text": [
      "Intial Weight Variance 21.56168825983637\n",
      "Variance post mean imputation 17.860121735060453\n",
      "Variance post median imputation 17.869561454073366\n"
     ]
    }
   ],
   "source": [
    "print(\"Intial Weight Variance\",data['Item_Weight'].var())\n",
    "print(\"Variance post mean imputation\",data['Item_Weight_mean'].var())\n",
    "print(\"Variance post median imputation\",data['Item_Weight_median'].var())"
   ]
  },
  {
   "cell_type": "code",
   "execution_count": 26,
   "id": "de5abd2b",
   "metadata": {},
   "outputs": [
    {
     "data": {
      "image/png": "[encoded data removed]",
      "text/plain": [
       "<Figure size 640x480 with 1 Axes>"
      ]
     },
     "metadata": {},
     "output_type": "display_data"
    }
   ],
   "source": [
    "data['Item_Weight'].plot(kind = \"kde\",label=\"Original\")\n",
    "\n",
    "data['Item_Weight_mean'].plot(kind = \"kde\",label = \"Mean\")\n",
    "\n",
    "data['Item_Weight_median'].plot(kind = \"kde\",label = \"Median\")\n",
    "\n",
    "plt.legend()\n",
    "plt.show()"
   ]
  },
  {
   "cell_type": "code",
   "execution_count": 35,
   "id": "5c24e5d3",
   "metadata": {},
   "outputs": [
    {
     "data": {
      "text/plain": [
       "<Axes: >"
      ]
     },
     "execution_count": 35,
     "metadata": {},
     "output_type": "execute_result"
    },
    {
     "data": {
      "image/png": "[encoded data removed]",
      "text/plain": [
       "<Figure size 640x480 with 1 Axes>"
      ]
     },
     "metadata": {},
     "output_type": "display_data"
    }
   ],
   "source": [
    "data[['Item_Weight','Item_Weight_mean','Item_Weight_median']].boxplot()"
   ]
  },
  {
   "cell_type": "code",
   "execution_count": 36,
   "id": "dc58c4ca",
   "metadata": {},
   "outputs": [
    {
     "data": {
      "image/png": "[encoded data removed]",
      "text/plain": [
       "<Figure size 640x480 with 1 Axes>"
      ]
     },
     "metadata": {},
     "output_type": "display_data"
    }
   ],
   "source": [
    "sns.violinplot(x='Item_Weight', data=data)\n",
    "\n",
    "plt.title('Violin Plot of Data Distribution')\n",
    "\n",
    "plt.show()"
   ]
  },
  {
   "cell_type": "code",
   "execution_count": 37,
   "id": "a9e44872",
   "metadata": {},
   "outputs": [
    {
     "data": {
      "image/png": "[encoded data removed]",
      "text/plain": [
       "<Figure size 640x480 with 1 Axes>"
      ]
     },
     "metadata": {},
     "output_type": "display_data"
    }
   ],
   "source": [
    "sns.violinplot(x='Item_Weight_mean', data=data)\n",
    "\n",
    "plt.title('Violin Plot of Item_Weight_mean Distribution')\n",
    "\n",
    "plt.show()"
   ]
  },
  {
   "cell_type": "code",
   "execution_count": 38,
   "id": "8d05bd29",
   "metadata": {},
   "outputs": [
    {
     "data": {
      "image/png": "[encoded data removed]",
      "text/plain": [
       "<Figure size 640x480 with 1 Axes>"
      ]
     },
     "metadata": {},
     "output_type": "display_data"
    }
   ],
   "source": [
    "sns.violinplot(x='Item_Weight_median', data=data)\n",
    "\n",
    "plt.title('Violin Plot of Item_Weight_me Distribution')\n",
    "\n",
    "plt.show()"
   ]
  },
  {
   "cell_type": "code",
   "execution_count": 40,
   "id": "d4dd2548",
   "metadata": {},
   "outputs": [
    {
     "data": {
      "image/png": "[encoded data removed]",
      "text/plain": [
       "<Figure size 640x480 with 1 Axes>"
      ]
     },
     "metadata": {},
     "output_type": "display_data"
    }
   ],
   "source": [
    "concatenated_data = pd.concat([data['Item_Weight'], data['Item_Weight_mean'], data['Item_Weight_median']], axis=1)\n",
    "concatenated_data.columns = ['Item_Weight', 'Item_Weight_mean', 'Item_Weight_median']\n",
    "\n",
    "\n",
    "melted_data = concatenated_data.melt(var_name='Statistic', value_name='Weight')\n",
    "\n",
    "\n",
    "sns.violinplot(x='Statistic', y='Weight', data=melted_data)\n",
    "\n",
    "\n",
    "plt.xlabel('Statistic')\n",
    "plt.ylabel('Weight')\n",
    "plt.title('Violin Plot of Item Weight, Mean, and Median')\n",
    "\n",
    "\n",
    "plt.show()"
   ]
  },
  {
   "cell_type": "code",
   "execution_count": 41,
   "id": "bd6afb2b",
   "metadata": {},
   "outputs": [],
   "source": [
    "data['Item_Weight_interploate']=data['Item_Weight'].interpolate(method=\"linear\")"
   ]
  },
  {
   "cell_type": "code",
   "execution_count": 42,
   "id": "ddee1981",
   "metadata": {},
   "outputs": [
    {
     "data": {
      "image/png": "[encoded data removed]",
      "text/plain": [
       "<Figure size 640x480 with 1 Axes>"
      ]
     },
     "metadata": {},
     "output_type": "display_data"
    }
   ],
   "source": [
    "data['Item_Weight'].plot(kind = \"kde\",label=\"Original\")\n",
    "\n",
    "data['Item_Weight_interploate'].plot(kind = \"kde\",label = \"interploate\")\n",
    "\n",
    "plt.legend()\n",
    "plt.show()"
   ]
  },
  {
   "cell_type": "code",
   "execution_count": 43,
   "id": "924be760",
   "metadata": {},
   "outputs": [],
   "source": [
    "from sklearn.impute import KNNImputer"
   ]
  },
  {
   "cell_type": "code",
   "execution_count": 44,
   "id": "b9d393bc",
   "metadata": {},
   "outputs": [],
   "source": [
    "knn = KNNImputer(n_neighbors=10,weights=\"distance\")"
   ]
  },
  {
   "cell_type": "code",
   "execution_count": 45,
   "id": "c288c97d",
   "metadata": {},
   "outputs": [],
   "source": [
    "data['knn_imputer']= knn.fit_transform(data[['Item_Weight']]).ravel()"
   ]
  },
  {
   "cell_type": "code",
   "execution_count": 46,
   "id": "46304c33",
   "metadata": {},
   "outputs": [
    {
     "data": {
      "image/png": "[encoded data removed]",
      "text/plain": [
       "<Figure size 640x480 with 1 Axes>"
      ]
     },
     "metadata": {},
     "output_type": "display_data"
    }
   ],
   "source": [
    "data['Item_Weight'].plot(kind = \"kde\",label=\"Original\")\n",
    "\n",
    "data['knn_imputer'].plot(kind = \"kde\",label = \"KNN imputer\")\n",
    "\n",
    "plt.legend()\n",
    "plt.show()"
   ]
  },
  {
   "cell_type": "code",
   "execution_count": 47,
   "id": "c5d8c3fa",
   "metadata": {},
   "outputs": [],
   "source": [
    "knn_2 = KNNImputer(n_neighbors=20,weights=\"distance\")"
   ]
  },
  {
   "cell_type": "code",
   "execution_count": 48,
   "id": "e3e75948",
   "metadata": {},
   "outputs": [],
   "source": [
    "data['knn_2_imputer']= knn.fit_transform(data[['Item_Weight']]).ravel()"
   ]
  },
  {
   "cell_type": "code",
   "execution_count": 49,
   "id": "a8ddea35",
   "metadata": {},
   "outputs": [
    {
     "data": {
      "image/png": "[encoded data removed]",
      "text/plain": [
       "<Figure size 640x480 with 1 Axes>"
      ]
     },
     "metadata": {},
     "output_type": "display_data"
    }
   ],
   "source": [
    "data['Item_Weight'].plot(kind = \"kde\",label=\"Original\")\n",
    "\n",
    "data['knn_2_imputer'].plot(kind = \"kde\",label = \"KNN imputer\")\n",
    "\n",
    "plt.legend()\n",
    "plt.show()"
   ]
  },
  {
   "cell_type": "code",
   "execution_count": 55,
   "id": "5e445ba6",
   "metadata": {},
   "outputs": [],
   "source": [
    "data = data.drop(['Item_Weight','Item_Weight_mean','Item_Weight_median','knn_imputer','knn_2_imputer'],axis=1)"
   ]
  },
  {
   "cell_type": "code",
   "execution_count": 56,
   "id": "dad34b6a",
   "metadata": {},
   "outputs": [
    {
     "data": {
      "text/html": [
       "<div>\n",
       "<style scoped>\n",
       "    .dataframe tbody tr th:only-of-type {\n",
       "        vertical-align: middle;\n",
       "    }\n",
       "\n",
       "    .dataframe tbody tr th {\n",
       "        vertical-align: top;\n",
       "    }\n",
       "\n",
       "    .dataframe thead th {\n",
       "        text-align: right;\n",
       "    }\n",
       "</style>\n",
       "<table border=\"1\" class=\"dataframe\">\n",
       "  <thead>\n",
       "    <tr style=\"text-align: right;\">\n",
       "      <th></th>\n",
       "      <th>Item_Identifier</th>\n",
       "      <th>Item_Fat_Content</th>\n",
       "      <th>Item_Visibility</th>\n",
       "      <th>Item_Type</th>\n",
       "      <th>Item_MRP</th>\n",
       "      <th>Outlet_Identifier</th>\n",
       "      <th>Outlet_Establishment_Year</th>\n",
       "      <th>Outlet_Size</th>\n",
       "      <th>Outlet_Location_Type</th>\n",
       "      <th>Outlet_Type</th>\n",
       "      <th>Item_Outlet_Sales</th>\n",
       "      <th>Item_Weight_interploate</th>\n",
       "    </tr>\n",
       "  </thead>\n",
       "  <tbody>\n",
       "    <tr>\n",
       "      <th>0</th>\n",
       "      <td>FDA15</td>\n",
       "      <td>Low Fat</td>\n",
       "      <td>0.016047</td>\n",
       "      <td>Dairy</td>\n",
       "      <td>249.8092</td>\n",
       "      <td>OUT049</td>\n",
       "      <td>1999</td>\n",
       "      <td>Medium</td>\n",
       "      <td>Tier 1</td>\n",
       "      <td>Supermarket Type1</td>\n",
       "      <td>3735.1380</td>\n",
       "      <td>9.30</td>\n",
       "    </tr>\n",
       "    <tr>\n",
       "      <th>1</th>\n",
       "      <td>DRC01</td>\n",
       "      <td>Regular</td>\n",
       "      <td>0.019278</td>\n",
       "      <td>Soft Drinks</td>\n",
       "      <td>48.2692</td>\n",
       "      <td>OUT018</td>\n",
       "      <td>2009</td>\n",
       "      <td>Medium</td>\n",
       "      <td>Tier 3</td>\n",
       "      <td>Supermarket Type2</td>\n",
       "      <td>443.4228</td>\n",
       "      <td>5.92</td>\n",
       "    </tr>\n",
       "    <tr>\n",
       "      <th>2</th>\n",
       "      <td>FDN15</td>\n",
       "      <td>Low Fat</td>\n",
       "      <td>0.016760</td>\n",
       "      <td>Meat</td>\n",
       "      <td>141.6180</td>\n",
       "      <td>OUT049</td>\n",
       "      <td>1999</td>\n",
       "      <td>Medium</td>\n",
       "      <td>Tier 1</td>\n",
       "      <td>Supermarket Type1</td>\n",
       "      <td>2097.2700</td>\n",
       "      <td>17.50</td>\n",
       "    </tr>\n",
       "    <tr>\n",
       "      <th>3</th>\n",
       "      <td>FDX07</td>\n",
       "      <td>Regular</td>\n",
       "      <td>0.000000</td>\n",
       "      <td>Fruits and Vegetables</td>\n",
       "      <td>182.0950</td>\n",
       "      <td>OUT010</td>\n",
       "      <td>1998</td>\n",
       "      <td>NaN</td>\n",
       "      <td>Tier 3</td>\n",
       "      <td>Grocery Store</td>\n",
       "      <td>732.3800</td>\n",
       "      <td>19.20</td>\n",
       "    </tr>\n",
       "    <tr>\n",
       "      <th>4</th>\n",
       "      <td>NCD19</td>\n",
       "      <td>Low Fat</td>\n",
       "      <td>0.000000</td>\n",
       "      <td>Household</td>\n",
       "      <td>53.8614</td>\n",
       "      <td>OUT013</td>\n",
       "      <td>1987</td>\n",
       "      <td>High</td>\n",
       "      <td>Tier 3</td>\n",
       "      <td>Supermarket Type1</td>\n",
       "      <td>994.7052</td>\n",
       "      <td>8.93</td>\n",
       "    </tr>\n",
       "  </tbody>\n",
       "</table>\n",
       "</div>"
      ],
      "text/plain": [
       "  Item_Identifier Item_Fat_Content  Item_Visibility              Item_Type  \\\n",
       "0           FDA15          Low Fat         0.016047                  Dairy   \n",
       "1           DRC01          Regular         0.019278            Soft Drinks   \n",
       "2           FDN15          Low Fat         0.016760                   Meat   \n",
       "3           FDX07          Regular         0.000000  Fruits and Vegetables   \n",
       "4           NCD19          Low Fat         0.000000              Household   \n",
       "\n",
       "   Item_MRP Outlet_Identifier  Outlet_Establishment_Year Outlet_Size  \\\n",
       "0  249.8092            OUT049                       1999      Medium   \n",
       "1   48.2692            OUT018                       2009      Medium   \n",
       "2  141.6180            OUT049                       1999      Medium   \n",
       "3  182.0950            OUT010                       1998         NaN   \n",
       "4   53.8614            OUT013                       1987        High   \n",
       "\n",
       "  Outlet_Location_Type        Outlet_Type  Item_Outlet_Sales  \\\n",
       "0               Tier 1  Supermarket Type1          3735.1380   \n",
       "1               Tier 3  Supermarket Type2           443.4228   \n",
       "2               Tier 1  Supermarket Type1          2097.2700   \n",
       "3               Tier 3      Grocery Store           732.3800   \n",
       "4               Tier 3  Supermarket Type1           994.7052   \n",
       "\n",
       "   Item_Weight_interploate  \n",
       "0                     9.30  \n",
       "1                     5.92  \n",
       "2                    17.50  \n",
       "3                    19.20  \n",
       "4                     8.93  "
      ]
     },
     "execution_count": 56,
     "metadata": {},
     "output_type": "execute_result"
    }
   ],
   "source": [
    "data.head(5)"
   ]
  },
  {
   "cell_type": "code",
   "execution_count": 58,
   "id": "5231e862",
   "metadata": {},
   "outputs": [
    {
     "data": {
      "text/html": [
       "<div>\n",
       "<style scoped>\n",
       "    .dataframe tbody tr th:only-of-type {\n",
       "        vertical-align: middle;\n",
       "    }\n",
       "\n",
       "    .dataframe tbody tr th {\n",
       "        vertical-align: top;\n",
       "    }\n",
       "\n",
       "    .dataframe thead th {\n",
       "        text-align: right;\n",
       "    }\n",
       "</style>\n",
       "<table border=\"1\" class=\"dataframe\">\n",
       "  <thead>\n",
       "    <tr style=\"text-align: right;\">\n",
       "      <th></th>\n",
       "      <th>Item_Identifier</th>\n",
       "      <th>Item_Fat_Content</th>\n",
       "      <th>Item_Visibility</th>\n",
       "      <th>Item_Type</th>\n",
       "      <th>Item_MRP</th>\n",
       "      <th>Outlet_Identifier</th>\n",
       "      <th>Outlet_Establishment_Year</th>\n",
       "      <th>Outlet_Size</th>\n",
       "      <th>Outlet_Location_Type</th>\n",
       "      <th>Outlet_Type</th>\n",
       "      <th>Item_Outlet_Sales</th>\n",
       "      <th>Item_Weight_interploate</th>\n",
       "    </tr>\n",
       "  </thead>\n",
       "  <tbody>\n",
       "    <tr>\n",
       "      <th>0</th>\n",
       "      <td>False</td>\n",
       "      <td>False</td>\n",
       "      <td>False</td>\n",
       "      <td>False</td>\n",
       "      <td>False</td>\n",
       "      <td>False</td>\n",
       "      <td>False</td>\n",
       "      <td>False</td>\n",
       "      <td>False</td>\n",
       "      <td>False</td>\n",
       "      <td>False</td>\n",
       "      <td>False</td>\n",
       "    </tr>\n",
       "    <tr>\n",
       "      <th>1</th>\n",
       "      <td>False</td>\n",
       "      <td>False</td>\n",
       "      <td>False</td>\n",
       "      <td>False</td>\n",
       "      <td>False</td>\n",
       "      <td>False</td>\n",
       "      <td>False</td>\n",
       "      <td>False</td>\n",
       "      <td>False</td>\n",
       "      <td>False</td>\n",
       "      <td>False</td>\n",
       "      <td>False</td>\n",
       "    </tr>\n",
       "    <tr>\n",
       "      <th>2</th>\n",
       "      <td>False</td>\n",
       "      <td>False</td>\n",
       "      <td>False</td>\n",
       "      <td>False</td>\n",
       "      <td>False</td>\n",
       "      <td>False</td>\n",
       "      <td>False</td>\n",
       "      <td>False</td>\n",
       "      <td>False</td>\n",
       "      <td>False</td>\n",
       "      <td>False</td>\n",
       "      <td>False</td>\n",
       "    </tr>\n",
       "    <tr>\n",
       "      <th>3</th>\n",
       "      <td>False</td>\n",
       "      <td>False</td>\n",
       "      <td>False</td>\n",
       "      <td>False</td>\n",
       "      <td>False</td>\n",
       "      <td>False</td>\n",
       "      <td>False</td>\n",
       "      <td>True</td>\n",
       "      <td>False</td>\n",
       "      <td>False</td>\n",
       "      <td>False</td>\n",
       "      <td>False</td>\n",
       "    </tr>\n",
       "    <tr>\n",
       "      <th>4</th>\n",
       "      <td>False</td>\n",
       "      <td>False</td>\n",
       "      <td>False</td>\n",
       "      <td>False</td>\n",
       "      <td>False</td>\n",
       "      <td>False</td>\n",
       "      <td>False</td>\n",
       "      <td>False</td>\n",
       "      <td>False</td>\n",
       "      <td>False</td>\n",
       "      <td>False</td>\n",
       "      <td>False</td>\n",
       "    </tr>\n",
       "    <tr>\n",
       "      <th>...</th>\n",
       "      <td>...</td>\n",
       "      <td>...</td>\n",
       "      <td>...</td>\n",
       "      <td>...</td>\n",
       "      <td>...</td>\n",
       "      <td>...</td>\n",
       "      <td>...</td>\n",
       "      <td>...</td>\n",
       "      <td>...</td>\n",
       "      <td>...</td>\n",
       "      <td>...</td>\n",
       "      <td>...</td>\n",
       "    </tr>\n",
       "    <tr>\n",
       "      <th>8518</th>\n",
       "      <td>False</td>\n",
       "      <td>False</td>\n",
       "      <td>False</td>\n",
       "      <td>False</td>\n",
       "      <td>False</td>\n",
       "      <td>False</td>\n",
       "      <td>False</td>\n",
       "      <td>False</td>\n",
       "      <td>False</td>\n",
       "      <td>False</td>\n",
       "      <td>False</td>\n",
       "      <td>False</td>\n",
       "    </tr>\n",
       "    <tr>\n",
       "      <th>8519</th>\n",
       "      <td>False</td>\n",
       "      <td>False</td>\n",
       "      <td>False</td>\n",
       "      <td>False</td>\n",
       "      <td>False</td>\n",
       "      <td>False</td>\n",
       "      <td>False</td>\n",
       "      <td>True</td>\n",
       "      <td>False</td>\n",
       "      <td>False</td>\n",
       "      <td>False</td>\n",
       "      <td>False</td>\n",
       "    </tr>\n",
       "    <tr>\n",
       "      <th>8520</th>\n",
       "      <td>False</td>\n",
       "      <td>False</td>\n",
       "      <td>False</td>\n",
       "      <td>False</td>\n",
       "      <td>False</td>\n",
       "      <td>False</td>\n",
       "      <td>False</td>\n",
       "      <td>False</td>\n",
       "      <td>False</td>\n",
       "      <td>False</td>\n",
       "      <td>False</td>\n",
       "      <td>False</td>\n",
       "    </tr>\n",
       "    <tr>\n",
       "      <th>8521</th>\n",
       "      <td>False</td>\n",
       "      <td>False</td>\n",
       "      <td>False</td>\n",
       "      <td>False</td>\n",
       "      <td>False</td>\n",
       "      <td>False</td>\n",
       "      <td>False</td>\n",
       "      <td>False</td>\n",
       "      <td>False</td>\n",
       "      <td>False</td>\n",
       "      <td>False</td>\n",
       "      <td>False</td>\n",
       "    </tr>\n",
       "    <tr>\n",
       "      <th>8522</th>\n",
       "      <td>False</td>\n",
       "      <td>False</td>\n",
       "      <td>False</td>\n",
       "      <td>False</td>\n",
       "      <td>False</td>\n",
       "      <td>False</td>\n",
       "      <td>False</td>\n",
       "      <td>False</td>\n",
       "      <td>False</td>\n",
       "      <td>False</td>\n",
       "      <td>False</td>\n",
       "      <td>False</td>\n",
       "    </tr>\n",
       "  </tbody>\n",
       "</table>\n",
       "<p>8523 rows × 12 columns</p>\n",
       "</div>"
      ],
      "text/plain": [
       "      Item_Identifier  Item_Fat_Content  Item_Visibility  Item_Type  Item_MRP  \\\n",
       "0               False             False            False      False     False   \n",
       "1               False             False            False      False     False   \n",
       "2               False             False            False      False     False   \n",
       "3               False             False            False      False     False   \n",
       "4               False             False            False      False     False   \n",
       "...               ...               ...              ...        ...       ...   \n",
       "8518            False             False            False      False     False   \n",
       "8519            False             False            False      False     False   \n",
       "8520            False             False            False      False     False   \n",
       "8521            False             False            False      False     False   \n",
       "8522            False             False            False      False     False   \n",
       "\n",
       "      Outlet_Identifier  Outlet_Establishment_Year  Outlet_Size  \\\n",
       "0                 False                      False        False   \n",
       "1                 False                      False        False   \n",
       "2                 False                      False        False   \n",
       "3                 False                      False         True   \n",
       "4                 False                      False        False   \n",
       "...                 ...                        ...          ...   \n",
       "8518              False                      False        False   \n",
       "8519              False                      False         True   \n",
       "8520              False                      False        False   \n",
       "8521              False                      False        False   \n",
       "8522              False                      False        False   \n",
       "\n",
       "      Outlet_Location_Type  Outlet_Type  Item_Outlet_Sales  \\\n",
       "0                    False        False              False   \n",
       "1                    False        False              False   \n",
       "2                    False        False              False   \n",
       "3                    False        False              False   \n",
       "4                    False        False              False   \n",
       "...                    ...          ...                ...   \n",
       "8518                 False        False              False   \n",
       "8519                 False        False              False   \n",
       "8520                 False        False              False   \n",
       "8521                 False        False              False   \n",
       "8522                 False        False              False   \n",
       "\n",
       "      Item_Weight_interploate  \n",
       "0                       False  \n",
       "1                       False  \n",
       "2                       False  \n",
       "3                       False  \n",
       "4                       False  \n",
       "...                       ...  \n",
       "8518                    False  \n",
       "8519                    False  \n",
       "8520                    False  \n",
       "8521                    False  \n",
       "8522                    False  \n",
       "\n",
       "[8523 rows x 12 columns]"
      ]
     },
     "execution_count": 58,
     "metadata": {},
     "output_type": "execute_result"
    }
   ],
   "source": [
    "data.isnull()"
   ]
  },
  {
   "cell_type": "code",
   "execution_count": 59,
   "id": "b1717c8e",
   "metadata": {},
   "outputs": [
    {
     "data": {
      "text/plain": [
       "Item_Identifier                 0\n",
       "Item_Fat_Content                0\n",
       "Item_Visibility                 0\n",
       "Item_Type                       0\n",
       "Item_MRP                        0\n",
       "Outlet_Identifier               0\n",
       "Outlet_Establishment_Year       0\n",
       "Outlet_Size                  2410\n",
       "Outlet_Location_Type            0\n",
       "Outlet_Type                     0\n",
       "Item_Outlet_Sales               0\n",
       "Item_Weight_interploate         0\n",
       "dtype: int64"
      ]
     },
     "execution_count": 59,
     "metadata": {},
     "output_type": "execute_result"
    }
   ],
   "source": [
    "data.isnull().sum()"
   ]
  },
  {
   "cell_type": "code",
   "execution_count": 60,
   "id": "a15fe377",
   "metadata": {},
   "outputs": [
    {
     "data": {
      "text/plain": [
       "0       Medium\n",
       "1       Medium\n",
       "2       Medium\n",
       "3          NaN\n",
       "4         High\n",
       "         ...  \n",
       "8518      High\n",
       "8519       NaN\n",
       "8520     Small\n",
       "8521    Medium\n",
       "8522     Small\n",
       "Name: Outlet_Size, Length: 8523, dtype: object"
      ]
     },
     "execution_count": 60,
     "metadata": {},
     "output_type": "execute_result"
    }
   ],
   "source": [
    "data['Outlet_Size']"
   ]
  },
  {
   "cell_type": "code",
   "execution_count": 63,
   "id": "c8fbfd58",
   "metadata": {},
   "outputs": [
    {
     "data": {
      "text/plain": [
       "Medium    2793\n",
       "Small     2388\n",
       "High       932\n",
       "Name: Outlet_Size, dtype: int64"
      ]
     },
     "execution_count": 63,
     "metadata": {},
     "output_type": "execute_result"
    }
   ],
   "source": [
    "data['Outlet_Size'].value_counts()"
   ]
  },
  {
   "cell_type": "code",
   "execution_count": 62,
   "id": "3f9d0922",
   "metadata": {},
   "outputs": [
    {
     "data": {
      "text/plain": [
       "Supermarket Type1    5577\n",
       "Grocery Store        1083\n",
       "Supermarket Type3     935\n",
       "Supermarket Type2     928\n",
       "Name: Outlet_Type, dtype: int64"
      ]
     },
     "execution_count": 62,
     "metadata": {},
     "output_type": "execute_result"
    }
   ],
   "source": [
    "data['Outlet_Type'].value_counts()"
   ]
  },
  {
   "cell_type": "code",
   "execution_count": 64,
   "id": "ad0f8212",
   "metadata": {},
   "outputs": [],
   "source": [
    "mode_outlet = data.pivot_table(values='Outlet_Size',columns='Outlet_Type',aggfunc=(lambda x:x.mode()[0]))"
   ]
  },
  {
   "cell_type": "code",
   "execution_count": 65,
   "id": "661d8811",
   "metadata": {},
   "outputs": [
    {
     "data": {
      "text/html": [
       "<div>\n",
       "<style scoped>\n",
       "    .dataframe tbody tr th:only-of-type {\n",
       "        vertical-align: middle;\n",
       "    }\n",
       "\n",
       "    .dataframe tbody tr th {\n",
       "        vertical-align: top;\n",
       "    }\n",
       "\n",
       "    .dataframe thead th {\n",
       "        text-align: right;\n",
       "    }\n",
       "</style>\n",
       "<table border=\"1\" class=\"dataframe\">\n",
       "  <thead>\n",
       "    <tr style=\"text-align: right;\">\n",
       "      <th>Outlet_Type</th>\n",
       "      <th>Grocery Store</th>\n",
       "      <th>Supermarket Type1</th>\n",
       "      <th>Supermarket Type2</th>\n",
       "      <th>Supermarket Type3</th>\n",
       "    </tr>\n",
       "  </thead>\n",
       "  <tbody>\n",
       "    <tr>\n",
       "      <th>Outlet_Size</th>\n",
       "      <td>Small</td>\n",
       "      <td>Small</td>\n",
       "      <td>Medium</td>\n",
       "      <td>Medium</td>\n",
       "    </tr>\n",
       "  </tbody>\n",
       "</table>\n",
       "</div>"
      ],
      "text/plain": [
       "Outlet_Type Grocery Store Supermarket Type1 Supermarket Type2  \\\n",
       "Outlet_Size         Small             Small            Medium   \n",
       "\n",
       "Outlet_Type Supermarket Type3  \n",
       "Outlet_Size            Medium  "
      ]
     },
     "execution_count": 65,
     "metadata": {},
     "output_type": "execute_result"
    }
   ],
   "source": [
    "mode_outlet"
   ]
  },
  {
   "cell_type": "code",
   "execution_count": 70,
   "id": "f0ea1724",
   "metadata": {},
   "outputs": [
    {
     "data": {
      "text/plain": [
       "0       False\n",
       "1       False\n",
       "2       False\n",
       "3        True\n",
       "4       False\n",
       "        ...  \n",
       "8518    False\n",
       "8519     True\n",
       "8520    False\n",
       "8521    False\n",
       "8522    False\n",
       "Name: Outlet_Size, Length: 8523, dtype: bool"
      ]
     },
     "execution_count": 70,
     "metadata": {},
     "output_type": "execute_result"
    }
   ],
   "source": [
    "missing_values = data['Outlet_Size'].isnull()\n",
    "missing_values"
   ]
  },
  {
   "cell_type": "code",
   "execution_count": 72,
   "id": "9c39fd4b",
   "metadata": {},
   "outputs": [],
   "source": [
    "data.loc[missing_values,'Outlet_Size'] = data.loc[missing_values,'Outlet_Type'].apply(lambda x :mode_outlet[x])"
   ]
  },
  {
   "cell_type": "code",
   "execution_count": 73,
   "id": "4665cd40",
   "metadata": {},
   "outputs": [
    {
     "data": {
      "text/plain": [
       "Item_Identifier              0\n",
       "Item_Fat_Content             0\n",
       "Item_Visibility              0\n",
       "Item_Type                    0\n",
       "Item_MRP                     0\n",
       "Outlet_Identifier            0\n",
       "Outlet_Establishment_Year    0\n",
       "Outlet_Size                  0\n",
       "Outlet_Location_Type         0\n",
       "Outlet_Type                  0\n",
       "Item_Outlet_Sales            0\n",
       "Item_Weight_interploate      0\n",
       "dtype: int64"
      ]
     },
     "execution_count": 73,
     "metadata": {},
     "output_type": "execute_result"
    }
   ],
   "source": [
    "data.isnull().sum()"
   ]
  },
  {
   "cell_type": "code",
   "execution_count": 74,
   "id": "7a6f5cac",
   "metadata": {},
   "outputs": [
    {
     "data": {
      "text/plain": [
       "Index(['Item_Identifier', 'Item_Fat_Content', 'Item_Visibility', 'Item_Type',\n",
       "       'Item_MRP', 'Outlet_Identifier', 'Outlet_Establishment_Year',\n",
       "       'Outlet_Size', 'Outlet_Location_Type', 'Outlet_Type',\n",
       "       'Item_Outlet_Sales', 'Item_Weight_interploate'],\n",
       "      dtype='object')"
      ]
     },
     "execution_count": 74,
     "metadata": {},
     "output_type": "execute_result"
    }
   ],
   "source": [
    "data.columns"
   ]
  },
  {
   "cell_type": "code",
   "execution_count": 75,
   "id": "4d9f8119",
   "metadata": {},
   "outputs": [
    {
     "data": {
      "text/plain": [
       "Low Fat    5089\n",
       "Regular    2889\n",
       "LF          316\n",
       "reg         117\n",
       "low fat     112\n",
       "Name: Item_Fat_Content, dtype: int64"
      ]
     },
     "execution_count": 75,
     "metadata": {},
     "output_type": "execute_result"
    }
   ],
   "source": [
    "data['Item_Fat_Content'].value_counts()"
   ]
  },
  {
   "cell_type": "code",
   "execution_count": 76,
   "id": "c1329d9d",
   "metadata": {},
   "outputs": [],
   "source": [
    "data.replace({'Item_Fat_Content':{'Low Fat':'LF','low fat':'LF','reg':'Regular'}},inplace=True)"
   ]
  },
  {
   "cell_type": "code",
   "execution_count": 77,
   "id": "ea7cdca5",
   "metadata": {},
   "outputs": [
    {
     "data": {
      "text/plain": [
       "LF         5517\n",
       "Regular    3006\n",
       "Name: Item_Fat_Content, dtype: int64"
      ]
     },
     "execution_count": 77,
     "metadata": {},
     "output_type": "execute_result"
    }
   ],
   "source": [
    "data['Item_Fat_Content'].value_counts()"
   ]
  },
  {
   "cell_type": "code",
   "execution_count": 79,
   "id": "d8721209",
   "metadata": {},
   "outputs": [
    {
     "data": {
      "text/plain": [
       "0       0.016047\n",
       "1       0.019278\n",
       "2       0.016760\n",
       "3       0.000000\n",
       "4       0.000000\n",
       "          ...   \n",
       "8518    0.056783\n",
       "8519    0.046982\n",
       "8520    0.035186\n",
       "8521    0.145221\n",
       "8522    0.044878\n",
       "Name: Item_Visibility, Length: 8523, dtype: float64"
      ]
     },
     "execution_count": 79,
     "metadata": {},
     "output_type": "execute_result"
    }
   ],
   "source": [
    "data['Item_Visibility']"
   ]
  },
  {
   "cell_type": "code",
   "execution_count": 80,
   "id": "6230cbf4",
   "metadata": {},
   "outputs": [
    {
     "data": {
      "text/plain": [
       "0.000000    526\n",
       "0.076975      3\n",
       "0.162462      2\n",
       "0.076841      2\n",
       "0.073562      2\n",
       "           ... \n",
       "0.013957      1\n",
       "0.110460      1\n",
       "0.124646      1\n",
       "0.054142      1\n",
       "0.044878      1\n",
       "Name: Item_Visibility, Length: 7880, dtype: int64"
      ]
     },
     "execution_count": 80,
     "metadata": {},
     "output_type": "execute_result"
    }
   ],
   "source": [
    "data['Item_Visibility'].value_counts()"
   ]
  },
  {
   "cell_type": "code",
   "execution_count": 82,
   "id": "9116f914",
   "metadata": {},
   "outputs": [],
   "source": [
    "data['Item_Visibility_interpolate']=data['Item_Visibility'].replace(0,np.nan).interpolate(method='linear')"
   ]
  },
  {
   "cell_type": "code",
   "execution_count": 83,
   "id": "5032c4b5",
   "metadata": {},
   "outputs": [
    {
     "data": {
      "text/html": [
       "<div>\n",
       "<style scoped>\n",
       "    .dataframe tbody tr th:only-of-type {\n",
       "        vertical-align: middle;\n",
       "    }\n",
       "\n",
       "    .dataframe tbody tr th {\n",
       "        vertical-align: top;\n",
       "    }\n",
       "\n",
       "    .dataframe thead th {\n",
       "        text-align: right;\n",
       "    }\n",
       "</style>\n",
       "<table border=\"1\" class=\"dataframe\">\n",
       "  <thead>\n",
       "    <tr style=\"text-align: right;\">\n",
       "      <th></th>\n",
       "      <th>Item_Identifier</th>\n",
       "      <th>Item_Fat_Content</th>\n",
       "      <th>Item_Visibility</th>\n",
       "      <th>Item_Type</th>\n",
       "      <th>Item_MRP</th>\n",
       "      <th>Outlet_Identifier</th>\n",
       "      <th>Outlet_Establishment_Year</th>\n",
       "      <th>Outlet_Size</th>\n",
       "      <th>Outlet_Location_Type</th>\n",
       "      <th>Outlet_Type</th>\n",
       "      <th>Item_Outlet_Sales</th>\n",
       "      <th>Item_Weight_interploate</th>\n",
       "      <th>Item_Visibility_interpolate</th>\n",
       "    </tr>\n",
       "  </thead>\n",
       "  <tbody>\n",
       "    <tr>\n",
       "      <th>0</th>\n",
       "      <td>FDA15</td>\n",
       "      <td>LF</td>\n",
       "      <td>0.016047</td>\n",
       "      <td>Dairy</td>\n",
       "      <td>249.8092</td>\n",
       "      <td>OUT049</td>\n",
       "      <td>1999</td>\n",
       "      <td>Medium</td>\n",
       "      <td>Tier 1</td>\n",
       "      <td>Supermarket Type1</td>\n",
       "      <td>3735.1380</td>\n",
       "      <td>9.30</td>\n",
       "      <td>0.016047</td>\n",
       "    </tr>\n",
       "    <tr>\n",
       "      <th>1</th>\n",
       "      <td>DRC01</td>\n",
       "      <td>Regular</td>\n",
       "      <td>0.019278</td>\n",
       "      <td>Soft Drinks</td>\n",
       "      <td>48.2692</td>\n",
       "      <td>OUT018</td>\n",
       "      <td>2009</td>\n",
       "      <td>Medium</td>\n",
       "      <td>Tier 3</td>\n",
       "      <td>Supermarket Type2</td>\n",
       "      <td>443.4228</td>\n",
       "      <td>5.92</td>\n",
       "      <td>0.019278</td>\n",
       "    </tr>\n",
       "    <tr>\n",
       "      <th>2</th>\n",
       "      <td>FDN15</td>\n",
       "      <td>LF</td>\n",
       "      <td>0.016760</td>\n",
       "      <td>Meat</td>\n",
       "      <td>141.6180</td>\n",
       "      <td>OUT049</td>\n",
       "      <td>1999</td>\n",
       "      <td>Medium</td>\n",
       "      <td>Tier 1</td>\n",
       "      <td>Supermarket Type1</td>\n",
       "      <td>2097.2700</td>\n",
       "      <td>17.50</td>\n",
       "      <td>0.016760</td>\n",
       "    </tr>\n",
       "    <tr>\n",
       "      <th>3</th>\n",
       "      <td>FDX07</td>\n",
       "      <td>Regular</td>\n",
       "      <td>0.000000</td>\n",
       "      <td>Fruits and Vegetables</td>\n",
       "      <td>182.0950</td>\n",
       "      <td>OUT010</td>\n",
       "      <td>1998</td>\n",
       "      <td>Small</td>\n",
       "      <td>Tier 3</td>\n",
       "      <td>Grocery Store</td>\n",
       "      <td>732.3800</td>\n",
       "      <td>19.20</td>\n",
       "      <td>0.015755</td>\n",
       "    </tr>\n",
       "    <tr>\n",
       "      <th>4</th>\n",
       "      <td>NCD19</td>\n",
       "      <td>LF</td>\n",
       "      <td>0.000000</td>\n",
       "      <td>Household</td>\n",
       "      <td>53.8614</td>\n",
       "      <td>OUT013</td>\n",
       "      <td>1987</td>\n",
       "      <td>High</td>\n",
       "      <td>Tier 3</td>\n",
       "      <td>Supermarket Type1</td>\n",
       "      <td>994.7052</td>\n",
       "      <td>8.93</td>\n",
       "      <td>0.014751</td>\n",
       "    </tr>\n",
       "  </tbody>\n",
       "</table>\n",
       "</div>"
      ],
      "text/plain": [
       "  Item_Identifier Item_Fat_Content  Item_Visibility              Item_Type  \\\n",
       "0           FDA15               LF         0.016047                  Dairy   \n",
       "1           DRC01          Regular         0.019278            Soft Drinks   \n",
       "2           FDN15               LF         0.016760                   Meat   \n",
       "3           FDX07          Regular         0.000000  Fruits and Vegetables   \n",
       "4           NCD19               LF         0.000000              Household   \n",
       "\n",
       "   Item_MRP Outlet_Identifier  Outlet_Establishment_Year Outlet_Size  \\\n",
       "0  249.8092            OUT049                       1999      Medium   \n",
       "1   48.2692            OUT018                       2009      Medium   \n",
       "2  141.6180            OUT049                       1999      Medium   \n",
       "3  182.0950            OUT010                       1998       Small   \n",
       "4   53.8614            OUT013                       1987        High   \n",
       "\n",
       "  Outlet_Location_Type        Outlet_Type  Item_Outlet_Sales  \\\n",
       "0               Tier 1  Supermarket Type1          3735.1380   \n",
       "1               Tier 3  Supermarket Type2           443.4228   \n",
       "2               Tier 1  Supermarket Type1          2097.2700   \n",
       "3               Tier 3      Grocery Store           732.3800   \n",
       "4               Tier 3  Supermarket Type1           994.7052   \n",
       "\n",
       "   Item_Weight_interploate  Item_Visibility_interpolate  \n",
       "0                     9.30                     0.016047  \n",
       "1                     5.92                     0.019278  \n",
       "2                    17.50                     0.016760  \n",
       "3                    19.20                     0.015755  \n",
       "4                     8.93                     0.014751  "
      ]
     },
     "execution_count": 83,
     "metadata": {},
     "output_type": "execute_result"
    }
   ],
   "source": [
    "data.head(5)"
   ]
  },
  {
   "cell_type": "code",
   "execution_count": 84,
   "id": "17b527d4",
   "metadata": {},
   "outputs": [
    {
     "data": {
      "text/plain": [
       "0.076975    3\n",
       "0.044024    2\n",
       "0.040912    2\n",
       "0.076856    2\n",
       "0.078759    2\n",
       "           ..\n",
       "0.021011    1\n",
       "0.099189    1\n",
       "0.076866    1\n",
       "0.014116    1\n",
       "0.044878    1\n",
       "Name: Item_Visibility_interpolate, Length: 8405, dtype: int64"
      ]
     },
     "execution_count": 84,
     "metadata": {},
     "output_type": "execute_result"
    }
   ],
   "source": [
    "data['Item_Visibility_interpolate'].value_counts()"
   ]
  },
  {
   "cell_type": "code",
   "execution_count": 85,
   "id": "484287eb",
   "metadata": {},
   "outputs": [
    {
     "data": {
      "image/png": "[encoded data removed]",
      "text/plain": [
       "<Figure size 640x480 with 1 Axes>"
      ]
     },
     "metadata": {},
     "output_type": "display_data"
    }
   ],
   "source": [
    "data['Item_Visibility'].plot(kind=\"kde\",label=\"Original\")\n",
    "\n",
    "data['Item_Visibility_interpolate'].plot(kind=\"kde\",color='red',label=\"Interpolate\")\n",
    "\n",
    "plt.legend()\n",
    "plt.show()"
   ]
  },
  {
   "cell_type": "code",
   "execution_count": 86,
   "id": "35bf2525",
   "metadata": {},
   "outputs": [],
   "source": [
    "data = data.drop('Item_Visibility',axis=1)"
   ]
  },
  {
   "cell_type": "code",
   "execution_count": 87,
   "id": "80e90436",
   "metadata": {},
   "outputs": [
    {
     "data": {
      "text/html": [
       "<div>\n",
       "<style scoped>\n",
       "    .dataframe tbody tr th:only-of-type {\n",
       "        vertical-align: middle;\n",
       "    }\n",
       "\n",
       "    .dataframe tbody tr th {\n",
       "        vertical-align: top;\n",
       "    }\n",
       "\n",
       "    .dataframe thead th {\n",
       "        text-align: right;\n",
       "    }\n",
       "</style>\n",
       "<table border=\"1\" class=\"dataframe\">\n",
       "  <thead>\n",
       "    <tr style=\"text-align: right;\">\n",
       "      <th></th>\n",
       "      <th>Item_Identifier</th>\n",
       "      <th>Item_Fat_Content</th>\n",
       "      <th>Item_Type</th>\n",
       "      <th>Item_MRP</th>\n",
       "      <th>Outlet_Identifier</th>\n",
       "      <th>Outlet_Establishment_Year</th>\n",
       "      <th>Outlet_Size</th>\n",
       "      <th>Outlet_Location_Type</th>\n",
       "      <th>Outlet_Type</th>\n",
       "      <th>Item_Outlet_Sales</th>\n",
       "      <th>Item_Weight_interploate</th>\n",
       "      <th>Item_Visibility_interpolate</th>\n",
       "    </tr>\n",
       "  </thead>\n",
       "  <tbody>\n",
       "    <tr>\n",
       "      <th>0</th>\n",
       "      <td>FDA15</td>\n",
       "      <td>LF</td>\n",
       "      <td>Dairy</td>\n",
       "      <td>249.8092</td>\n",
       "      <td>OUT049</td>\n",
       "      <td>1999</td>\n",
       "      <td>Medium</td>\n",
       "      <td>Tier 1</td>\n",
       "      <td>Supermarket Type1</td>\n",
       "      <td>3735.138</td>\n",
       "      <td>9.3</td>\n",
       "      <td>0.016047</td>\n",
       "    </tr>\n",
       "  </tbody>\n",
       "</table>\n",
       "</div>"
      ],
      "text/plain": [
       "  Item_Identifier Item_Fat_Content Item_Type  Item_MRP Outlet_Identifier  \\\n",
       "0           FDA15               LF     Dairy  249.8092            OUT049   \n",
       "\n",
       "   Outlet_Establishment_Year Outlet_Size Outlet_Location_Type  \\\n",
       "0                       1999      Medium               Tier 1   \n",
       "\n",
       "         Outlet_Type  Item_Outlet_Sales  Item_Weight_interploate  \\\n",
       "0  Supermarket Type1           3735.138                      9.3   \n",
       "\n",
       "   Item_Visibility_interpolate  \n",
       "0                     0.016047  "
      ]
     },
     "execution_count": 87,
     "metadata": {},
     "output_type": "execute_result"
    }
   ],
   "source": [
    "data.head(1)"
   ]
  },
  {
   "cell_type": "code",
   "execution_count": 88,
   "id": "bccce289",
   "metadata": {},
   "outputs": [
    {
     "data": {
      "text/plain": [
       "0                       Dairy\n",
       "1                 Soft Drinks\n",
       "2                        Meat\n",
       "3       Fruits and Vegetables\n",
       "4                   Household\n",
       "                ...          \n",
       "8518              Snack Foods\n",
       "8519             Baking Goods\n",
       "8520       Health and Hygiene\n",
       "8521              Snack Foods\n",
       "8522              Soft Drinks\n",
       "Name: Item_Type, Length: 8523, dtype: object"
      ]
     },
     "execution_count": 88,
     "metadata": {},
     "output_type": "execute_result"
    }
   ],
   "source": [
    "data['Item_Type']"
   ]
  },
  {
   "cell_type": "code",
   "execution_count": 89,
   "id": "d84f6396",
   "metadata": {},
   "outputs": [
    {
     "data": {
      "text/plain": [
       "Fruits and Vegetables    1232\n",
       "Snack Foods              1200\n",
       "Household                 910\n",
       "Frozen Foods              856\n",
       "Dairy                     682\n",
       "Canned                    649\n",
       "Baking Goods              648\n",
       "Health and Hygiene        520\n",
       "Soft Drinks               445\n",
       "Meat                      425\n",
       "Breads                    251\n",
       "Hard Drinks               214\n",
       "Others                    169\n",
       "Starchy Foods             148\n",
       "Breakfast                 110\n",
       "Seafood                    64\n",
       "Name: Item_Type, dtype: int64"
      ]
     },
     "execution_count": 89,
     "metadata": {},
     "output_type": "execute_result"
    }
   ],
   "source": [
    "data['Item_Type'].value_counts()"
   ]
  },
  {
   "cell_type": "code",
   "execution_count": 90,
   "id": "ca776c3c",
   "metadata": {},
   "outputs": [
    {
     "data": {
      "text/plain": [
       "0       FDA15\n",
       "1       DRC01\n",
       "2       FDN15\n",
       "3       FDX07\n",
       "4       NCD19\n",
       "        ...  \n",
       "8518    FDF22\n",
       "8519    FDS36\n",
       "8520    NCJ29\n",
       "8521    FDN46\n",
       "8522    DRG01\n",
       "Name: Item_Identifier, Length: 8523, dtype: object"
      ]
     },
     "execution_count": 90,
     "metadata": {},
     "output_type": "execute_result"
    }
   ],
   "source": [
    "data['Item_Identifier']"
   ]
  },
  {
   "cell_type": "code",
   "execution_count": 91,
   "id": "a9b0f020",
   "metadata": {},
   "outputs": [
    {
     "data": {
      "text/plain": [
       "FDW13    10\n",
       "FDG33    10\n",
       "NCY18     9\n",
       "FDD38     9\n",
       "DRE49     9\n",
       "         ..\n",
       "FDY43     1\n",
       "FDQ60     1\n",
       "FDO33     1\n",
       "DRF48     1\n",
       "FDC23     1\n",
       "Name: Item_Identifier, Length: 1559, dtype: int64"
      ]
     },
     "execution_count": 91,
     "metadata": {},
     "output_type": "execute_result"
    }
   ],
   "source": [
    "data['Item_Identifier'].value_counts()"
   ]
  },
  {
   "cell_type": "code",
   "execution_count": 92,
   "id": "366e1a75",
   "metadata": {},
   "outputs": [
    {
     "data": {
      "text/plain": [
       "FDV35    4\n",
       "NCY41    7\n",
       "FDO56    5\n",
       "FDM56    5\n",
       "FDP51    3\n",
       "Name: Item_Identifier, dtype: int64"
      ]
     },
     "execution_count": 92,
     "metadata": {},
     "output_type": "execute_result"
    }
   ],
   "source": [
    "data['Item_Identifier'].value_counts().sample(5)"
   ]
  },
  {
   "cell_type": "code",
   "execution_count": 93,
   "id": "d2ce3a4a",
   "metadata": {},
   "outputs": [],
   "source": [
    "data['Item_Identifier'] =data['Item_Identifier'].apply(lambda x : x[:2])"
   ]
  },
  {
   "cell_type": "code",
   "execution_count": 94,
   "id": "e7ece520",
   "metadata": {},
   "outputs": [
    {
     "data": {
      "text/plain": [
       "0       FD\n",
       "1       DR\n",
       "2       FD\n",
       "3       FD\n",
       "4       NC\n",
       "        ..\n",
       "8518    FD\n",
       "8519    FD\n",
       "8520    NC\n",
       "8521    FD\n",
       "8522    DR\n",
       "Name: Item_Identifier, Length: 8523, dtype: object"
      ]
     },
     "execution_count": 94,
     "metadata": {},
     "output_type": "execute_result"
    }
   ],
   "source": [
    "data['Item_Identifier']"
   ]
  },
  {
   "cell_type": "code",
   "execution_count": 95,
   "id": "9439eab3",
   "metadata": {},
   "outputs": [
    {
     "data": {
      "text/plain": [
       "FD    6125\n",
       "NC    1599\n",
       "DR     799\n",
       "Name: Item_Identifier, dtype: int64"
      ]
     },
     "execution_count": 95,
     "metadata": {},
     "output_type": "execute_result"
    }
   ],
   "source": [
    "data['Item_Identifier'].value_counts()"
   ]
  },
  {
   "cell_type": "code",
   "execution_count": 96,
   "id": "906f3811",
   "metadata": {},
   "outputs": [
    {
     "data": {
      "text/plain": [
       "0       1999\n",
       "1       2009\n",
       "2       1999\n",
       "3       1998\n",
       "4       1987\n",
       "        ... \n",
       "8518    1987\n",
       "8519    2002\n",
       "8520    2004\n",
       "8521    2009\n",
       "8522    1997\n",
       "Name: Outlet_Establishment_Year, Length: 8523, dtype: int64"
      ]
     },
     "execution_count": 96,
     "metadata": {},
     "output_type": "execute_result"
    }
   ],
   "source": [
    "data['Outlet_Establishment_Year']"
   ]
  },
  {
   "cell_type": "code",
   "execution_count": 97,
   "id": "05f19838",
   "metadata": {},
   "outputs": [],
   "source": [
    "import datetime as dt"
   ]
  },
  {
   "cell_type": "code",
   "execution_count": 98,
   "id": "358c77e3",
   "metadata": {},
   "outputs": [
    {
     "data": {
      "text/plain": [
       "2024"
      ]
     },
     "execution_count": 98,
     "metadata": {},
     "output_type": "execute_result"
    }
   ],
   "source": [
    "current_year = dt.datetime.today().year\n",
    "current_year"
   ]
  },
  {
   "cell_type": "code",
   "execution_count": 99,
   "id": "3dd2e090",
   "metadata": {},
   "outputs": [
    {
     "data": {
      "text/html": [
       "<div>\n",
       "<style scoped>\n",
       "    .dataframe tbody tr th:only-of-type {\n",
       "        vertical-align: middle;\n",
       "    }\n",
       "\n",
       "    .dataframe tbody tr th {\n",
       "        vertical-align: top;\n",
       "    }\n",
       "\n",
       "    .dataframe thead th {\n",
       "        text-align: right;\n",
       "    }\n",
       "</style>\n",
       "<table border=\"1\" class=\"dataframe\">\n",
       "  <thead>\n",
       "    <tr style=\"text-align: right;\">\n",
       "      <th></th>\n",
       "      <th>Item_Identifier</th>\n",
       "      <th>Item_Fat_Content</th>\n",
       "      <th>Item_Type</th>\n",
       "      <th>Item_MRP</th>\n",
       "      <th>Outlet_Identifier</th>\n",
       "      <th>Outlet_Establishment_Year</th>\n",
       "      <th>Outlet_Size</th>\n",
       "      <th>Outlet_Location_Type</th>\n",
       "      <th>Outlet_Type</th>\n",
       "      <th>Item_Outlet_Sales</th>\n",
       "      <th>Item_Weight_interploate</th>\n",
       "      <th>Item_Visibility_interpolate</th>\n",
       "      <th>Outlet_age</th>\n",
       "    </tr>\n",
       "  </thead>\n",
       "  <tbody>\n",
       "    <tr>\n",
       "      <th>0</th>\n",
       "      <td>FD</td>\n",
       "      <td>LF</td>\n",
       "      <td>Dairy</td>\n",
       "      <td>249.8092</td>\n",
       "      <td>OUT049</td>\n",
       "      <td>1999</td>\n",
       "      <td>Medium</td>\n",
       "      <td>Tier 1</td>\n",
       "      <td>Supermarket Type1</td>\n",
       "      <td>3735.1380</td>\n",
       "      <td>9.30</td>\n",
       "      <td>0.016047</td>\n",
       "      <td>25</td>\n",
       "    </tr>\n",
       "    <tr>\n",
       "      <th>1</th>\n",
       "      <td>DR</td>\n",
       "      <td>Regular</td>\n",
       "      <td>Soft Drinks</td>\n",
       "      <td>48.2692</td>\n",
       "      <td>OUT018</td>\n",
       "      <td>2009</td>\n",
       "      <td>Medium</td>\n",
       "      <td>Tier 3</td>\n",
       "      <td>Supermarket Type2</td>\n",
       "      <td>443.4228</td>\n",
       "      <td>5.92</td>\n",
       "      <td>0.019278</td>\n",
       "      <td>15</td>\n",
       "    </tr>\n",
       "    <tr>\n",
       "      <th>2</th>\n",
       "      <td>FD</td>\n",
       "      <td>LF</td>\n",
       "      <td>Meat</td>\n",
       "      <td>141.6180</td>\n",
       "      <td>OUT049</td>\n",
       "      <td>1999</td>\n",
       "      <td>Medium</td>\n",
       "      <td>Tier 1</td>\n",
       "      <td>Supermarket Type1</td>\n",
       "      <td>2097.2700</td>\n",
       "      <td>17.50</td>\n",
       "      <td>0.016760</td>\n",
       "      <td>25</td>\n",
       "    </tr>\n",
       "    <tr>\n",
       "      <th>3</th>\n",
       "      <td>FD</td>\n",
       "      <td>Regular</td>\n",
       "      <td>Fruits and Vegetables</td>\n",
       "      <td>182.0950</td>\n",
       "      <td>OUT010</td>\n",
       "      <td>1998</td>\n",
       "      <td>Small</td>\n",
       "      <td>Tier 3</td>\n",
       "      <td>Grocery Store</td>\n",
       "      <td>732.3800</td>\n",
       "      <td>19.20</td>\n",
       "      <td>0.015755</td>\n",
       "      <td>26</td>\n",
       "    </tr>\n",
       "    <tr>\n",
       "      <th>4</th>\n",
       "      <td>NC</td>\n",
       "      <td>LF</td>\n",
       "      <td>Household</td>\n",
       "      <td>53.8614</td>\n",
       "      <td>OUT013</td>\n",
       "      <td>1987</td>\n",
       "      <td>High</td>\n",
       "      <td>Tier 3</td>\n",
       "      <td>Supermarket Type1</td>\n",
       "      <td>994.7052</td>\n",
       "      <td>8.93</td>\n",
       "      <td>0.014751</td>\n",
       "      <td>37</td>\n",
       "    </tr>\n",
       "  </tbody>\n",
       "</table>\n",
       "</div>"
      ],
      "text/plain": [
       "  Item_Identifier Item_Fat_Content              Item_Type  Item_MRP  \\\n",
       "0              FD               LF                  Dairy  249.8092   \n",
       "1              DR          Regular            Soft Drinks   48.2692   \n",
       "2              FD               LF                   Meat  141.6180   \n",
       "3              FD          Regular  Fruits and Vegetables  182.0950   \n",
       "4              NC               LF              Household   53.8614   \n",
       "\n",
       "  Outlet_Identifier  Outlet_Establishment_Year Outlet_Size  \\\n",
       "0            OUT049                       1999      Medium   \n",
       "1            OUT018                       2009      Medium   \n",
       "2            OUT049                       1999      Medium   \n",
       "3            OUT010                       1998       Small   \n",
       "4            OUT013                       1987        High   \n",
       "\n",
       "  Outlet_Location_Type        Outlet_Type  Item_Outlet_Sales  \\\n",
       "0               Tier 1  Supermarket Type1          3735.1380   \n",
       "1               Tier 3  Supermarket Type2           443.4228   \n",
       "2               Tier 1  Supermarket Type1          2097.2700   \n",
       "3               Tier 3      Grocery Store           732.3800   \n",
       "4               Tier 3  Supermarket Type1           994.7052   \n",
       "\n",
       "   Item_Weight_interploate  Item_Visibility_interpolate  Outlet_age  \n",
       "0                     9.30                     0.016047          25  \n",
       "1                     5.92                     0.019278          15  \n",
       "2                    17.50                     0.016760          25  \n",
       "3                    19.20                     0.015755          26  \n",
       "4                     8.93                     0.014751          37  "
      ]
     },
     "execution_count": 99,
     "metadata": {},
     "output_type": "execute_result"
    }
   ],
   "source": [
    "data['Outlet_age']= current_year - data['Outlet_Establishment_Year']\n",
    "data.head(5)"
   ]
  },
  {
   "cell_type": "code",
   "execution_count": 100,
   "id": "69a4f775",
   "metadata": {},
   "outputs": [],
   "source": [
    "data = data.drop('Outlet_Establishment_Year',axis=1)"
   ]
  },
  {
   "cell_type": "code",
   "execution_count": 101,
   "id": "0f4b7993",
   "metadata": {},
   "outputs": [
    {
     "data": {
      "text/html": [
       "<div>\n",
       "<style scoped>\n",
       "    .dataframe tbody tr th:only-of-type {\n",
       "        vertical-align: middle;\n",
       "    }\n",
       "\n",
       "    .dataframe tbody tr th {\n",
       "        vertical-align: top;\n",
       "    }\n",
       "\n",
       "    .dataframe thead th {\n",
       "        text-align: right;\n",
       "    }\n",
       "</style>\n",
       "<table border=\"1\" class=\"dataframe\">\n",
       "  <thead>\n",
       "    <tr style=\"text-align: right;\">\n",
       "      <th></th>\n",
       "      <th>Item_Identifier</th>\n",
       "      <th>Item_Fat_Content</th>\n",
       "      <th>Item_Type</th>\n",
       "      <th>Item_MRP</th>\n",
       "      <th>Outlet_Identifier</th>\n",
       "      <th>Outlet_Size</th>\n",
       "      <th>Outlet_Location_Type</th>\n",
       "      <th>Outlet_Type</th>\n",
       "      <th>Item_Outlet_Sales</th>\n",
       "      <th>Item_Weight_interploate</th>\n",
       "      <th>Item_Visibility_interpolate</th>\n",
       "      <th>Outlet_age</th>\n",
       "    </tr>\n",
       "  </thead>\n",
       "  <tbody>\n",
       "    <tr>\n",
       "      <th>0</th>\n",
       "      <td>FD</td>\n",
       "      <td>LF</td>\n",
       "      <td>Dairy</td>\n",
       "      <td>249.8092</td>\n",
       "      <td>OUT049</td>\n",
       "      <td>Medium</td>\n",
       "      <td>Tier 1</td>\n",
       "      <td>Supermarket Type1</td>\n",
       "      <td>3735.1380</td>\n",
       "      <td>9.30</td>\n",
       "      <td>0.016047</td>\n",
       "      <td>25</td>\n",
       "    </tr>\n",
       "    <tr>\n",
       "      <th>1</th>\n",
       "      <td>DR</td>\n",
       "      <td>Regular</td>\n",
       "      <td>Soft Drinks</td>\n",
       "      <td>48.2692</td>\n",
       "      <td>OUT018</td>\n",
       "      <td>Medium</td>\n",
       "      <td>Tier 3</td>\n",
       "      <td>Supermarket Type2</td>\n",
       "      <td>443.4228</td>\n",
       "      <td>5.92</td>\n",
       "      <td>0.019278</td>\n",
       "      <td>15</td>\n",
       "    </tr>\n",
       "    <tr>\n",
       "      <th>2</th>\n",
       "      <td>FD</td>\n",
       "      <td>LF</td>\n",
       "      <td>Meat</td>\n",
       "      <td>141.6180</td>\n",
       "      <td>OUT049</td>\n",
       "      <td>Medium</td>\n",
       "      <td>Tier 1</td>\n",
       "      <td>Supermarket Type1</td>\n",
       "      <td>2097.2700</td>\n",
       "      <td>17.50</td>\n",
       "      <td>0.016760</td>\n",
       "      <td>25</td>\n",
       "    </tr>\n",
       "    <tr>\n",
       "      <th>3</th>\n",
       "      <td>FD</td>\n",
       "      <td>Regular</td>\n",
       "      <td>Fruits and Vegetables</td>\n",
       "      <td>182.0950</td>\n",
       "      <td>OUT010</td>\n",
       "      <td>Small</td>\n",
       "      <td>Tier 3</td>\n",
       "      <td>Grocery Store</td>\n",
       "      <td>732.3800</td>\n",
       "      <td>19.20</td>\n",
       "      <td>0.015755</td>\n",
       "      <td>26</td>\n",
       "    </tr>\n",
       "    <tr>\n",
       "      <th>4</th>\n",
       "      <td>NC</td>\n",
       "      <td>LF</td>\n",
       "      <td>Household</td>\n",
       "      <td>53.8614</td>\n",
       "      <td>OUT013</td>\n",
       "      <td>High</td>\n",
       "      <td>Tier 3</td>\n",
       "      <td>Supermarket Type1</td>\n",
       "      <td>994.7052</td>\n",
       "      <td>8.93</td>\n",
       "      <td>0.014751</td>\n",
       "      <td>37</td>\n",
       "    </tr>\n",
       "  </tbody>\n",
       "</table>\n",
       "</div>"
      ],
      "text/plain": [
       "  Item_Identifier Item_Fat_Content              Item_Type  Item_MRP  \\\n",
       "0              FD               LF                  Dairy  249.8092   \n",
       "1              DR          Regular            Soft Drinks   48.2692   \n",
       "2              FD               LF                   Meat  141.6180   \n",
       "3              FD          Regular  Fruits and Vegetables  182.0950   \n",
       "4              NC               LF              Household   53.8614   \n",
       "\n",
       "  Outlet_Identifier Outlet_Size Outlet_Location_Type        Outlet_Type  \\\n",
       "0            OUT049      Medium               Tier 1  Supermarket Type1   \n",
       "1            OUT018      Medium               Tier 3  Supermarket Type2   \n",
       "2            OUT049      Medium               Tier 1  Supermarket Type1   \n",
       "3            OUT010       Small               Tier 3      Grocery Store   \n",
       "4            OUT013        High               Tier 3  Supermarket Type1   \n",
       "\n",
       "   Item_Outlet_Sales  Item_Weight_interploate  Item_Visibility_interpolate  \\\n",
       "0          3735.1380                     9.30                     0.016047   \n",
       "1           443.4228                     5.92                     0.019278   \n",
       "2          2097.2700                    17.50                     0.016760   \n",
       "3           732.3800                    19.20                     0.015755   \n",
       "4           994.7052                     8.93                     0.014751   \n",
       "\n",
       "   Outlet_age  \n",
       "0          25  \n",
       "1          15  \n",
       "2          25  \n",
       "3          26  \n",
       "4          37  "
      ]
     },
     "execution_count": 101,
     "metadata": {},
     "output_type": "execute_result"
    }
   ],
   "source": [
    "data.head(5)"
   ]
  },
  {
   "cell_type": "code",
   "execution_count": 102,
   "id": "68f69b71",
   "metadata": {},
   "outputs": [],
   "source": [
    "from sklearn.preprocessing import OrdinalEncoder"
   ]
  },
  {
   "cell_type": "code",
   "execution_count": 103,
   "id": "a5d79319",
   "metadata": {},
   "outputs": [],
   "source": [
    "data_encoded = data.copy()"
   ]
  },
  {
   "cell_type": "code",
   "execution_count": 104,
   "id": "ead6c9cd",
   "metadata": {},
   "outputs": [],
   "source": [
    "cat_cols = data.select_dtypes(include=['object']).columns"
   ]
  },
  {
   "cell_type": "code",
   "execution_count": 115,
   "id": "d2c94d9f",
   "metadata": {},
   "outputs": [],
   "source": [
    "for col in cat_cols:\n",
    "    oe = OrdinalEncoder()\n",
    "    data_encoded[col] = oe.fit_transform(data_encoded[[col]])"
   ]
  },
  {
   "cell_type": "code",
   "execution_count": 116,
   "id": "b1603ce1",
   "metadata": {},
   "outputs": [
    {
     "data": {
      "text/html": [
       "<div>\n",
       "<style scoped>\n",
       "    .dataframe tbody tr th:only-of-type {\n",
       "        vertical-align: middle;\n",
       "    }\n",
       "\n",
       "    .dataframe tbody tr th {\n",
       "        vertical-align: top;\n",
       "    }\n",
       "\n",
       "    .dataframe thead th {\n",
       "        text-align: right;\n",
       "    }\n",
       "</style>\n",
       "<table border=\"1\" class=\"dataframe\">\n",
       "  <thead>\n",
       "    <tr style=\"text-align: right;\">\n",
       "      <th></th>\n",
       "      <th>Item_Identifier</th>\n",
       "      <th>Item_Fat_Content</th>\n",
       "      <th>Item_Type</th>\n",
       "      <th>Item_MRP</th>\n",
       "      <th>Outlet_Identifier</th>\n",
       "      <th>Outlet_Size</th>\n",
       "      <th>Outlet_Location_Type</th>\n",
       "      <th>Outlet_Type</th>\n",
       "      <th>Item_Outlet_Sales</th>\n",
       "      <th>Item_Weight_interploate</th>\n",
       "      <th>Item_Visibility_interpolate</th>\n",
       "      <th>Outlet_age</th>\n",
       "    </tr>\n",
       "  </thead>\n",
       "  <tbody>\n",
       "    <tr>\n",
       "      <th>0</th>\n",
       "      <td>1.0</td>\n",
       "      <td>0.0</td>\n",
       "      <td>4.0</td>\n",
       "      <td>249.8092</td>\n",
       "      <td>9.0</td>\n",
       "      <td>1.0</td>\n",
       "      <td>0.0</td>\n",
       "      <td>1.0</td>\n",
       "      <td>3735.1380</td>\n",
       "      <td>9.30</td>\n",
       "      <td>0.016047</td>\n",
       "      <td>25</td>\n",
       "    </tr>\n",
       "    <tr>\n",
       "      <th>1</th>\n",
       "      <td>0.0</td>\n",
       "      <td>1.0</td>\n",
       "      <td>14.0</td>\n",
       "      <td>48.2692</td>\n",
       "      <td>3.0</td>\n",
       "      <td>1.0</td>\n",
       "      <td>2.0</td>\n",
       "      <td>2.0</td>\n",
       "      <td>443.4228</td>\n",
       "      <td>5.92</td>\n",
       "      <td>0.019278</td>\n",
       "      <td>15</td>\n",
       "    </tr>\n",
       "    <tr>\n",
       "      <th>2</th>\n",
       "      <td>1.0</td>\n",
       "      <td>0.0</td>\n",
       "      <td>10.0</td>\n",
       "      <td>141.6180</td>\n",
       "      <td>9.0</td>\n",
       "      <td>1.0</td>\n",
       "      <td>0.0</td>\n",
       "      <td>1.0</td>\n",
       "      <td>2097.2700</td>\n",
       "      <td>17.50</td>\n",
       "      <td>0.016760</td>\n",
       "      <td>25</td>\n",
       "    </tr>\n",
       "    <tr>\n",
       "      <th>3</th>\n",
       "      <td>1.0</td>\n",
       "      <td>1.0</td>\n",
       "      <td>6.0</td>\n",
       "      <td>182.0950</td>\n",
       "      <td>0.0</td>\n",
       "      <td>2.0</td>\n",
       "      <td>2.0</td>\n",
       "      <td>0.0</td>\n",
       "      <td>732.3800</td>\n",
       "      <td>19.20</td>\n",
       "      <td>0.015755</td>\n",
       "      <td>26</td>\n",
       "    </tr>\n",
       "    <tr>\n",
       "      <th>4</th>\n",
       "      <td>2.0</td>\n",
       "      <td>0.0</td>\n",
       "      <td>9.0</td>\n",
       "      <td>53.8614</td>\n",
       "      <td>1.0</td>\n",
       "      <td>0.0</td>\n",
       "      <td>2.0</td>\n",
       "      <td>1.0</td>\n",
       "      <td>994.7052</td>\n",
       "      <td>8.93</td>\n",
       "      <td>0.014751</td>\n",
       "      <td>37</td>\n",
       "    </tr>\n",
       "  </tbody>\n",
       "</table>\n",
       "</div>"
      ],
      "text/plain": [
       "   Item_Identifier  Item_Fat_Content  Item_Type  Item_MRP  Outlet_Identifier  \\\n",
       "0              1.0               0.0        4.0  249.8092                9.0   \n",
       "1              0.0               1.0       14.0   48.2692                3.0   \n",
       "2              1.0               0.0       10.0  141.6180                9.0   \n",
       "3              1.0               1.0        6.0  182.0950                0.0   \n",
       "4              2.0               0.0        9.0   53.8614                1.0   \n",
       "\n",
       "   Outlet_Size  Outlet_Location_Type  Outlet_Type  Item_Outlet_Sales  \\\n",
       "0          1.0                   0.0          1.0          3735.1380   \n",
       "1          1.0                   2.0          2.0           443.4228   \n",
       "2          1.0                   0.0          1.0          2097.2700   \n",
       "3          2.0                   2.0          0.0           732.3800   \n",
       "4          0.0                   2.0          1.0           994.7052   \n",
       "\n",
       "   Item_Weight_interploate  Item_Visibility_interpolate  Outlet_age  \n",
       "0                     9.30                     0.016047          25  \n",
       "1                     5.92                     0.019278          15  \n",
       "2                    17.50                     0.016760          25  \n",
       "3                    19.20                     0.015755          26  \n",
       "4                     8.93                     0.014751          37  "
      ]
     },
     "execution_count": 116,
     "metadata": {},
     "output_type": "execute_result"
    }
   ],
   "source": [
    "data_encoded.head(5)"
   ]
  },
  {
   "cell_type": "code",
   "execution_count": 118,
   "id": "b44d1e09",
   "metadata": {},
   "outputs": [
    {
     "data": {
      "text/html": [
       "<div>\n",
       "<style scoped>\n",
       "    .dataframe tbody tr th:only-of-type {\n",
       "        vertical-align: middle;\n",
       "    }\n",
       "\n",
       "    .dataframe tbody tr th {\n",
       "        vertical-align: top;\n",
       "    }\n",
       "\n",
       "    .dataframe thead th {\n",
       "        text-align: right;\n",
       "    }\n",
       "</style>\n",
       "<table border=\"1\" class=\"dataframe\">\n",
       "  <thead>\n",
       "    <tr style=\"text-align: right;\">\n",
       "      <th></th>\n",
       "      <th>Item_Identifier</th>\n",
       "      <th>Item_Fat_Content</th>\n",
       "      <th>Item_Type</th>\n",
       "      <th>Item_MRP</th>\n",
       "      <th>Outlet_Identifier</th>\n",
       "      <th>Outlet_Size</th>\n",
       "      <th>Outlet_Location_Type</th>\n",
       "      <th>Outlet_Type</th>\n",
       "      <th>Item_Weight_interploate</th>\n",
       "      <th>Item_Visibility_interpolate</th>\n",
       "      <th>Outlet_age</th>\n",
       "    </tr>\n",
       "  </thead>\n",
       "  <tbody>\n",
       "    <tr>\n",
       "      <th>0</th>\n",
       "      <td>1.0</td>\n",
       "      <td>0.0</td>\n",
       "      <td>4.0</td>\n",
       "      <td>249.8092</td>\n",
       "      <td>9.0</td>\n",
       "      <td>1.0</td>\n",
       "      <td>0.0</td>\n",
       "      <td>1.0</td>\n",
       "      <td>9.300</td>\n",
       "      <td>0.016047</td>\n",
       "      <td>25</td>\n",
       "    </tr>\n",
       "    <tr>\n",
       "      <th>1</th>\n",
       "      <td>0.0</td>\n",
       "      <td>1.0</td>\n",
       "      <td>14.0</td>\n",
       "      <td>48.2692</td>\n",
       "      <td>3.0</td>\n",
       "      <td>1.0</td>\n",
       "      <td>2.0</td>\n",
       "      <td>2.0</td>\n",
       "      <td>5.920</td>\n",
       "      <td>0.019278</td>\n",
       "      <td>15</td>\n",
       "    </tr>\n",
       "    <tr>\n",
       "      <th>2</th>\n",
       "      <td>1.0</td>\n",
       "      <td>0.0</td>\n",
       "      <td>10.0</td>\n",
       "      <td>141.6180</td>\n",
       "      <td>9.0</td>\n",
       "      <td>1.0</td>\n",
       "      <td>0.0</td>\n",
       "      <td>1.0</td>\n",
       "      <td>17.500</td>\n",
       "      <td>0.016760</td>\n",
       "      <td>25</td>\n",
       "    </tr>\n",
       "    <tr>\n",
       "      <th>3</th>\n",
       "      <td>1.0</td>\n",
       "      <td>1.0</td>\n",
       "      <td>6.0</td>\n",
       "      <td>182.0950</td>\n",
       "      <td>0.0</td>\n",
       "      <td>2.0</td>\n",
       "      <td>2.0</td>\n",
       "      <td>0.0</td>\n",
       "      <td>19.200</td>\n",
       "      <td>0.015755</td>\n",
       "      <td>26</td>\n",
       "    </tr>\n",
       "    <tr>\n",
       "      <th>4</th>\n",
       "      <td>2.0</td>\n",
       "      <td>0.0</td>\n",
       "      <td>9.0</td>\n",
       "      <td>53.8614</td>\n",
       "      <td>1.0</td>\n",
       "      <td>0.0</td>\n",
       "      <td>2.0</td>\n",
       "      <td>1.0</td>\n",
       "      <td>8.930</td>\n",
       "      <td>0.014751</td>\n",
       "      <td>37</td>\n",
       "    </tr>\n",
       "    <tr>\n",
       "      <th>...</th>\n",
       "      <td>...</td>\n",
       "      <td>...</td>\n",
       "      <td>...</td>\n",
       "      <td>...</td>\n",
       "      <td>...</td>\n",
       "      <td>...</td>\n",
       "      <td>...</td>\n",
       "      <td>...</td>\n",
       "      <td>...</td>\n",
       "      <td>...</td>\n",
       "      <td>...</td>\n",
       "    </tr>\n",
       "    <tr>\n",
       "      <th>8518</th>\n",
       "      <td>1.0</td>\n",
       "      <td>0.0</td>\n",
       "      <td>13.0</td>\n",
       "      <td>214.5218</td>\n",
       "      <td>1.0</td>\n",
       "      <td>0.0</td>\n",
       "      <td>2.0</td>\n",
       "      <td>1.0</td>\n",
       "      <td>6.865</td>\n",
       "      <td>0.056783</td>\n",
       "      <td>37</td>\n",
       "    </tr>\n",
       "    <tr>\n",
       "      <th>8519</th>\n",
       "      <td>1.0</td>\n",
       "      <td>1.0</td>\n",
       "      <td>0.0</td>\n",
       "      <td>108.1570</td>\n",
       "      <td>7.0</td>\n",
       "      <td>2.0</td>\n",
       "      <td>1.0</td>\n",
       "      <td>1.0</td>\n",
       "      <td>8.380</td>\n",
       "      <td>0.046982</td>\n",
       "      <td>22</td>\n",
       "    </tr>\n",
       "    <tr>\n",
       "      <th>8520</th>\n",
       "      <td>2.0</td>\n",
       "      <td>0.0</td>\n",
       "      <td>8.0</td>\n",
       "      <td>85.1224</td>\n",
       "      <td>6.0</td>\n",
       "      <td>2.0</td>\n",
       "      <td>1.0</td>\n",
       "      <td>1.0</td>\n",
       "      <td>10.600</td>\n",
       "      <td>0.035186</td>\n",
       "      <td>20</td>\n",
       "    </tr>\n",
       "    <tr>\n",
       "      <th>8521</th>\n",
       "      <td>1.0</td>\n",
       "      <td>1.0</td>\n",
       "      <td>13.0</td>\n",
       "      <td>103.1332</td>\n",
       "      <td>3.0</td>\n",
       "      <td>1.0</td>\n",
       "      <td>2.0</td>\n",
       "      <td>2.0</td>\n",
       "      <td>7.210</td>\n",
       "      <td>0.145221</td>\n",
       "      <td>15</td>\n",
       "    </tr>\n",
       "    <tr>\n",
       "      <th>8522</th>\n",
       "      <td>0.0</td>\n",
       "      <td>0.0</td>\n",
       "      <td>14.0</td>\n",
       "      <td>75.4670</td>\n",
       "      <td>8.0</td>\n",
       "      <td>2.0</td>\n",
       "      <td>0.0</td>\n",
       "      <td>1.0</td>\n",
       "      <td>14.800</td>\n",
       "      <td>0.044878</td>\n",
       "      <td>27</td>\n",
       "    </tr>\n",
       "  </tbody>\n",
       "</table>\n",
       "<p>8523 rows × 11 columns</p>\n",
       "</div>"
      ],
      "text/plain": [
       "      Item_Identifier  Item_Fat_Content  Item_Type  Item_MRP  \\\n",
       "0                 1.0               0.0        4.0  249.8092   \n",
       "1                 0.0               1.0       14.0   48.2692   \n",
       "2                 1.0               0.0       10.0  141.6180   \n",
       "3                 1.0               1.0        6.0  182.0950   \n",
       "4                 2.0               0.0        9.0   53.8614   \n",
       "...               ...               ...        ...       ...   \n",
       "8518              1.0               0.0       13.0  214.5218   \n",
       "8519              1.0               1.0        0.0  108.1570   \n",
       "8520              2.0               0.0        8.0   85.1224   \n",
       "8521              1.0               1.0       13.0  103.1332   \n",
       "8522              0.0               0.0       14.0   75.4670   \n",
       "\n",
       "      Outlet_Identifier  Outlet_Size  Outlet_Location_Type  Outlet_Type  \\\n",
       "0                   9.0          1.0                   0.0          1.0   \n",
       "1                   3.0          1.0                   2.0          2.0   \n",
       "2                   9.0          1.0                   0.0          1.0   \n",
       "3                   0.0          2.0                   2.0          0.0   \n",
       "4                   1.0          0.0                   2.0          1.0   \n",
       "...                 ...          ...                   ...          ...   \n",
       "8518                1.0          0.0                   2.0          1.0   \n",
       "8519                7.0          2.0                   1.0          1.0   \n",
       "8520                6.0          2.0                   1.0          1.0   \n",
       "8521                3.0          1.0                   2.0          2.0   \n",
       "8522                8.0          2.0                   0.0          1.0   \n",
       "\n",
       "      Item_Weight_interploate  Item_Visibility_interpolate  Outlet_age  \n",
       "0                       9.300                     0.016047          25  \n",
       "1                       5.920                     0.019278          15  \n",
       "2                      17.500                     0.016760          25  \n",
       "3                      19.200                     0.015755          26  \n",
       "4                       8.930                     0.014751          37  \n",
       "...                       ...                          ...         ...  \n",
       "8518                    6.865                     0.056783          37  \n",
       "8519                    8.380                     0.046982          22  \n",
       "8520                   10.600                     0.035186          20  \n",
       "8521                    7.210                     0.145221          15  \n",
       "8522                   14.800                     0.044878          27  \n",
       "\n",
       "[8523 rows x 11 columns]"
      ]
     },
     "execution_count": 118,
     "metadata": {},
     "output_type": "execute_result"
    }
   ],
   "source": [
    "X = data_encoded.drop('Item_Outlet_Sales',axis=1)\n",
    "X"
   ]
  },
  {
   "cell_type": "code",
   "execution_count": 120,
   "id": "71acd559",
   "metadata": {},
   "outputs": [
    {
     "data": {
      "text/plain": [
       "0       3735.1380\n",
       "1        443.4228\n",
       "2       2097.2700\n",
       "3        732.3800\n",
       "4        994.7052\n",
       "          ...    \n",
       "8518    2778.3834\n",
       "8519     549.2850\n",
       "8520    1193.1136\n",
       "8521    1845.5976\n",
       "8522     765.6700\n",
       "Name: Item_Outlet_Sales, Length: 8523, dtype: float64"
      ]
     },
     "execution_count": 120,
     "metadata": {},
     "output_type": "execute_result"
    }
   ],
   "source": [
    "y = data_encoded['Item_Outlet_Sales']\n",
    "y"
   ]
  },
  {
   "cell_type": "code",
   "execution_count": 122,
   "id": "29933d03",
   "metadata": {},
   "outputs": [
    {
     "name": "stdout",
     "output_type": "stream",
     "text": [
      "0.5549992903957147\n"
     ]
    }
   ],
   "source": [
    "#Random Forest Regressor\n",
    "\n",
    "from sklearn.ensemble import RandomForestRegressor\n",
    "\n",
    "from sklearn.model_selection import cross_val_score\n",
    "\n",
    "rf = RandomForestRegressor(n_estimators=100,random_state=42)\n",
    "scores = cross_val_score(rf,X,y,cv=5,scoring='r2')\n",
    "print(scores.mean())\n"
   ]
  },
  {
   "cell_type": "code",
   "execution_count": 126,
   "id": "b9de3520",
   "metadata": {},
   "outputs": [
    {
     "name": "stdout",
     "output_type": "stream",
     "text": [
      "Collecting xgboost\n",
      "  Downloading xgboost-2.0.3-py3-none-win_amd64.whl (99.8 MB)\n",
      "     ---------------------------------------- 0.0/99.8 MB ? eta -:--:--\n",
      "     ---------------------------------------- 0.0/99.8 MB ? eta -:--:--\n",
      "     ---------------------------------------- 0.1/99.8 MB 1.2 MB/s eta 0:01:27\n",
      "     ---------------------------------------- 0.1/99.8 MB 1.2 MB/s eta 0:01:22\n",
      "     ---------------------------------------- 0.4/99.8 MB 2.5 MB/s eta 0:00:41\n",
      "     ---------------------------------------- 0.6/99.8 MB 3.2 MB/s eta 0:00:32\n",
      "     ---------------------------------------- 0.8/99.8 MB 3.5 MB/s eta 0:00:29\n",
      "     ---------------------------------------- 1.1/99.8 MB 4.1 MB/s eta 0:00:24\n",
      "      --------------------------------------- 1.4/99.8 MB 4.4 MB/s eta 0:00:23\n",
      "      --------------------------------------- 1.7/99.8 MB 4.9 MB/s eta 0:00:21\n",
      "      --------------------------------------- 2.0/99.8 MB 5.1 MB/s eta 0:00:20\n",
      "      --------------------------------------- 2.5/99.8 MB 5.8 MB/s eta 0:00:17\n",
      "     - -------------------------------------- 2.9/99.8 MB 6.3 MB/s eta 0:00:16\n",
      "     - -------------------------------------- 3.3/99.8 MB 6.5 MB/s eta 0:00:15\n",
      "     - -------------------------------------- 3.7/99.8 MB 6.8 MB/s eta 0:00:15\n",
      "     - -------------------------------------- 4.0/99.8 MB 6.6 MB/s eta 0:00:15\n",
      "     - -------------------------------------- 4.3/99.8 MB 6.9 MB/s eta 0:00:14\n",
      "     - -------------------------------------- 4.6/99.8 MB 6.8 MB/s eta 0:00:15\n",
      "     - -------------------------------------- 4.7/99.8 MB 6.7 MB/s eta 0:00:15\n",
      "     - -------------------------------------- 4.9/99.8 MB 6.5 MB/s eta 0:00:15\n",
      "     - -------------------------------------- 5.0/99.8 MB 6.2 MB/s eta 0:00:16\n",
      "     -- ------------------------------------- 5.1/99.8 MB 6.0 MB/s eta 0:00:16\n",
      "     -- ------------------------------------- 5.2/99.8 MB 5.9 MB/s eta 0:00:17\n",
      "     -- ------------------------------------- 5.2/99.8 MB 5.7 MB/s eta 0:00:17\n",
      "     -- ------------------------------------- 5.3/99.8 MB 5.6 MB/s eta 0:00:17\n",
      "     -- ------------------------------------- 5.4/99.8 MB 5.5 MB/s eta 0:00:18\n",
      "     -- ------------------------------------- 5.5/99.8 MB 5.3 MB/s eta 0:00:18\n",
      "     -- ------------------------------------- 5.6/99.8 MB 5.2 MB/s eta 0:00:19\n",
      "     -- ------------------------------------- 5.7/99.8 MB 5.1 MB/s eta 0:00:19\n",
      "     -- ------------------------------------- 5.8/99.8 MB 5.0 MB/s eta 0:00:19\n",
      "     -- ------------------------------------- 5.9/99.8 MB 4.9 MB/s eta 0:00:20\n",
      "     -- ------------------------------------- 6.0/99.8 MB 4.8 MB/s eta 0:00:20\n",
      "     -- ------------------------------------- 6.1/99.8 MB 4.7 MB/s eta 0:00:20\n",
      "     -- ------------------------------------- 6.2/99.8 MB 4.6 MB/s eta 0:00:21\n",
      "     -- ------------------------------------- 6.2/99.8 MB 4.6 MB/s eta 0:00:21\n",
      "     -- ------------------------------------- 6.3/99.8 MB 4.5 MB/s eta 0:00:21\n",
      "     -- ------------------------------------- 6.4/99.8 MB 4.5 MB/s eta 0:00:21\n",
      "     -- ------------------------------------- 6.5/99.8 MB 4.4 MB/s eta 0:00:22\n",
      "     -- ------------------------------------- 6.6/99.8 MB 4.3 MB/s eta 0:00:22\n",
      "     -- ------------------------------------- 6.7/99.8 MB 4.3 MB/s eta 0:00:22\n",
      "     -- ------------------------------------- 6.8/99.8 MB 4.2 MB/s eta 0:00:23\n",
      "     -- ------------------------------------- 6.9/99.8 MB 4.1 MB/s eta 0:00:23\n",
      "     -- ------------------------------------- 7.0/99.8 MB 4.1 MB/s eta 0:00:23\n",
      "     -- ------------------------------------- 7.1/99.8 MB 4.1 MB/s eta 0:00:23\n",
      "     -- ------------------------------------- 7.2/99.8 MB 4.0 MB/s eta 0:00:23\n",
      "     -- ------------------------------------- 7.3/99.8 MB 4.0 MB/s eta 0:00:24\n",
      "     -- ------------------------------------- 7.4/99.8 MB 4.0 MB/s eta 0:00:24\n",
      "     -- ------------------------------------- 7.5/99.8 MB 3.9 MB/s eta 0:00:24\n",
      "     --- ------------------------------------ 7.6/99.8 MB 3.9 MB/s eta 0:00:24\n",
      "     --- ------------------------------------ 7.7/99.8 MB 3.9 MB/s eta 0:00:24\n",
      "     --- ------------------------------------ 7.8/99.8 MB 3.8 MB/s eta 0:00:24\n",
      "     --- ------------------------------------ 7.9/99.8 MB 3.8 MB/s eta 0:00:25\n",
      "     --- ------------------------------------ 8.0/99.8 MB 3.8 MB/s eta 0:00:25\n",
      "     --- ------------------------------------ 8.1/99.8 MB 3.8 MB/s eta 0:00:25\n",
      "     --- ------------------------------------ 8.3/99.8 MB 3.8 MB/s eta 0:00:25\n",
      "     --- ------------------------------------ 8.4/99.8 MB 3.7 MB/s eta 0:00:25\n",
      "     --- ------------------------------------ 8.5/99.8 MB 3.7 MB/s eta 0:00:25\n",
      "     --- ------------------------------------ 8.7/99.8 MB 3.7 MB/s eta 0:00:25\n",
      "     --- ------------------------------------ 8.8/99.8 MB 3.7 MB/s eta 0:00:25\n",
      "     --- ------------------------------------ 9.0/99.8 MB 3.7 MB/s eta 0:00:25\n",
      "     --- ------------------------------------ 9.1/99.8 MB 3.7 MB/s eta 0:00:25\n",
      "     --- ------------------------------------ 9.2/99.8 MB 3.7 MB/s eta 0:00:25\n",
      "     --- ------------------------------------ 9.4/99.8 MB 3.7 MB/s eta 0:00:25\n",
      "     --- ------------------------------------ 9.5/99.8 MB 3.7 MB/s eta 0:00:25\n",
      "     --- ------------------------------------ 9.6/99.8 MB 3.7 MB/s eta 0:00:25\n",
      "     --- ------------------------------------ 9.7/99.8 MB 3.7 MB/s eta 0:00:25\n",
      "     --- ------------------------------------ 9.9/99.8 MB 3.7 MB/s eta 0:00:25\n",
      "     ---- ----------------------------------- 10.0/99.8 MB 3.6 MB/s eta 0:00:25\n",
      "     ---- ----------------------------------- 10.1/99.8 MB 3.6 MB/s eta 0:00:25\n",
      "     ---- ----------------------------------- 10.3/99.8 MB 3.7 MB/s eta 0:00:25\n",
      "     ---- ----------------------------------- 10.5/99.8 MB 3.7 MB/s eta 0:00:24\n",
      "     ---- ----------------------------------- 10.6/99.8 MB 3.7 MB/s eta 0:00:24\n",
      "     ---- ----------------------------------- 10.8/99.8 MB 3.7 MB/s eta 0:00:25\n",
      "     ---- ----------------------------------- 10.9/99.8 MB 3.7 MB/s eta 0:00:25\n",
      "     ---- ----------------------------------- 11.1/99.8 MB 3.7 MB/s eta 0:00:25\n",
      "     ---- ----------------------------------- 11.3/99.8 MB 3.6 MB/s eta 0:00:25\n",
      "     ---- ----------------------------------- 11.4/99.8 MB 3.6 MB/s eta 0:00:25\n",
      "     ---- ----------------------------------- 11.6/99.8 MB 3.6 MB/s eta 0:00:25\n",
      "     ---- ----------------------------------- 11.8/99.8 MB 3.6 MB/s eta 0:00:25\n",
      "     ---- ----------------------------------- 12.0/99.8 MB 3.5 MB/s eta 0:00:25\n",
      "     ---- ----------------------------------- 12.2/99.8 MB 3.5 MB/s eta 0:00:25\n",
      "     ---- ----------------------------------- 12.4/99.8 MB 3.5 MB/s eta 0:00:25\n",
      "     ----- ---------------------------------- 12.5/99.8 MB 3.5 MB/s eta 0:00:26\n",
      "     ----- ---------------------------------- 12.7/99.8 MB 3.4 MB/s eta 0:00:26\n",
      "     ----- ---------------------------------- 12.9/99.8 MB 3.4 MB/s eta 0:00:26\n",
      "     ----- ---------------------------------- 13.0/99.8 MB 3.4 MB/s eta 0:00:26\n",
      "     ----- ---------------------------------- 13.2/99.8 MB 3.4 MB/s eta 0:00:26\n",
      "     ----- ---------------------------------- 13.3/99.8 MB 3.3 MB/s eta 0:00:26\n",
      "     ----- ---------------------------------- 13.5/99.8 MB 3.3 MB/s eta 0:00:27\n",
      "     ----- ---------------------------------- 13.7/99.8 MB 3.3 MB/s eta 0:00:27\n",
      "     ----- ---------------------------------- 13.9/99.8 MB 3.3 MB/s eta 0:00:27\n",
      "     ----- ---------------------------------- 14.0/99.8 MB 3.2 MB/s eta 0:00:27\n",
      "     ----- ---------------------------------- 14.3/99.8 MB 3.2 MB/s eta 0:00:27\n",
      "     ----- ---------------------------------- 14.5/99.8 MB 3.2 MB/s eta 0:00:27\n",
      "     ----- ---------------------------------- 14.7/99.8 MB 3.2 MB/s eta 0:00:27\n",
      "     ----- ---------------------------------- 14.9/99.8 MB 3.2 MB/s eta 0:00:27\n",
      "     ------ --------------------------------- 15.1/99.8 MB 3.2 MB/s eta 0:00:27\n",
      "     ------ --------------------------------- 15.3/99.8 MB 3.3 MB/s eta 0:00:26\n",
      "     ------ --------------------------------- 15.6/99.8 MB 3.4 MB/s eta 0:00:26\n",
      "     ------ --------------------------------- 15.8/99.8 MB 3.4 MB/s eta 0:00:25\n",
      "     ------ --------------------------------- 16.0/99.8 MB 3.5 MB/s eta 0:00:25\n",
      "     ------ --------------------------------- 16.2/99.8 MB 3.6 MB/s eta 0:00:24\n",
      "     ------ --------------------------------- 16.4/99.8 MB 3.6 MB/s eta 0:00:24\n",
      "     ------ --------------------------------- 16.7/99.8 MB 3.7 MB/s eta 0:00:23\n",
      "     ------ --------------------------------- 17.0/99.8 MB 3.9 MB/s eta 0:00:22\n",
      "     ------ --------------------------------- 17.2/99.8 MB 4.0 MB/s eta 0:00:21\n",
      "     ------- -------------------------------- 17.5/99.8 MB 4.1 MB/s eta 0:00:21\n",
      "     ------- -------------------------------- 17.8/99.8 MB 4.2 MB/s eta 0:00:20\n",
      "     ------- -------------------------------- 18.1/99.8 MB 4.4 MB/s eta 0:00:19\n",
      "     ------- -------------------------------- 18.4/99.8 MB 4.5 MB/s eta 0:00:19\n",
      "     ------- -------------------------------- 18.6/99.8 MB 4.5 MB/s eta 0:00:18\n",
      "     ------- -------------------------------- 18.9/99.8 MB 4.6 MB/s eta 0:00:18\n",
      "     ------- -------------------------------- 19.1/99.8 MB 4.7 MB/s eta 0:00:18\n",
      "     ------- -------------------------------- 19.3/99.8 MB 4.8 MB/s eta 0:00:17\n",
      "     ------- -------------------------------- 19.6/99.8 MB 4.8 MB/s eta 0:00:17\n",
      "     ------- -------------------------------- 19.8/99.8 MB 4.9 MB/s eta 0:00:17\n",
      "     -------- ------------------------------- 20.1/99.8 MB 5.0 MB/s eta 0:00:16\n",
      "     -------- ------------------------------- 20.3/99.8 MB 5.1 MB/s eta 0:00:16\n",
      "     -------- ------------------------------- 20.5/99.8 MB 5.1 MB/s eta 0:00:16\n",
      "     -------- ------------------------------- 20.8/99.8 MB 5.2 MB/s eta 0:00:16\n",
      "     -------- ------------------------------- 21.0/99.8 MB 5.2 MB/s eta 0:00:16\n",
      "     -------- ------------------------------- 21.2/99.8 MB 5.2 MB/s eta 0:00:15\n",
      "     -------- ------------------------------- 21.4/99.8 MB 5.3 MB/s eta 0:00:15\n",
      "     -------- ------------------------------- 21.6/99.8 MB 5.3 MB/s eta 0:00:15\n",
      "     -------- ------------------------------- 21.9/99.8 MB 5.4 MB/s eta 0:00:15\n",
      "     -------- ------------------------------- 22.1/99.8 MB 5.4 MB/s eta 0:00:15\n",
      "     -------- ------------------------------- 22.4/99.8 MB 5.5 MB/s eta 0:00:15\n",
      "     --------- ------------------------------ 22.6/99.8 MB 5.5 MB/s eta 0:00:15\n",
      "     --------- ------------------------------ 22.9/99.8 MB 5.5 MB/s eta 0:00:14\n",
      "     --------- ------------------------------ 23.1/99.8 MB 5.6 MB/s eta 0:00:14\n",
      "     --------- ------------------------------ 23.4/99.8 MB 5.7 MB/s eta 0:00:14\n",
      "     --------- ------------------------------ 23.7/99.8 MB 5.8 MB/s eta 0:00:14\n",
      "     --------- ------------------------------ 24.0/99.8 MB 5.9 MB/s eta 0:00:13\n",
      "     --------- ------------------------------ 24.3/99.8 MB 6.0 MB/s eta 0:00:13\n",
      "     --------- ------------------------------ 24.6/99.8 MB 6.1 MB/s eta 0:00:13\n",
      "     --------- ------------------------------ 24.9/99.8 MB 6.1 MB/s eta 0:00:13\n",
      "     ---------- ----------------------------- 25.3/99.8 MB 6.2 MB/s eta 0:00:13\n",
      "     ---------- ----------------------------- 25.6/99.8 MB 6.3 MB/s eta 0:00:12\n",
      "     ---------- ----------------------------- 26.0/99.8 MB 6.4 MB/s eta 0:00:12\n",
      "     ---------- ----------------------------- 26.3/99.8 MB 6.4 MB/s eta 0:00:12\n",
      "     ---------- ----------------------------- 26.7/99.8 MB 6.5 MB/s eta 0:00:12\n",
      "     ---------- ----------------------------- 27.0/99.8 MB 6.6 MB/s eta 0:00:11\n",
      "     ---------- ----------------------------- 27.3/99.8 MB 6.6 MB/s eta 0:00:11\n",
      "     ----------- ---------------------------- 27.5/99.8 MB 6.5 MB/s eta 0:00:12\n",
      "     ----------- ---------------------------- 27.6/99.8 MB 6.4 MB/s eta 0:00:12\n",
      "     ----------- ---------------------------- 27.8/99.8 MB 6.4 MB/s eta 0:00:12\n",
      "     ----------- ---------------------------- 27.9/99.8 MB 6.3 MB/s eta 0:00:12\n",
      "     ----------- ---------------------------- 28.0/99.8 MB 6.2 MB/s eta 0:00:12\n",
      "     ----------- ---------------------------- 28.1/99.8 MB 6.1 MB/s eta 0:00:12\n",
      "     ----------- ---------------------------- 28.3/99.8 MB 6.0 MB/s eta 0:00:12\n",
      "     ----------- ---------------------------- 28.4/99.8 MB 6.0 MB/s eta 0:00:12\n",
      "     ----------- ---------------------------- 28.5/99.8 MB 5.9 MB/s eta 0:00:13\n",
      "     ----------- ---------------------------- 28.7/99.8 MB 5.8 MB/s eta 0:00:13\n",
      "     ----------- ---------------------------- 28.9/99.8 MB 5.8 MB/s eta 0:00:13\n",
      "     ----------- ---------------------------- 29.1/99.8 MB 5.8 MB/s eta 0:00:13\n",
      "     ----------- ---------------------------- 29.3/99.8 MB 5.7 MB/s eta 0:00:13\n",
      "     ----------- ---------------------------- 29.5/99.8 MB 5.7 MB/s eta 0:00:13\n",
      "     ----------- ---------------------------- 29.7/99.8 MB 5.7 MB/s eta 0:00:13\n",
      "     ----------- ---------------------------- 29.8/99.8 MB 5.6 MB/s eta 0:00:13\n",
      "     ------------ --------------------------- 30.0/99.8 MB 5.6 MB/s eta 0:00:13\n",
      "     ------------ --------------------------- 30.2/99.8 MB 5.6 MB/s eta 0:00:13\n",
      "     ------------ --------------------------- 30.4/99.8 MB 5.5 MB/s eta 0:00:13\n",
      "     ------------ --------------------------- 30.5/99.8 MB 5.5 MB/s eta 0:00:13\n",
      "     ------------ --------------------------- 30.7/99.8 MB 5.5 MB/s eta 0:00:13\n",
      "     ------------ --------------------------- 30.8/99.8 MB 5.5 MB/s eta 0:00:13\n",
      "     ------------ --------------------------- 31.1/99.8 MB 5.4 MB/s eta 0:00:13\n",
      "     ------------ --------------------------- 31.2/99.8 MB 5.4 MB/s eta 0:00:13\n",
      "     ------------ --------------------------- 31.4/99.8 MB 5.3 MB/s eta 0:00:13\n",
      "     ------------ --------------------------- 31.6/99.8 MB 5.4 MB/s eta 0:00:13\n",
      "     ------------ --------------------------- 31.8/99.8 MB 5.3 MB/s eta 0:00:13\n",
      "     ------------ --------------------------- 32.0/99.8 MB 5.3 MB/s eta 0:00:13\n",
      "     ------------ --------------------------- 32.2/99.8 MB 5.2 MB/s eta 0:00:13\n",
      "     ------------- -------------------------- 32.4/99.8 MB 5.3 MB/s eta 0:00:13\n",
      "     ------------- -------------------------- 32.6/99.8 MB 5.3 MB/s eta 0:00:13\n",
      "     ------------- -------------------------- 32.8/99.8 MB 5.2 MB/s eta 0:00:13\n",
      "     ------------- -------------------------- 33.0/99.8 MB 5.2 MB/s eta 0:00:13\n",
      "     ------------- -------------------------- 33.2/99.8 MB 5.2 MB/s eta 0:00:13\n",
      "     ------------- -------------------------- 33.4/99.8 MB 5.2 MB/s eta 0:00:13\n",
      "     ------------- -------------------------- 33.7/99.8 MB 5.2 MB/s eta 0:00:13\n",
      "     ------------- -------------------------- 33.9/99.8 MB 5.2 MB/s eta 0:00:13\n",
      "     ------------- -------------------------- 34.1/99.8 MB 5.2 MB/s eta 0:00:13\n",
      "     ------------- -------------------------- 34.3/99.8 MB 5.1 MB/s eta 0:00:13\n",
      "     ------------- -------------------------- 34.5/99.8 MB 5.1 MB/s eta 0:00:13\n",
      "     ------------- -------------------------- 34.7/99.8 MB 5.1 MB/s eta 0:00:13\n",
      "     -------------- ------------------------- 35.0/99.8 MB 5.0 MB/s eta 0:00:13\n",
      "     -------------- ------------------------- 35.2/99.8 MB 5.0 MB/s eta 0:00:13\n",
      "     -------------- ------------------------- 35.5/99.8 MB 5.0 MB/s eta 0:00:13\n",
      "     -------------- ------------------------- 35.7/99.8 MB 5.0 MB/s eta 0:00:13\n",
      "     -------------- ------------------------- 36.0/99.8 MB 4.9 MB/s eta 0:00:14\n",
      "     -------------- ------------------------- 36.2/99.8 MB 4.8 MB/s eta 0:00:14\n",
      "     -------------- ------------------------- 36.5/99.8 MB 4.8 MB/s eta 0:00:14\n",
      "     -------------- ------------------------- 36.7/99.8 MB 4.8 MB/s eta 0:00:14\n",
      "     -------------- ------------------------- 37.0/99.8 MB 4.8 MB/s eta 0:00:14\n",
      "     -------------- ------------------------- 37.1/99.8 MB 4.8 MB/s eta 0:00:14\n",
      "     -------------- ------------------------- 37.4/99.8 MB 4.8 MB/s eta 0:00:14\n",
      "     --------------- ------------------------ 37.6/99.8 MB 4.8 MB/s eta 0:00:13\n",
      "     --------------- ------------------------ 37.9/99.8 MB 4.8 MB/s eta 0:00:13\n",
      "     --------------- ------------------------ 38.2/99.8 MB 4.9 MB/s eta 0:00:13\n",
      "     --------------- ------------------------ 38.4/99.8 MB 5.0 MB/s eta 0:00:13\n",
      "     --------------- ------------------------ 38.7/99.8 MB 5.1 MB/s eta 0:00:13\n",
      "     --------------- ------------------------ 39.0/99.8 MB 5.2 MB/s eta 0:00:12\n",
      "     --------------- ------------------------ 39.2/99.8 MB 5.2 MB/s eta 0:00:12\n",
      "     --------------- ------------------------ 39.5/99.8 MB 5.2 MB/s eta 0:00:12\n",
      "     --------------- ------------------------ 39.7/99.8 MB 5.3 MB/s eta 0:00:12\n",
      "     ---------------- ----------------------- 40.0/99.8 MB 5.4 MB/s eta 0:00:12\n",
      "     ---------------- ----------------------- 40.4/99.8 MB 5.5 MB/s eta 0:00:11\n",
      "     ---------------- ----------------------- 40.7/99.8 MB 5.5 MB/s eta 0:00:11\n",
      "     ---------------- ----------------------- 40.9/99.8 MB 5.6 MB/s eta 0:00:11\n",
      "     ---------------- ----------------------- 41.3/99.8 MB 5.7 MB/s eta 0:00:11\n",
      "     ---------------- ----------------------- 41.6/99.8 MB 5.8 MB/s eta 0:00:10\n",
      "     ---------------- ----------------------- 41.9/99.8 MB 6.0 MB/s eta 0:00:10\n",
      "     ---------------- ----------------------- 42.2/99.8 MB 6.1 MB/s eta 0:00:10\n",
      "     ----------------- ---------------------- 42.5/99.8 MB 6.1 MB/s eta 0:00:10\n",
      "     ----------------- ---------------------- 42.8/99.8 MB 6.2 MB/s eta 0:00:10\n",
      "     ----------------- ---------------------- 43.2/99.8 MB 6.2 MB/s eta 0:00:10\n",
      "     ----------------- ---------------------- 43.3/99.8 MB 6.3 MB/s eta 0:00:09\n",
      "     ----------------- ---------------------- 43.7/99.8 MB 6.4 MB/s eta 0:00:09\n",
      "     ----------------- ---------------------- 43.9/99.8 MB 6.3 MB/s eta 0:00:09\n",
      "     ----------------- ---------------------- 44.1/99.8 MB 6.4 MB/s eta 0:00:09\n",
      "     ----------------- ---------------------- 44.3/99.8 MB 6.4 MB/s eta 0:00:09\n",
      "     ----------------- ---------------------- 44.6/99.8 MB 6.4 MB/s eta 0:00:09\n",
      "     ----------------- ---------------------- 44.8/99.8 MB 6.4 MB/s eta 0:00:09\n",
      "     ------------------ --------------------- 45.0/99.8 MB 6.4 MB/s eta 0:00:09\n",
      "     ------------------ --------------------- 45.3/99.8 MB 6.4 MB/s eta 0:00:09\n",
      "     ------------------ --------------------- 45.5/99.8 MB 6.4 MB/s eta 0:00:09\n",
      "     ------------------ --------------------- 45.8/99.8 MB 6.4 MB/s eta 0:00:09\n",
      "     ------------------ --------------------- 46.0/99.8 MB 6.4 MB/s eta 0:00:09\n",
      "     ------------------ --------------------- 46.3/99.8 MB 6.4 MB/s eta 0:00:09\n",
      "     ------------------ --------------------- 46.5/99.8 MB 6.4 MB/s eta 0:00:09\n",
      "     ------------------ --------------------- 46.7/99.8 MB 6.4 MB/s eta 0:00:09\n",
      "     ------------------ --------------------- 47.0/99.8 MB 6.4 MB/s eta 0:00:09\n",
      "     ------------------ --------------------- 47.2/99.8 MB 6.4 MB/s eta 0:00:09\n",
      "     ------------------- -------------------- 47.4/99.8 MB 6.4 MB/s eta 0:00:09\n",
      "     ------------------- -------------------- 47.7/99.8 MB 6.4 MB/s eta 0:00:09\n",
      "     ------------------- -------------------- 48.0/99.8 MB 6.4 MB/s eta 0:00:09\n",
      "     ------------------- -------------------- 48.2/99.8 MB 6.4 MB/s eta 0:00:09\n",
      "     ------------------- -------------------- 48.5/99.8 MB 6.4 MB/s eta 0:00:08\n",
      "     ------------------- -------------------- 48.8/99.8 MB 6.5 MB/s eta 0:00:08\n",
      "     ------------------- -------------------- 49.0/99.8 MB 6.4 MB/s eta 0:00:08\n",
      "     ------------------- -------------------- 49.3/99.8 MB 6.4 MB/s eta 0:00:08\n",
      "     ------------------- -------------------- 49.6/99.8 MB 6.5 MB/s eta 0:00:08\n",
      "     ------------------- -------------------- 49.8/99.8 MB 6.4 MB/s eta 0:00:08\n",
      "     -------------------- ------------------- 50.1/99.8 MB 6.4 MB/s eta 0:00:08\n",
      "     -------------------- ------------------- 50.3/99.8 MB 6.4 MB/s eta 0:00:08\n",
      "     -------------------- ------------------- 50.6/99.8 MB 6.4 MB/s eta 0:00:08\n",
      "     -------------------- ------------------- 50.9/99.8 MB 6.4 MB/s eta 0:00:08\n",
      "     -------------------- ------------------- 51.1/99.8 MB 6.4 MB/s eta 0:00:08\n",
      "     -------------------- ------------------- 51.4/99.8 MB 6.4 MB/s eta 0:00:08\n",
      "     -------------------- ------------------- 51.6/99.8 MB 6.2 MB/s eta 0:00:08\n",
      "     -------------------- ------------------- 51.7/99.8 MB 6.2 MB/s eta 0:00:08\n",
      "     -------------------- ------------------- 51.9/99.8 MB 6.1 MB/s eta 0:00:08\n",
      "     -------------------- ------------------- 52.0/99.8 MB 6.0 MB/s eta 0:00:08\n",
      "     -------------------- ------------------- 52.2/99.8 MB 6.0 MB/s eta 0:00:08\n",
      "     -------------------- ------------------- 52.4/99.8 MB 5.9 MB/s eta 0:00:09\n",
      "     --------------------- ------------------ 52.6/99.8 MB 5.8 MB/s eta 0:00:09\n",
      "     --------------------- ------------------ 52.7/99.8 MB 5.8 MB/s eta 0:00:09\n",
      "     --------------------- ------------------ 52.9/99.8 MB 5.7 MB/s eta 0:00:09\n",
      "     --------------------- ------------------ 53.0/99.8 MB 5.6 MB/s eta 0:00:09\n",
      "     --------------------- ------------------ 53.2/99.8 MB 5.6 MB/s eta 0:00:09\n",
      "     --------------------- ------------------ 53.4/99.8 MB 5.5 MB/s eta 0:00:09\n",
      "     --------------------- ------------------ 53.6/99.8 MB 5.5 MB/s eta 0:00:09\n",
      "     --------------------- ------------------ 53.7/99.8 MB 5.5 MB/s eta 0:00:09\n",
      "     --------------------- ------------------ 54.0/99.8 MB 5.4 MB/s eta 0:00:09\n",
      "     --------------------- ------------------ 54.1/99.8 MB 5.4 MB/s eta 0:00:09\n",
      "     --------------------- ------------------ 54.3/99.8 MB 5.4 MB/s eta 0:00:09\n",
      "     --------------------- ------------------ 54.5/99.8 MB 5.3 MB/s eta 0:00:09\n",
      "     --------------------- ------------------ 54.7/99.8 MB 5.3 MB/s eta 0:00:09\n",
      "     ---------------------- ----------------- 54.9/99.8 MB 5.3 MB/s eta 0:00:09\n",
      "     ---------------------- ----------------- 55.1/99.8 MB 5.3 MB/s eta 0:00:09\n",
      "     ---------------------- ----------------- 55.3/99.8 MB 5.2 MB/s eta 0:00:09\n",
      "     ---------------------- ----------------- 55.5/99.8 MB 5.2 MB/s eta 0:00:09\n",
      "     ---------------------- ----------------- 55.7/99.8 MB 5.2 MB/s eta 0:00:09\n",
      "     ---------------------- ----------------- 55.9/99.8 MB 5.2 MB/s eta 0:00:09\n",
      "     ---------------------- ----------------- 56.1/99.8 MB 5.2 MB/s eta 0:00:09\n",
      "     ---------------------- ----------------- 56.4/99.8 MB 5.2 MB/s eta 0:00:09\n",
      "     ---------------------- ----------------- 56.6/99.8 MB 5.2 MB/s eta 0:00:09\n",
      "     ---------------------- ----------------- 56.8/99.8 MB 5.2 MB/s eta 0:00:09\n",
      "     ---------------------- ----------------- 57.0/99.8 MB 5.2 MB/s eta 0:00:09\n",
      "     ---------------------- ----------------- 57.3/99.8 MB 5.2 MB/s eta 0:00:09\n",
      "     ----------------------- ---------------- 57.5/99.8 MB 5.2 MB/s eta 0:00:09\n",
      "     ----------------------- ---------------- 57.7/99.8 MB 5.2 MB/s eta 0:00:09\n",
      "     ----------------------- ---------------- 57.9/99.8 MB 5.1 MB/s eta 0:00:09\n",
      "     ----------------------- ---------------- 58.2/99.8 MB 5.1 MB/s eta 0:00:09\n",
      "     ----------------------- ---------------- 58.4/99.8 MB 5.1 MB/s eta 0:00:09\n",
      "     ----------------------- ---------------- 58.7/99.8 MB 5.1 MB/s eta 0:00:09\n",
      "     ----------------------- ---------------- 58.9/99.8 MB 5.1 MB/s eta 0:00:08\n",
      "     ----------------------- ---------------- 59.1/99.8 MB 5.1 MB/s eta 0:00:09\n",
      "     ----------------------- ---------------- 59.4/99.8 MB 5.1 MB/s eta 0:00:08\n",
      "     ----------------------- ---------------- 59.6/99.8 MB 5.1 MB/s eta 0:00:08\n",
      "     ------------------------ --------------- 59.9/99.8 MB 5.1 MB/s eta 0:00:08\n",
      "     ------------------------ --------------- 60.2/99.8 MB 5.0 MB/s eta 0:00:08\n",
      "     ------------------------ --------------- 60.5/99.8 MB 5.1 MB/s eta 0:00:08\n",
      "     ------------------------ --------------- 60.7/99.8 MB 5.0 MB/s eta 0:00:08\n",
      "     ------------------------ --------------- 61.0/99.8 MB 5.0 MB/s eta 0:00:08\n",
      "     ------------------------ --------------- 61.2/99.8 MB 5.0 MB/s eta 0:00:08\n",
      "     ------------------------ --------------- 61.5/99.8 MB 5.0 MB/s eta 0:00:08\n",
      "     ------------------------ --------------- 61.7/99.8 MB 5.1 MB/s eta 0:00:08\n",
      "     ------------------------ --------------- 62.0/99.8 MB 5.2 MB/s eta 0:00:08\n",
      "     ------------------------ --------------- 62.3/99.8 MB 5.3 MB/s eta 0:00:08\n",
      "     ------------------------- -------------- 62.6/99.8 MB 5.4 MB/s eta 0:00:07\n",
      "     ------------------------- -------------- 62.9/99.8 MB 5.5 MB/s eta 0:00:07\n",
      "     ------------------------- -------------- 63.2/99.8 MB 5.5 MB/s eta 0:00:07\n",
      "     ------------------------- -------------- 63.5/99.8 MB 5.6 MB/s eta 0:00:07\n",
      "     ------------------------- -------------- 63.7/99.8 MB 5.7 MB/s eta 0:00:07\n",
      "     ------------------------- -------------- 64.0/99.8 MB 5.7 MB/s eta 0:00:07\n",
      "     ------------------------- -------------- 64.2/99.8 MB 5.8 MB/s eta 0:00:07\n",
      "     ------------------------- -------------- 64.5/99.8 MB 5.8 MB/s eta 0:00:07\n",
      "     ------------------------- -------------- 64.8/99.8 MB 5.9 MB/s eta 0:00:06\n",
      "     -------------------------- ------------- 65.1/99.8 MB 6.0 MB/s eta 0:00:06\n",
      "     -------------------------- ------------- 65.4/99.8 MB 6.1 MB/s eta 0:00:06\n",
      "     -------------------------- ------------- 65.7/99.8 MB 6.2 MB/s eta 0:00:06\n",
      "     -------------------------- ------------- 66.0/99.8 MB 6.2 MB/s eta 0:00:06\n",
      "     -------------------------- ------------- 66.2/99.8 MB 6.2 MB/s eta 0:00:06\n",
      "     -------------------------- ------------- 66.4/99.8 MB 6.1 MB/s eta 0:00:06\n",
      "     -------------------------- ------------- 66.7/99.8 MB 6.2 MB/s eta 0:00:06\n",
      "     -------------------------- ------------- 66.9/99.8 MB 6.2 MB/s eta 0:00:06\n",
      "     -------------------------- ------------- 67.1/99.8 MB 6.2 MB/s eta 0:00:06\n",
      "     -------------------------- ------------- 67.3/99.8 MB 6.2 MB/s eta 0:00:06\n",
      "     --------------------------- ------------ 67.6/99.8 MB 6.2 MB/s eta 0:00:06\n",
      "     --------------------------- ------------ 67.8/99.8 MB 6.2 MB/s eta 0:00:06\n",
      "     --------------------------- ------------ 68.0/99.8 MB 6.3 MB/s eta 0:00:06\n",
      "     --------------------------- ------------ 68.2/99.8 MB 6.2 MB/s eta 0:00:06\n",
      "     --------------------------- ------------ 68.5/99.8 MB 6.2 MB/s eta 0:00:06\n",
      "     --------------------------- ------------ 68.8/99.8 MB 6.3 MB/s eta 0:00:05\n",
      "     --------------------------- ------------ 69.0/99.8 MB 6.3 MB/s eta 0:00:05\n",
      "     --------------------------- ------------ 69.3/99.8 MB 6.3 MB/s eta 0:00:05\n",
      "     --------------------------- ------------ 69.6/99.8 MB 6.3 MB/s eta 0:00:05\n",
      "     --------------------------- ------------ 69.8/99.8 MB 6.3 MB/s eta 0:00:05\n",
      "     ---------------------------- ----------- 70.0/99.8 MB 6.2 MB/s eta 0:00:05\n",
      "     ---------------------------- ----------- 70.3/99.8 MB 6.2 MB/s eta 0:00:05\n",
      "     ---------------------------- ----------- 70.4/99.8 MB 6.2 MB/s eta 0:00:05\n",
      "     ---------------------------- ----------- 70.6/99.8 MB 6.2 MB/s eta 0:00:05\n",
      "     ---------------------------- ----------- 70.9/99.8 MB 6.2 MB/s eta 0:00:05\n",
      "     ---------------------------- ----------- 71.2/99.8 MB 6.1 MB/s eta 0:00:05\n",
      "     ---------------------------- ----------- 71.4/99.8 MB 6.2 MB/s eta 0:00:05\n",
      "     ---------------------------- ----------- 71.7/99.8 MB 6.2 MB/s eta 0:00:05\n",
      "     ---------------------------- ----------- 71.9/99.8 MB 6.1 MB/s eta 0:00:05\n",
      "     ---------------------------- ----------- 72.3/99.8 MB 6.2 MB/s eta 0:00:05\n",
      "     ----------------------------- ---------- 72.5/99.8 MB 6.2 MB/s eta 0:00:05\n",
      "     ----------------------------- ---------- 72.8/99.8 MB 6.2 MB/s eta 0:00:05\n",
      "     ----------------------------- ---------- 73.0/99.8 MB 6.2 MB/s eta 0:00:05\n",
      "     ----------------------------- ---------- 73.4/99.8 MB 6.2 MB/s eta 0:00:05\n",
      "     ----------------------------- ---------- 73.6/99.8 MB 6.1 MB/s eta 0:00:05\n",
      "     ----------------------------- ---------- 73.8/99.8 MB 6.2 MB/s eta 0:00:05\n",
      "     ----------------------------- ---------- 74.1/99.8 MB 6.1 MB/s eta 0:00:05\n",
      "     ----------------------------- ---------- 74.4/99.8 MB 6.1 MB/s eta 0:00:05\n",
      "     ----------------------------- ---------- 74.7/99.8 MB 6.2 MB/s eta 0:00:05\n",
      "     ------------------------------ --------- 75.1/99.8 MB 6.2 MB/s eta 0:00:04\n",
      "     ------------------------------ --------- 75.4/99.8 MB 6.2 MB/s eta 0:00:04\n",
      "     ------------------------------ --------- 75.7/99.8 MB 6.2 MB/s eta 0:00:04\n",
      "     ------------------------------ --------- 76.0/99.8 MB 6.2 MB/s eta 0:00:04\n",
      "     ------------------------------ --------- 76.2/99.8 MB 6.1 MB/s eta 0:00:04\n",
      "     ------------------------------ --------- 76.4/99.8 MB 6.2 MB/s eta 0:00:04\n",
      "     ------------------------------ --------- 76.6/99.8 MB 6.2 MB/s eta 0:00:04\n",
      "     ------------------------------ --------- 76.9/99.8 MB 6.1 MB/s eta 0:00:04\n",
      "     ------------------------------ --------- 77.0/99.8 MB 6.1 MB/s eta 0:00:04\n",
      "     ------------------------------ --------- 77.3/99.8 MB 6.1 MB/s eta 0:00:04\n",
      "     ------------------------------- -------- 77.5/99.8 MB 6.1 MB/s eta 0:00:04\n",
      "     ------------------------------- -------- 77.8/99.8 MB 6.2 MB/s eta 0:00:04\n",
      "     ------------------------------- -------- 78.0/99.8 MB 6.2 MB/s eta 0:00:04\n",
      "     ------------------------------- -------- 78.2/99.8 MB 6.1 MB/s eta 0:00:04\n",
      "     ------------------------------- -------- 78.5/99.8 MB 6.2 MB/s eta 0:00:04\n",
      "     ------------------------------- -------- 78.7/99.8 MB 6.2 MB/s eta 0:00:04\n",
      "     ------------------------------- -------- 79.0/99.8 MB 6.1 MB/s eta 0:00:04\n",
      "     ------------------------------- -------- 79.3/99.8 MB 6.2 MB/s eta 0:00:04\n",
      "     ------------------------------- -------- 79.5/99.8 MB 6.2 MB/s eta 0:00:04\n",
      "     ------------------------------- -------- 79.7/99.8 MB 6.1 MB/s eta 0:00:04\n",
      "     -------------------------------- ------- 80.0/99.8 MB 6.2 MB/s eta 0:00:04\n",
      "     -------------------------------- ------- 80.3/99.8 MB 6.2 MB/s eta 0:00:04\n",
      "     -------------------------------- ------- 80.6/99.8 MB 6.2 MB/s eta 0:00:04\n",
      "     -------------------------------- ------- 80.8/99.8 MB 6.3 MB/s eta 0:00:04\n",
      "     -------------------------------- ------- 81.0/99.8 MB 6.2 MB/s eta 0:00:03\n",
      "     -------------------------------- ------- 81.3/99.8 MB 6.2 MB/s eta 0:00:03\n",
      "     -------------------------------- ------- 81.6/99.8 MB 6.3 MB/s eta 0:00:03\n",
      "     -------------------------------- ------- 81.8/99.8 MB 6.3 MB/s eta 0:00:03\n",
      "     -------------------------------- ------- 82.1/99.8 MB 6.4 MB/s eta 0:00:03\n",
      "     --------------------------------- ------ 82.4/99.8 MB 6.3 MB/s eta 0:00:03\n",
      "     --------------------------------- ------ 82.6/99.8 MB 6.2 MB/s eta 0:00:03\n",
      "     --------------------------------- ------ 82.9/99.8 MB 6.3 MB/s eta 0:00:03\n",
      "     --------------------------------- ------ 83.2/99.8 MB 6.3 MB/s eta 0:00:03\n",
      "     --------------------------------- ------ 83.5/99.8 MB 6.3 MB/s eta 0:00:03\n",
      "     --------------------------------- ------ 83.8/99.8 MB 6.3 MB/s eta 0:00:03\n",
      "     --------------------------------- ------ 84.1/99.8 MB 6.4 MB/s eta 0:00:03\n",
      "     --------------------------------- ------ 84.4/99.8 MB 6.4 MB/s eta 0:00:03\n",
      "     --------------------------------- ------ 84.7/99.8 MB 6.4 MB/s eta 0:00:03\n",
      "     ---------------------------------- ----- 84.9/99.8 MB 6.3 MB/s eta 0:00:03\n",
      "     ---------------------------------- ----- 85.1/99.8 MB 6.2 MB/s eta 0:00:03\n",
      "     ---------------------------------- ----- 85.2/99.8 MB 6.1 MB/s eta 0:00:03\n",
      "     ---------------------------------- ----- 85.3/99.8 MB 6.1 MB/s eta 0:00:03\n",
      "     ---------------------------------- ----- 85.5/99.8 MB 6.0 MB/s eta 0:00:03\n",
      "     ---------------------------------- ----- 85.6/99.8 MB 5.9 MB/s eta 0:00:03\n",
      "     ---------------------------------- ----- 85.8/99.8 MB 5.8 MB/s eta 0:00:03\n",
      "     ---------------------------------- ----- 85.9/99.8 MB 5.8 MB/s eta 0:00:03\n",
      "     ---------------------------------- ----- 86.1/99.8 MB 5.7 MB/s eta 0:00:03\n",
      "     ---------------------------------- ----- 86.3/99.8 MB 5.6 MB/s eta 0:00:03\n",
      "     ---------------------------------- ----- 86.4/99.8 MB 5.6 MB/s eta 0:00:03\n",
      "     ---------------------------------- ----- 86.6/99.8 MB 5.6 MB/s eta 0:00:03\n",
      "     ---------------------------------- ----- 86.7/99.8 MB 5.6 MB/s eta 0:00:03\n",
      "     ---------------------------------- ----- 86.9/99.8 MB 5.5 MB/s eta 0:00:03\n",
      "     ---------------------------------- ----- 87.0/99.8 MB 5.5 MB/s eta 0:00:03\n",
      "     ---------------------------------- ----- 87.2/99.8 MB 5.4 MB/s eta 0:00:03\n",
      "     ----------------------------------- ---- 87.3/99.8 MB 5.4 MB/s eta 0:00:03\n",
      "     ----------------------------------- ---- 87.5/99.8 MB 5.3 MB/s eta 0:00:03\n",
      "     ----------------------------------- ---- 87.6/99.8 MB 5.3 MB/s eta 0:00:03\n",
      "     ----------------------------------- ---- 87.7/99.8 MB 5.3 MB/s eta 0:00:03\n",
      "     ----------------------------------- ---- 87.9/99.8 MB 5.2 MB/s eta 0:00:03\n",
      "     ----------------------------------- ---- 88.1/99.8 MB 5.2 MB/s eta 0:00:03\n",
      "     ----------------------------------- ---- 88.2/99.8 MB 5.2 MB/s eta 0:00:03\n",
      "     ----------------------------------- ---- 88.4/99.8 MB 5.1 MB/s eta 0:00:03\n",
      "     ----------------------------------- ---- 88.6/99.8 MB 5.1 MB/s eta 0:00:03\n",
      "     ----------------------------------- ---- 88.8/99.8 MB 5.1 MB/s eta 0:00:03\n",
      "     ----------------------------------- ---- 89.0/99.8 MB 5.1 MB/s eta 0:00:03\n",
      "     ----------------------------------- ---- 89.2/99.8 MB 5.0 MB/s eta 0:00:03\n",
      "     ----------------------------------- ---- 89.4/99.8 MB 5.0 MB/s eta 0:00:03\n",
      "     ----------------------------------- ---- 89.7/99.8 MB 5.0 MB/s eta 0:00:02\n",
      "     ------------------------------------ --- 89.9/99.8 MB 5.0 MB/s eta 0:00:02\n",
      "     ------------------------------------ --- 90.1/99.8 MB 5.0 MB/s eta 0:00:02\n",
      "     ------------------------------------ --- 90.4/99.8 MB 5.0 MB/s eta 0:00:02\n",
      "     ------------------------------------ --- 90.7/99.8 MB 5.0 MB/s eta 0:00:02\n",
      "     ------------------------------------ --- 90.9/99.8 MB 5.0 MB/s eta 0:00:02\n",
      "     ------------------------------------ --- 91.1/99.8 MB 5.0 MB/s eta 0:00:02\n",
      "     ------------------------------------ --- 91.4/99.8 MB 5.0 MB/s eta 0:00:02\n",
      "     ------------------------------------ --- 91.6/99.8 MB 4.9 MB/s eta 0:00:02\n",
      "     ------------------------------------ --- 91.9/99.8 MB 4.9 MB/s eta 0:00:02\n",
      "     ------------------------------------ --- 92.2/99.8 MB 4.9 MB/s eta 0:00:02\n",
      "     ------------------------------------- -- 92.4/99.8 MB 4.9 MB/s eta 0:00:02\n",
      "     ------------------------------------- -- 92.7/99.8 MB 4.9 MB/s eta 0:00:02\n",
      "     ------------------------------------- -- 93.0/99.8 MB 5.0 MB/s eta 0:00:02\n",
      "     ------------------------------------- -- 93.3/99.8 MB 4.9 MB/s eta 0:00:02\n",
      "     ------------------------------------- -- 93.6/99.8 MB 5.0 MB/s eta 0:00:02\n",
      "     ------------------------------------- -- 93.8/99.8 MB 4.9 MB/s eta 0:00:02\n",
      "     ------------------------------------- -- 94.1/99.8 MB 5.0 MB/s eta 0:00:02\n",
      "     ------------------------------------- -- 94.4/99.8 MB 4.9 MB/s eta 0:00:02\n",
      "     ------------------------------------- -- 94.6/99.8 MB 4.9 MB/s eta 0:00:02\n",
      "     -------------------------------------- - 95.0/99.8 MB 4.9 MB/s eta 0:00:01\n",
      "     -------------------------------------- - 95.2/99.8 MB 5.0 MB/s eta 0:00:01\n",
      "     -------------------------------------- - 95.5/99.8 MB 5.1 MB/s eta 0:00:01\n",
      "     -------------------------------------- - 95.9/99.8 MB 5.2 MB/s eta 0:00:01\n",
      "     -------------------------------------- - 96.2/99.8 MB 5.3 MB/s eta 0:00:01\n",
      "     -------------------------------------- - 96.5/99.8 MB 5.5 MB/s eta 0:00:01\n",
      "     -------------------------------------- - 96.7/99.8 MB 5.5 MB/s eta 0:00:01\n",
      "     -------------------------------------- - 97.0/99.8 MB 5.6 MB/s eta 0:00:01\n",
      "     ---------------------------------------  97.3/99.8 MB 5.8 MB/s eta 0:00:01\n",
      "     ---------------------------------------  97.6/99.8 MB 6.0 MB/s eta 0:00:01\n",
      "     ---------------------------------------  98.0/99.8 MB 6.1 MB/s eta 0:00:01\n",
      "     ---------------------------------------  98.3/99.8 MB 6.3 MB/s eta 0:00:01\n",
      "     ---------------------------------------  98.6/99.8 MB 6.4 MB/s eta 0:00:01\n",
      "     ---------------------------------------  98.9/99.8 MB 6.5 MB/s eta 0:00:01\n",
      "     ---------------------------------------  99.1/99.8 MB 6.5 MB/s eta 0:00:01\n",
      "     ---------------------------------------  99.2/99.8 MB 6.5 MB/s eta 0:00:01\n",
      "     ---------------------------------------  99.3/99.8 MB 6.4 MB/s eta 0:00:01\n",
      "     ---------------------------------------  99.4/99.8 MB 6.4 MB/s eta 0:00:01\n",
      "     ---------------------------------------  99.6/99.8 MB 6.2 MB/s eta 0:00:01\n",
      "     ---------------------------------------  99.7/99.8 MB 6.1 MB/s eta 0:00:01\n",
      "     ---------------------------------------  99.7/99.8 MB 6.1 MB/s eta 0:00:01\n",
      "     ---------------------------------------  99.7/99.8 MB 6.1 MB/s eta 0:00:01\n",
      "     ---------------------------------------  99.7/99.8 MB 6.1 MB/s eta 0:00:01\n",
      "     ---------------------------------------  99.7/99.8 MB 6.1 MB/s eta 0:00:01\n",
      "     ---------------------------------------  99.7/99.8 MB 6.1 MB/s eta 0:00:01\n",
      "     ---------------------------------------  99.7/99.8 MB 6.1 MB/s eta 0:00:01\n",
      "     ---------------------------------------- 99.8/99.8 MB 5.1 MB/s eta 0:00:00\n",
      "Requirement already satisfied: scipy in c:\\users\\prajw\\anaconda3\\envs\\tensorflow\\lib\\site-packages (from xgboost) (1.10.1)\n",
      "Requirement already satisfied: numpy in c:\\users\\prajw\\anaconda3\\envs\\tensorflow\\lib\\site-packages (from xgboost) (1.24.3)\n",
      "Installing collected packages: xgboost\n",
      "Successfully installed xgboost-2.0.3\n",
      "Note: you may need to restart the kernel to use updated packages.\n"
     ]
    }
   ],
   "source": [
    "pip install xgboost"
   ]
  },
  {
   "cell_type": "code",
   "execution_count": 127,
   "id": "f10e56e9",
   "metadata": {},
   "outputs": [
    {
     "name": "stdout",
     "output_type": "stream",
     "text": [
      "0.5954067732342189\n"
     ]
    }
   ],
   "source": [
    "from xgboost import XGBRFRegressor\n",
    "\n",
    "xg = XGBRFRegressor(n_estimators=100,random_state=42)\n",
    "scores = cross_val_score(xg,X,y,cv=5,scoring='r2')\n",
    "print(scores.mean())"
   ]
  },
  {
   "cell_type": "code",
   "execution_count": 128,
   "id": "2db08e44",
   "metadata": {},
   "outputs": [
    {
     "data": {
      "text/html": [
       "<div>\n",
       "<style scoped>\n",
       "    .dataframe tbody tr th:only-of-type {\n",
       "        vertical-align: middle;\n",
       "    }\n",
       "\n",
       "    .dataframe tbody tr th {\n",
       "        vertical-align: top;\n",
       "    }\n",
       "\n",
       "    .dataframe thead th {\n",
       "        text-align: right;\n",
       "    }\n",
       "</style>\n",
       "<table border=\"1\" class=\"dataframe\">\n",
       "  <thead>\n",
       "    <tr style=\"text-align: right;\">\n",
       "      <th></th>\n",
       "      <th>feature</th>\n",
       "      <th>XGBRF_importance</th>\n",
       "    </tr>\n",
       "  </thead>\n",
       "  <tbody>\n",
       "    <tr>\n",
       "      <th>7</th>\n",
       "      <td>Outlet_Type</td>\n",
       "      <td>0.349864</td>\n",
       "    </tr>\n",
       "    <tr>\n",
       "      <th>5</th>\n",
       "      <td>Outlet_Size</td>\n",
       "      <td>0.192658</td>\n",
       "    </tr>\n",
       "    <tr>\n",
       "      <th>10</th>\n",
       "      <td>Outlet_age</td>\n",
       "      <td>0.175040</td>\n",
       "    </tr>\n",
       "    <tr>\n",
       "      <th>3</th>\n",
       "      <td>Item_MRP</td>\n",
       "      <td>0.131012</td>\n",
       "    </tr>\n",
       "    <tr>\n",
       "      <th>4</th>\n",
       "      <td>Outlet_Identifier</td>\n",
       "      <td>0.130735</td>\n",
       "    </tr>\n",
       "    <tr>\n",
       "      <th>6</th>\n",
       "      <td>Outlet_Location_Type</td>\n",
       "      <td>0.013184</td>\n",
       "    </tr>\n",
       "    <tr>\n",
       "      <th>9</th>\n",
       "      <td>Item_Visibility_interpolate</td>\n",
       "      <td>0.002493</td>\n",
       "    </tr>\n",
       "    <tr>\n",
       "      <th>8</th>\n",
       "      <td>Item_Weight_interploate</td>\n",
       "      <td>0.001770</td>\n",
       "    </tr>\n",
       "    <tr>\n",
       "      <th>2</th>\n",
       "      <td>Item_Type</td>\n",
       "      <td>0.001566</td>\n",
       "    </tr>\n",
       "    <tr>\n",
       "      <th>0</th>\n",
       "      <td>Item_Identifier</td>\n",
       "      <td>0.000999</td>\n",
       "    </tr>\n",
       "    <tr>\n",
       "      <th>1</th>\n",
       "      <td>Item_Fat_Content</td>\n",
       "      <td>0.000680</td>\n",
       "    </tr>\n",
       "  </tbody>\n",
       "</table>\n",
       "</div>"
      ],
      "text/plain": [
       "                        feature  XGBRF_importance\n",
       "7                   Outlet_Type          0.349864\n",
       "5                   Outlet_Size          0.192658\n",
       "10                   Outlet_age          0.175040\n",
       "3                      Item_MRP          0.131012\n",
       "4             Outlet_Identifier          0.130735\n",
       "6          Outlet_Location_Type          0.013184\n",
       "9   Item_Visibility_interpolate          0.002493\n",
       "8       Item_Weight_interploate          0.001770\n",
       "2                     Item_Type          0.001566\n",
       "0               Item_Identifier          0.000999\n",
       "1              Item_Fat_Content          0.000680"
      ]
     },
     "execution_count": 128,
     "metadata": {},
     "output_type": "execute_result"
    }
   ],
   "source": [
    "#Feature Importance for XGBRF as XGBRF >>> Random Forest\n",
    "xg = XGBRFRegressor(n_estimators=100,random_state=42)\n",
    "\n",
    "xg1 = xg.fit(X,y)\n",
    "pd.DataFrame({\n",
    "    'feature':X.columns,\n",
    "    'XGBRF_importance':xg1.feature_importances_\n",
    "    \n",
    "}).sort_values(by='XGBRF_importance',ascending=False)"
   ]
  },
  {
   "cell_type": "code",
   "execution_count": 129,
   "id": "11c9a4ef",
   "metadata": {},
   "outputs": [
    {
     "data": {
      "text/plain": [
       "['Item_Visibility_interpolate',\n",
       " 'Item_Weight_interploate',\n",
       " 'Item_Type',\n",
       " 'Outlet_Location_Type',\n",
       " 'Item_Identifier',\n",
       " 'Item_Fat_Content']"
      ]
     },
     "execution_count": 129,
     "metadata": {},
     "output_type": "execute_result"
    }
   ],
   "source": [
    "['Item_Visibility_interpolate','Item_Weight_interploate',\n",
    "'Item_Type','Outlet_Location_Type','Item_Identifier','Item_Fat_Content']"
   ]
  },
  {
   "cell_type": "code",
   "execution_count": 130,
   "id": "363276e3",
   "metadata": {},
   "outputs": [
    {
     "name": "stdout",
     "output_type": "stream",
     "text": [
      "0.5966037632320667\n"
     ]
    }
   ],
   "source": [
    "from xgboost import XGBRFRegressor\n",
    "\n",
    "xg = XGBRFRegressor(n_estimators=100,random_state=42)\n",
    "scores = cross_val_score(xg1,X.drop(['Item_Visibility_interpolate','Item_Weight_interploate',\n",
    "'Item_Type','Outlet_Location_Type','Item_Identifier','Item_Fat_Content'],axis=1),y,cv=5,scoring='r2')\n",
    "print(scores.mean())"
   ]
  },
  {
   "cell_type": "code",
   "execution_count": 131,
   "id": "18fa2dd4",
   "metadata": {},
   "outputs": [],
   "source": [
    "final_data = X.drop(columns=['Item_Visibility_interpolate','Item_Weight_interploate',\n",
    "'Item_Type','Outlet_Location_Type','Item_Identifier','Item_Fat_Content'],axis=1)"
   ]
  },
  {
   "cell_type": "code",
   "execution_count": 132,
   "id": "d6ca80f9",
   "metadata": {},
   "outputs": [
    {
     "data": {
      "text/html": [
       "<div>\n",
       "<style scoped>\n",
       "    .dataframe tbody tr th:only-of-type {\n",
       "        vertical-align: middle;\n",
       "    }\n",
       "\n",
       "    .dataframe tbody tr th {\n",
       "        vertical-align: top;\n",
       "    }\n",
       "\n",
       "    .dataframe thead th {\n",
       "        text-align: right;\n",
       "    }\n",
       "</style>\n",
       "<table border=\"1\" class=\"dataframe\">\n",
       "  <thead>\n",
       "    <tr style=\"text-align: right;\">\n",
       "      <th></th>\n",
       "      <th>Item_MRP</th>\n",
       "      <th>Outlet_Identifier</th>\n",
       "      <th>Outlet_Size</th>\n",
       "      <th>Outlet_Type</th>\n",
       "      <th>Outlet_age</th>\n",
       "    </tr>\n",
       "  </thead>\n",
       "  <tbody>\n",
       "    <tr>\n",
       "      <th>0</th>\n",
       "      <td>249.8092</td>\n",
       "      <td>9.0</td>\n",
       "      <td>1.0</td>\n",
       "      <td>1.0</td>\n",
       "      <td>25</td>\n",
       "    </tr>\n",
       "    <tr>\n",
       "      <th>1</th>\n",
       "      <td>48.2692</td>\n",
       "      <td>3.0</td>\n",
       "      <td>1.0</td>\n",
       "      <td>2.0</td>\n",
       "      <td>15</td>\n",
       "    </tr>\n",
       "    <tr>\n",
       "      <th>2</th>\n",
       "      <td>141.6180</td>\n",
       "      <td>9.0</td>\n",
       "      <td>1.0</td>\n",
       "      <td>1.0</td>\n",
       "      <td>25</td>\n",
       "    </tr>\n",
       "    <tr>\n",
       "      <th>3</th>\n",
       "      <td>182.0950</td>\n",
       "      <td>0.0</td>\n",
       "      <td>2.0</td>\n",
       "      <td>0.0</td>\n",
       "      <td>26</td>\n",
       "    </tr>\n",
       "    <tr>\n",
       "      <th>4</th>\n",
       "      <td>53.8614</td>\n",
       "      <td>1.0</td>\n",
       "      <td>0.0</td>\n",
       "      <td>1.0</td>\n",
       "      <td>37</td>\n",
       "    </tr>\n",
       "    <tr>\n",
       "      <th>...</th>\n",
       "      <td>...</td>\n",
       "      <td>...</td>\n",
       "      <td>...</td>\n",
       "      <td>...</td>\n",
       "      <td>...</td>\n",
       "    </tr>\n",
       "    <tr>\n",
       "      <th>8518</th>\n",
       "      <td>214.5218</td>\n",
       "      <td>1.0</td>\n",
       "      <td>0.0</td>\n",
       "      <td>1.0</td>\n",
       "      <td>37</td>\n",
       "    </tr>\n",
       "    <tr>\n",
       "      <th>8519</th>\n",
       "      <td>108.1570</td>\n",
       "      <td>7.0</td>\n",
       "      <td>2.0</td>\n",
       "      <td>1.0</td>\n",
       "      <td>22</td>\n",
       "    </tr>\n",
       "    <tr>\n",
       "      <th>8520</th>\n",
       "      <td>85.1224</td>\n",
       "      <td>6.0</td>\n",
       "      <td>2.0</td>\n",
       "      <td>1.0</td>\n",
       "      <td>20</td>\n",
       "    </tr>\n",
       "    <tr>\n",
       "      <th>8521</th>\n",
       "      <td>103.1332</td>\n",
       "      <td>3.0</td>\n",
       "      <td>1.0</td>\n",
       "      <td>2.0</td>\n",
       "      <td>15</td>\n",
       "    </tr>\n",
       "    <tr>\n",
       "      <th>8522</th>\n",
       "      <td>75.4670</td>\n",
       "      <td>8.0</td>\n",
       "      <td>2.0</td>\n",
       "      <td>1.0</td>\n",
       "      <td>27</td>\n",
       "    </tr>\n",
       "  </tbody>\n",
       "</table>\n",
       "<p>8523 rows × 5 columns</p>\n",
       "</div>"
      ],
      "text/plain": [
       "      Item_MRP  Outlet_Identifier  Outlet_Size  Outlet_Type  Outlet_age\n",
       "0     249.8092                9.0          1.0          1.0          25\n",
       "1      48.2692                3.0          1.0          2.0          15\n",
       "2     141.6180                9.0          1.0          1.0          25\n",
       "3     182.0950                0.0          2.0          0.0          26\n",
       "4      53.8614                1.0          0.0          1.0          37\n",
       "...        ...                ...          ...          ...         ...\n",
       "8518  214.5218                1.0          0.0          1.0          37\n",
       "8519  108.1570                7.0          2.0          1.0          22\n",
       "8520   85.1224                6.0          2.0          1.0          20\n",
       "8521  103.1332                3.0          1.0          2.0          15\n",
       "8522   75.4670                8.0          2.0          1.0          27\n",
       "\n",
       "[8523 rows x 5 columns]"
      ]
     },
     "execution_count": 132,
     "metadata": {},
     "output_type": "execute_result"
    }
   ],
   "source": [
    "final_data"
   ]
  },
  {
   "cell_type": "code",
   "execution_count": 134,
   "id": "b28c0f1c",
   "metadata": {},
   "outputs": [
    {
     "data": {
      "text/html": [
       "<div>\n",
       "<style scoped>\n",
       "    .dataframe tbody tr th:only-of-type {\n",
       "        vertical-align: middle;\n",
       "    }\n",
       "\n",
       "    .dataframe tbody tr th {\n",
       "        vertical-align: top;\n",
       "    }\n",
       "\n",
       "    .dataframe thead th {\n",
       "        text-align: right;\n",
       "    }\n",
       "</style>\n",
       "<table border=\"1\" class=\"dataframe\">\n",
       "  <thead>\n",
       "    <tr style=\"text-align: right;\">\n",
       "      <th></th>\n",
       "      <th>Item_MRP</th>\n",
       "      <th>Outlet_Identifier</th>\n",
       "      <th>Outlet_Size</th>\n",
       "      <th>Outlet_Type</th>\n",
       "      <th>Outlet_age</th>\n",
       "    </tr>\n",
       "  </thead>\n",
       "  <tbody>\n",
       "    <tr>\n",
       "      <th>0</th>\n",
       "      <td>249.8092</td>\n",
       "      <td>9.0</td>\n",
       "      <td>1.0</td>\n",
       "      <td>1.0</td>\n",
       "      <td>25</td>\n",
       "    </tr>\n",
       "    <tr>\n",
       "      <th>1</th>\n",
       "      <td>48.2692</td>\n",
       "      <td>3.0</td>\n",
       "      <td>1.0</td>\n",
       "      <td>2.0</td>\n",
       "      <td>15</td>\n",
       "    </tr>\n",
       "    <tr>\n",
       "      <th>2</th>\n",
       "      <td>141.6180</td>\n",
       "      <td>9.0</td>\n",
       "      <td>1.0</td>\n",
       "      <td>1.0</td>\n",
       "      <td>25</td>\n",
       "    </tr>\n",
       "    <tr>\n",
       "      <th>3</th>\n",
       "      <td>182.0950</td>\n",
       "      <td>0.0</td>\n",
       "      <td>2.0</td>\n",
       "      <td>0.0</td>\n",
       "      <td>26</td>\n",
       "    </tr>\n",
       "    <tr>\n",
       "      <th>4</th>\n",
       "      <td>53.8614</td>\n",
       "      <td>1.0</td>\n",
       "      <td>0.0</td>\n",
       "      <td>1.0</td>\n",
       "      <td>37</td>\n",
       "    </tr>\n",
       "  </tbody>\n",
       "</table>\n",
       "</div>"
      ],
      "text/plain": [
       "   Item_MRP  Outlet_Identifier  Outlet_Size  Outlet_Type  Outlet_age\n",
       "0  249.8092                9.0          1.0          1.0          25\n",
       "1   48.2692                3.0          1.0          2.0          15\n",
       "2  141.6180                9.0          1.0          1.0          25\n",
       "3  182.0950                0.0          2.0          0.0          26\n",
       "4   53.8614                1.0          0.0          1.0          37"
      ]
     },
     "execution_count": 134,
     "metadata": {},
     "output_type": "execute_result"
    }
   ],
   "source": [
    "final_data.head(5)"
   ]
  },
  {
   "cell_type": "code",
   "execution_count": 135,
   "id": "34005ce8",
   "metadata": {},
   "outputs": [],
   "source": [
    "#Final XGBRF model as more accurate\n",
    "from xgboost import XGBRFRegressor"
   ]
  },
  {
   "cell_type": "code",
   "execution_count": 137,
   "id": "ab9650a6",
   "metadata": {},
   "outputs": [],
   "source": [
    "xg_final = XGBRFRegressor()"
   ]
  },
  {
   "cell_type": "code",
   "execution_count": 138,
   "id": "785c28fd",
   "metadata": {},
   "outputs": [
    {
     "data": {
      "text/html": [
       "<style>#sk-container-id-1 {color: black;background-color: white;}#sk-container-id-1 pre{padding: 0;}#sk-container-id-1 div.sk-toggleable {background-color: white;}#sk-container-id-1 label.sk-toggleable__label {cursor: pointer;display: block;width: 100%;margin-bottom: 0;padding: 0.3em;box-sizing: border-box;text-align: center;}#sk-container-id-1 label.sk-toggleable__label-arrow:before {content: \"▸\";float: left;margin-right: 0.25em;color: #696969;}#sk-container-id-1 label.sk-toggleable__label-arrow:hover:before {color: black;}#sk-container-id-1 div.sk-estimator:hover label.sk-toggleable__label-arrow:before {color: black;}#sk-container-id-1 div.sk-toggleable__content {max-height: 0;max-width: 0;overflow: hidden;text-align: left;background-color: #f0f8ff;}#sk-container-id-1 div.sk-toggleable__content pre {margin: 0.2em;color: black;border-radius: 0.25em;background-color: #f0f8ff;}#sk-container-id-1 input.sk-toggleable__control:checked~div.sk-toggleable__content {max-height: 200px;max-width: 100%;overflow: auto;}#sk-container-id-1 input.sk-toggleable__control:checked~label.sk-toggleable__label-arrow:before {content: \"▾\";}#sk-container-id-1 div.sk-estimator input.sk-toggleable__control:checked~label.sk-toggleable__label {background-color: #d4ebff;}#sk-container-id-1 div.sk-label input.sk-toggleable__control:checked~label.sk-toggleable__label {background-color: #d4ebff;}#sk-container-id-1 input.sk-hidden--visually {border: 0;clip: rect(1px 1px 1px 1px);clip: rect(1px, 1px, 1px, 1px);height: 1px;margin: -1px;overflow: hidden;padding: 0;position: absolute;width: 1px;}#sk-container-id-1 div.sk-estimator {font-family: monospace;background-color: #f0f8ff;border: 1px dotted black;border-radius: 0.25em;box-sizing: border-box;margin-bottom: 0.5em;}#sk-container-id-1 div.sk-estimator:hover {background-color: #d4ebff;}#sk-container-id-1 div.sk-parallel-item::after {content: \"\";width: 100%;border-bottom: 1px solid gray;flex-grow: 1;}#sk-container-id-1 div.sk-label:hover label.sk-toggleable__label {background-color: #d4ebff;}#sk-container-id-1 div.sk-serial::before {content: \"\";position: absolute;border-left: 1px solid gray;box-sizing: border-box;top: 0;bottom: 0;left: 50%;z-index: 0;}#sk-container-id-1 div.sk-serial {display: flex;flex-direction: column;align-items: center;background-color: white;padding-right: 0.2em;padding-left: 0.2em;position: relative;}#sk-container-id-1 div.sk-item {position: relative;z-index: 1;}#sk-container-id-1 div.sk-parallel {display: flex;align-items: stretch;justify-content: center;background-color: white;position: relative;}#sk-container-id-1 div.sk-item::before, #sk-container-id-1 div.sk-parallel-item::before {content: \"\";position: absolute;border-left: 1px solid gray;box-sizing: border-box;top: 0;bottom: 0;left: 50%;z-index: -1;}#sk-container-id-1 div.sk-parallel-item {display: flex;flex-direction: column;z-index: 1;position: relative;background-color: white;}#sk-container-id-1 div.sk-parallel-item:first-child::after {align-self: flex-end;width: 50%;}#sk-container-id-1 div.sk-parallel-item:last-child::after {align-self: flex-start;width: 50%;}#sk-container-id-1 div.sk-parallel-item:only-child::after {width: 0;}#sk-container-id-1 div.sk-dashed-wrapped {border: 1px dashed gray;margin: 0 0.4em 0.5em 0.4em;box-sizing: border-box;padding-bottom: 0.4em;background-color: white;}#sk-container-id-1 div.sk-label label {font-family: monospace;font-weight: bold;display: inline-block;line-height: 1.2em;}#sk-container-id-1 div.sk-label-container {text-align: center;}#sk-container-id-1 div.sk-container {/* jupyter's `normalize.less` sets `[hidden] { display: none; }` but bootstrap.min.css set `[hidden] { display: none !important; }` so we also need the `!important` here to be able to override the default hidden behavior on the sphinx rendered scikit-learn.org. See: https://github.com/scikit-learn/scikit-learn/issues/21755 */display: inline-block !important;position: relative;}#sk-container-id-1 div.sk-text-repr-fallback {display: none;}</style><div id=\"sk-container-id-1\" class=\"sk-top-container\"><div class=\"sk-text-repr-fallback\"><pre>XGBRFRegressor(base_score=None, booster=None, callbacks=None,\n",
       "               colsample_bylevel=None, colsample_bytree=None, device=None,\n",
       "               early_stopping_rounds=None, enable_categorical=False,\n",
       "               eval_metric=None, feature_types=None, gamma=None,\n",
       "               grow_policy=None, importance_type=None,\n",
       "               interaction_constraints=None, max_bin=None,\n",
       "               max_cat_threshold=None, max_cat_to_onehot=None,\n",
       "               max_delta_step=None, max_depth=None, max_leaves=None,\n",
       "               min_child_weight=None, missing=nan, monotone_constraints=None,\n",
       "               multi_strategy=None, n_estimators=None, n_jobs=None,\n",
       "               num_parallel_tree=None, objective=&#x27;reg:squarederror&#x27;,\n",
       "               random_state=None, reg_alpha=None, ...)</pre><b>In a Jupyter environment, please rerun this cell to show the HTML representation or trust the notebook. <br />On GitHub, the HTML representation is unable to render, please try loading this page with nbviewer.org.</b></div><div class=\"sk-container\" hidden><div class=\"sk-item\"><div class=\"sk-estimator sk-toggleable\"><input class=\"sk-toggleable__control sk-hidden--visually\" id=\"sk-estimator-id-1\" type=\"checkbox\" checked><label for=\"sk-estimator-id-1\" class=\"sk-toggleable__label sk-toggleable__label-arrow\">XGBRFRegressor</label><div class=\"sk-toggleable__content\"><pre>XGBRFRegressor(base_score=None, booster=None, callbacks=None,\n",
       "               colsample_bylevel=None, colsample_bytree=None, device=None,\n",
       "               early_stopping_rounds=None, enable_categorical=False,\n",
       "               eval_metric=None, feature_types=None, gamma=None,\n",
       "               grow_policy=None, importance_type=None,\n",
       "               interaction_constraints=None, max_bin=None,\n",
       "               max_cat_threshold=None, max_cat_to_onehot=None,\n",
       "               max_delta_step=None, max_depth=None, max_leaves=None,\n",
       "               min_child_weight=None, missing=nan, monotone_constraints=None,\n",
       "               multi_strategy=None, n_estimators=None, n_jobs=None,\n",
       "               num_parallel_tree=None, objective=&#x27;reg:squarederror&#x27;,\n",
       "               random_state=None, reg_alpha=None, ...)</pre></div></div></div></div></div>"
      ],
      "text/plain": [
       "XGBRFRegressor(base_score=None, booster=None, callbacks=None,\n",
       "               colsample_bylevel=None, colsample_bytree=None, device=None,\n",
       "               early_stopping_rounds=None, enable_categorical=False,\n",
       "               eval_metric=None, feature_types=None, gamma=None,\n",
       "               grow_policy=None, importance_type=None,\n",
       "               interaction_constraints=None, max_bin=None,\n",
       "               max_cat_threshold=None, max_cat_to_onehot=None,\n",
       "               max_delta_step=None, max_depth=None, max_leaves=None,\n",
       "               min_child_weight=None, missing=nan, monotone_constraints=None,\n",
       "               multi_strategy=None, n_estimators=None, n_jobs=None,\n",
       "               num_parallel_tree=None, objective='reg:squarederror',\n",
       "               random_state=None, reg_alpha=None, ...)"
      ]
     },
     "execution_count": 138,
     "metadata": {},
     "output_type": "execute_result"
    }
   ],
   "source": [
    "xg_final.fit(final_data,y)"
   ]
  },
  {
   "cell_type": "code",
   "execution_count": 139,
   "id": "01b4c7f7",
   "metadata": {},
   "outputs": [],
   "source": [
    "from sklearn.model_selection import train_test_split\n",
    "from sklearn.metrics import mean_absolute_error"
   ]
  },
  {
   "cell_type": "code",
   "execution_count": 140,
   "id": "df778fc5",
   "metadata": {},
   "outputs": [],
   "source": [
    "X_train,X_test,y_train,y_test = train_test_split(final_data,y,test_size=0.20,random_state=42)"
   ]
  },
  {
   "cell_type": "code",
   "execution_count": 141,
   "id": "2defd3b2",
   "metadata": {},
   "outputs": [
    {
     "data": {
      "text/html": [
       "<style>#sk-container-id-2 {color: black;background-color: white;}#sk-container-id-2 pre{padding: 0;}#sk-container-id-2 div.sk-toggleable {background-color: white;}#sk-container-id-2 label.sk-toggleable__label {cursor: pointer;display: block;width: 100%;margin-bottom: 0;padding: 0.3em;box-sizing: border-box;text-align: center;}#sk-container-id-2 label.sk-toggleable__label-arrow:before {content: \"▸\";float: left;margin-right: 0.25em;color: #696969;}#sk-container-id-2 label.sk-toggleable__label-arrow:hover:before {color: black;}#sk-container-id-2 div.sk-estimator:hover label.sk-toggleable__label-arrow:before {color: black;}#sk-container-id-2 div.sk-toggleable__content {max-height: 0;max-width: 0;overflow: hidden;text-align: left;background-color: #f0f8ff;}#sk-container-id-2 div.sk-toggleable__content pre {margin: 0.2em;color: black;border-radius: 0.25em;background-color: #f0f8ff;}#sk-container-id-2 input.sk-toggleable__control:checked~div.sk-toggleable__content {max-height: 200px;max-width: 100%;overflow: auto;}#sk-container-id-2 input.sk-toggleable__control:checked~label.sk-toggleable__label-arrow:before {content: \"▾\";}#sk-container-id-2 div.sk-estimator input.sk-toggleable__control:checked~label.sk-toggleable__label {background-color: #d4ebff;}#sk-container-id-2 div.sk-label input.sk-toggleable__control:checked~label.sk-toggleable__label {background-color: #d4ebff;}#sk-container-id-2 input.sk-hidden--visually {border: 0;clip: rect(1px 1px 1px 1px);clip: rect(1px, 1px, 1px, 1px);height: 1px;margin: -1px;overflow: hidden;padding: 0;position: absolute;width: 1px;}#sk-container-id-2 div.sk-estimator {font-family: monospace;background-color: #f0f8ff;border: 1px dotted black;border-radius: 0.25em;box-sizing: border-box;margin-bottom: 0.5em;}#sk-container-id-2 div.sk-estimator:hover {background-color: #d4ebff;}#sk-container-id-2 div.sk-parallel-item::after {content: \"\";width: 100%;border-bottom: 1px solid gray;flex-grow: 1;}#sk-container-id-2 div.sk-label:hover label.sk-toggleable__label {background-color: #d4ebff;}#sk-container-id-2 div.sk-serial::before {content: \"\";position: absolute;border-left: 1px solid gray;box-sizing: border-box;top: 0;bottom: 0;left: 50%;z-index: 0;}#sk-container-id-2 div.sk-serial {display: flex;flex-direction: column;align-items: center;background-color: white;padding-right: 0.2em;padding-left: 0.2em;position: relative;}#sk-container-id-2 div.sk-item {position: relative;z-index: 1;}#sk-container-id-2 div.sk-parallel {display: flex;align-items: stretch;justify-content: center;background-color: white;position: relative;}#sk-container-id-2 div.sk-item::before, #sk-container-id-2 div.sk-parallel-item::before {content: \"\";position: absolute;border-left: 1px solid gray;box-sizing: border-box;top: 0;bottom: 0;left: 50%;z-index: -1;}#sk-container-id-2 div.sk-parallel-item {display: flex;flex-direction: column;z-index: 1;position: relative;background-color: white;}#sk-container-id-2 div.sk-parallel-item:first-child::after {align-self: flex-end;width: 50%;}#sk-container-id-2 div.sk-parallel-item:last-child::after {align-self: flex-start;width: 50%;}#sk-container-id-2 div.sk-parallel-item:only-child::after {width: 0;}#sk-container-id-2 div.sk-dashed-wrapped {border: 1px dashed gray;margin: 0 0.4em 0.5em 0.4em;box-sizing: border-box;padding-bottom: 0.4em;background-color: white;}#sk-container-id-2 div.sk-label label {font-family: monospace;font-weight: bold;display: inline-block;line-height: 1.2em;}#sk-container-id-2 div.sk-label-container {text-align: center;}#sk-container-id-2 div.sk-container {/* jupyter's `normalize.less` sets `[hidden] { display: none; }` but bootstrap.min.css set `[hidden] { display: none !important; }` so we also need the `!important` here to be able to override the default hidden behavior on the sphinx rendered scikit-learn.org. See: https://github.com/scikit-learn/scikit-learn/issues/21755 */display: inline-block !important;position: relative;}#sk-container-id-2 div.sk-text-repr-fallback {display: none;}</style><div id=\"sk-container-id-2\" class=\"sk-top-container\"><div class=\"sk-text-repr-fallback\"><pre>XGBRFRegressor(base_score=None, booster=None, callbacks=None,\n",
       "               colsample_bylevel=None, colsample_bytree=None, device=None,\n",
       "               early_stopping_rounds=None, enable_categorical=False,\n",
       "               eval_metric=None, feature_types=None, gamma=None,\n",
       "               grow_policy=None, importance_type=None,\n",
       "               interaction_constraints=None, max_bin=None,\n",
       "               max_cat_threshold=None, max_cat_to_onehot=None,\n",
       "               max_delta_step=None, max_depth=None, max_leaves=None,\n",
       "               min_child_weight=None, missing=nan, monotone_constraints=None,\n",
       "               multi_strategy=None, n_estimators=None, n_jobs=None,\n",
       "               num_parallel_tree=None, objective=&#x27;reg:squarederror&#x27;,\n",
       "               random_state=None, reg_alpha=None, ...)</pre><b>In a Jupyter environment, please rerun this cell to show the HTML representation or trust the notebook. <br />On GitHub, the HTML representation is unable to render, please try loading this page with nbviewer.org.</b></div><div class=\"sk-container\" hidden><div class=\"sk-item\"><div class=\"sk-estimator sk-toggleable\"><input class=\"sk-toggleable__control sk-hidden--visually\" id=\"sk-estimator-id-2\" type=\"checkbox\" checked><label for=\"sk-estimator-id-2\" class=\"sk-toggleable__label sk-toggleable__label-arrow\">XGBRFRegressor</label><div class=\"sk-toggleable__content\"><pre>XGBRFRegressor(base_score=None, booster=None, callbacks=None,\n",
       "               colsample_bylevel=None, colsample_bytree=None, device=None,\n",
       "               early_stopping_rounds=None, enable_categorical=False,\n",
       "               eval_metric=None, feature_types=None, gamma=None,\n",
       "               grow_policy=None, importance_type=None,\n",
       "               interaction_constraints=None, max_bin=None,\n",
       "               max_cat_threshold=None, max_cat_to_onehot=None,\n",
       "               max_delta_step=None, max_depth=None, max_leaves=None,\n",
       "               min_child_weight=None, missing=nan, monotone_constraints=None,\n",
       "               multi_strategy=None, n_estimators=None, n_jobs=None,\n",
       "               num_parallel_tree=None, objective=&#x27;reg:squarederror&#x27;,\n",
       "               random_state=None, reg_alpha=None, ...)</pre></div></div></div></div></div>"
      ],
      "text/plain": [
       "XGBRFRegressor(base_score=None, booster=None, callbacks=None,\n",
       "               colsample_bylevel=None, colsample_bytree=None, device=None,\n",
       "               early_stopping_rounds=None, enable_categorical=False,\n",
       "               eval_metric=None, feature_types=None, gamma=None,\n",
       "               grow_policy=None, importance_type=None,\n",
       "               interaction_constraints=None, max_bin=None,\n",
       "               max_cat_threshold=None, max_cat_to_onehot=None,\n",
       "               max_delta_step=None, max_depth=None, max_leaves=None,\n",
       "               min_child_weight=None, missing=nan, monotone_constraints=None,\n",
       "               multi_strategy=None, n_estimators=None, n_jobs=None,\n",
       "               num_parallel_tree=None, objective='reg:squarederror',\n",
       "               random_state=None, reg_alpha=None, ...)"
      ]
     },
     "execution_count": 141,
     "metadata": {},
     "output_type": "execute_result"
    }
   ],
   "source": [
    "xg_final.fit(X_train,y_train)"
   ]
  },
  {
   "cell_type": "code",
   "execution_count": 142,
   "id": "50b4537b",
   "metadata": {},
   "outputs": [],
   "source": [
    "y_pred = xg_final.predict(X_test)"
   ]
  },
  {
   "cell_type": "code",
   "execution_count": 143,
   "id": "db06c95d",
   "metadata": {},
   "outputs": [
    {
     "data": {
      "text/plain": [
       "713.9516489619299"
      ]
     },
     "execution_count": 143,
     "metadata": {},
     "output_type": "execute_result"
    }
   ],
   "source": [
    "mean_absolute_error(y_test,y_pred)"
   ]
  },
  {
   "cell_type": "code",
   "execution_count": 144,
   "id": "17c23361",
   "metadata": {},
   "outputs": [
    {
     "name": "stdout",
     "output_type": "stream",
     "text": [
      "1428.036\n"
     ]
    }
   ],
   "source": [
    "#Unseen Data\n",
    "pred = xg_final.predict(np.array([[85.1224,9.0,1.0,1.0,21]]))[0]\n",
    "print(pred)"
   ]
  },
  {
   "cell_type": "code",
   "execution_count": 145,
   "id": "cbbb3389",
   "metadata": {},
   "outputs": [
    {
     "name": "stdout",
     "output_type": "stream",
     "text": [
      "Sales Value is between 713.6160107421875 and 2142.4560107421876\n"
     ]
    }
   ],
   "source": [
    "print(f\"Sales Value is between {pred-714.42} and {pred+714.42}\")"
   ]
  },
  {
   "cell_type": "code",
   "execution_count": 146,
   "id": "8bf9f0a8",
   "metadata": {},
   "outputs": [],
   "source": [
    "import joblib"
   ]
  },
  {
   "cell_type": "code",
   "execution_count": 147,
   "id": "ccba7372",
   "metadata": {},
   "outputs": [
    {
     "data": {
      "text/plain": [
       "['bigmart_sales_pred_model']"
      ]
     },
     "execution_count": 147,
     "metadata": {},
     "output_type": "execute_result"
    }
   ],
   "source": [
    "joblib.dump(xg_final,'bigmart_sales_pred_model')"
   ]
  },
  {
   "cell_type": "code",
   "execution_count": 148,
   "id": "7643851b",
   "metadata": {},
   "outputs": [],
   "source": [
    "model = joblib.load('bigmart_sales_pred_model')"
   ]
  },
  {
   "cell_type": "code",
   "execution_count": 149,
   "id": "61d297f1",
   "metadata": {},
   "outputs": [
    {
     "name": "stdout",
     "output_type": "stream",
     "text": [
      "1428.036\n",
      "Sales Value is between 713.6160107421875 and 2142.4560107421876\n"
     ]
    }
   ],
   "source": [
    "pred = model.predict(np.array([[85.1224,9.0,1.0,1.0,21]]))[0]\n",
    "print(pred)\n",
    "\n",
    "print(f\"Sales Value is between {pred-714.42} and {pred+714.42}\")"
   ]
  },
  {
   "cell_type": "code",
   "execution_count": 150,
   "id": "08672988",
   "metadata": {},
   "outputs": [
    {
     "name": "stdout",
     "output_type": "stream",
     "text": [
      "2067.0864\n",
      "Sales Value is between 1352.66642578125 and 2781.50642578125\n"
     ]
    }
   ],
   "source": [
    "pred = model.predict(np.array([[141.6180,9.0,1.0,1.0,24]]))[0]\n",
    "print(pred)\n",
    "\n",
    "print(f\"Sales Value is between {pred-714.42} and {pred+714.42}\")"
   ]
  },
  {
   "cell_type": "code",
   "execution_count": null,
   "id": "7b130fc3",
   "metadata": {},
   "outputs": [],
   "source": []
  }
 ],
 "metadata": {
  "kernelspec": {
   "display_name": "Python 3 (ipykernel)",
   "language": "python",
   "name": "python3"
  },
  "language_info": {
   "codemirror_mode": {
    "name": "ipython",
    "version": 3
   },
   "file_extension": ".py",
   "mimetype": "text/x-python",
   "name": "python",
   "nbconvert_exporter": "python",
   "pygments_lexer": "ipython3",
   "version": "3.10.11"
  }
 },
 "nbformat": 4,
 "nbformat_minor": 5
}
